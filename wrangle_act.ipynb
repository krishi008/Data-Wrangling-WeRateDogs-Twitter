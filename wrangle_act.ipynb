{
 "cells": [
  {
   "cell_type": "markdown",
   "metadata": {},
   "source": [
    "# Gathering data\n"
   ]
  },
  {
   "cell_type": "code",
   "execution_count": 151,
   "metadata": {},
   "outputs": [],
   "source": [
    "# libraries required for the project\n",
    "import pandas as pd\n",
    "import numpy as np\n",
    "import requests \n",
    "from io import BytesIO  # converts bytes to IO files that can be read or written\n",
    "import tweepy\n",
    "import json\n",
    "import csv\n",
    "import os\n",
    "% matplotlib inline\n",
    "import matplotlib.pyplot as plt"
   ]
  },
  {
   "cell_type": "code",
   "execution_count": 152,
   "metadata": {},
   "outputs": [],
   "source": [
    "# Gather twitter_archive_data\n",
    "df_twitter_archive = pd.read_csv(\"twitter-archive-enhanced.csv\")"
   ]
  },
  {
   "cell_type": "code",
   "execution_count": 153,
   "metadata": {
    "scrolled": true
   },
   "outputs": [
    {
     "data": {
      "text/html": [
       "<div>\n",
       "<style scoped>\n",
       "    .dataframe tbody tr th:only-of-type {\n",
       "        vertical-align: middle;\n",
       "    }\n",
       "\n",
       "    .dataframe tbody tr th {\n",
       "        vertical-align: top;\n",
       "    }\n",
       "\n",
       "    .dataframe thead th {\n",
       "        text-align: right;\n",
       "    }\n",
       "</style>\n",
       "<table border=\"1\" class=\"dataframe\">\n",
       "  <thead>\n",
       "    <tr style=\"text-align: right;\">\n",
       "      <th></th>\n",
       "      <th>tweet_id</th>\n",
       "      <th>in_reply_to_status_id</th>\n",
       "      <th>in_reply_to_user_id</th>\n",
       "      <th>timestamp</th>\n",
       "      <th>source</th>\n",
       "      <th>text</th>\n",
       "      <th>retweeted_status_id</th>\n",
       "      <th>retweeted_status_user_id</th>\n",
       "      <th>retweeted_status_timestamp</th>\n",
       "      <th>expanded_urls</th>\n",
       "      <th>rating_numerator</th>\n",
       "      <th>rating_denominator</th>\n",
       "      <th>name</th>\n",
       "      <th>doggo</th>\n",
       "      <th>floofer</th>\n",
       "      <th>pupper</th>\n",
       "      <th>puppo</th>\n",
       "    </tr>\n",
       "  </thead>\n",
       "  <tbody>\n",
       "    <tr>\n",
       "      <th>0</th>\n",
       "      <td>892420643555336193</td>\n",
       "      <td>NaN</td>\n",
       "      <td>NaN</td>\n",
       "      <td>2017-08-01 16:23:56 +0000</td>\n",
       "      <td>&lt;a href=\"http://twitter.com/download/iphone\" r...</td>\n",
       "      <td>This is Phineas. He's a mystical boy. Only eve...</td>\n",
       "      <td>NaN</td>\n",
       "      <td>NaN</td>\n",
       "      <td>NaN</td>\n",
       "      <td>https://twitter.com/dog_rates/status/892420643...</td>\n",
       "      <td>13</td>\n",
       "      <td>10</td>\n",
       "      <td>Phineas</td>\n",
       "      <td>None</td>\n",
       "      <td>None</td>\n",
       "      <td>None</td>\n",
       "      <td>None</td>\n",
       "    </tr>\n",
       "    <tr>\n",
       "      <th>1</th>\n",
       "      <td>892177421306343426</td>\n",
       "      <td>NaN</td>\n",
       "      <td>NaN</td>\n",
       "      <td>2017-08-01 00:17:27 +0000</td>\n",
       "      <td>&lt;a href=\"http://twitter.com/download/iphone\" r...</td>\n",
       "      <td>This is Tilly. She's just checking pup on you....</td>\n",
       "      <td>NaN</td>\n",
       "      <td>NaN</td>\n",
       "      <td>NaN</td>\n",
       "      <td>https://twitter.com/dog_rates/status/892177421...</td>\n",
       "      <td>13</td>\n",
       "      <td>10</td>\n",
       "      <td>Tilly</td>\n",
       "      <td>None</td>\n",
       "      <td>None</td>\n",
       "      <td>None</td>\n",
       "      <td>None</td>\n",
       "    </tr>\n",
       "    <tr>\n",
       "      <th>2</th>\n",
       "      <td>891815181378084864</td>\n",
       "      <td>NaN</td>\n",
       "      <td>NaN</td>\n",
       "      <td>2017-07-31 00:18:03 +0000</td>\n",
       "      <td>&lt;a href=\"http://twitter.com/download/iphone\" r...</td>\n",
       "      <td>This is Archie. He is a rare Norwegian Pouncin...</td>\n",
       "      <td>NaN</td>\n",
       "      <td>NaN</td>\n",
       "      <td>NaN</td>\n",
       "      <td>https://twitter.com/dog_rates/status/891815181...</td>\n",
       "      <td>12</td>\n",
       "      <td>10</td>\n",
       "      <td>Archie</td>\n",
       "      <td>None</td>\n",
       "      <td>None</td>\n",
       "      <td>None</td>\n",
       "      <td>None</td>\n",
       "    </tr>\n",
       "    <tr>\n",
       "      <th>3</th>\n",
       "      <td>891689557279858688</td>\n",
       "      <td>NaN</td>\n",
       "      <td>NaN</td>\n",
       "      <td>2017-07-30 15:58:51 +0000</td>\n",
       "      <td>&lt;a href=\"http://twitter.com/download/iphone\" r...</td>\n",
       "      <td>This is Darla. She commenced a snooze mid meal...</td>\n",
       "      <td>NaN</td>\n",
       "      <td>NaN</td>\n",
       "      <td>NaN</td>\n",
       "      <td>https://twitter.com/dog_rates/status/891689557...</td>\n",
       "      <td>13</td>\n",
       "      <td>10</td>\n",
       "      <td>Darla</td>\n",
       "      <td>None</td>\n",
       "      <td>None</td>\n",
       "      <td>None</td>\n",
       "      <td>None</td>\n",
       "    </tr>\n",
       "    <tr>\n",
       "      <th>4</th>\n",
       "      <td>891327558926688256</td>\n",
       "      <td>NaN</td>\n",
       "      <td>NaN</td>\n",
       "      <td>2017-07-29 16:00:24 +0000</td>\n",
       "      <td>&lt;a href=\"http://twitter.com/download/iphone\" r...</td>\n",
       "      <td>This is Franklin. He would like you to stop ca...</td>\n",
       "      <td>NaN</td>\n",
       "      <td>NaN</td>\n",
       "      <td>NaN</td>\n",
       "      <td>https://twitter.com/dog_rates/status/891327558...</td>\n",
       "      <td>12</td>\n",
       "      <td>10</td>\n",
       "      <td>Franklin</td>\n",
       "      <td>None</td>\n",
       "      <td>None</td>\n",
       "      <td>None</td>\n",
       "      <td>None</td>\n",
       "    </tr>\n",
       "  </tbody>\n",
       "</table>\n",
       "</div>"
      ],
      "text/plain": [
       "             tweet_id  in_reply_to_status_id  in_reply_to_user_id  \\\n",
       "0  892420643555336193                    NaN                  NaN   \n",
       "1  892177421306343426                    NaN                  NaN   \n",
       "2  891815181378084864                    NaN                  NaN   \n",
       "3  891689557279858688                    NaN                  NaN   \n",
       "4  891327558926688256                    NaN                  NaN   \n",
       "\n",
       "                   timestamp  \\\n",
       "0  2017-08-01 16:23:56 +0000   \n",
       "1  2017-08-01 00:17:27 +0000   \n",
       "2  2017-07-31 00:18:03 +0000   \n",
       "3  2017-07-30 15:58:51 +0000   \n",
       "4  2017-07-29 16:00:24 +0000   \n",
       "\n",
       "                                              source  \\\n",
       "0  <a href=\"http://twitter.com/download/iphone\" r...   \n",
       "1  <a href=\"http://twitter.com/download/iphone\" r...   \n",
       "2  <a href=\"http://twitter.com/download/iphone\" r...   \n",
       "3  <a href=\"http://twitter.com/download/iphone\" r...   \n",
       "4  <a href=\"http://twitter.com/download/iphone\" r...   \n",
       "\n",
       "                                                text  retweeted_status_id  \\\n",
       "0  This is Phineas. He's a mystical boy. Only eve...                  NaN   \n",
       "1  This is Tilly. She's just checking pup on you....                  NaN   \n",
       "2  This is Archie. He is a rare Norwegian Pouncin...                  NaN   \n",
       "3  This is Darla. She commenced a snooze mid meal...                  NaN   \n",
       "4  This is Franklin. He would like you to stop ca...                  NaN   \n",
       "\n",
       "   retweeted_status_user_id retweeted_status_timestamp  \\\n",
       "0                       NaN                        NaN   \n",
       "1                       NaN                        NaN   \n",
       "2                       NaN                        NaN   \n",
       "3                       NaN                        NaN   \n",
       "4                       NaN                        NaN   \n",
       "\n",
       "                                       expanded_urls  rating_numerator  \\\n",
       "0  https://twitter.com/dog_rates/status/892420643...                13   \n",
       "1  https://twitter.com/dog_rates/status/892177421...                13   \n",
       "2  https://twitter.com/dog_rates/status/891815181...                12   \n",
       "3  https://twitter.com/dog_rates/status/891689557...                13   \n",
       "4  https://twitter.com/dog_rates/status/891327558...                12   \n",
       "\n",
       "   rating_denominator      name doggo floofer pupper puppo  \n",
       "0                  10   Phineas  None    None   None  None  \n",
       "1                  10     Tilly  None    None   None  None  \n",
       "2                  10    Archie  None    None   None  None  \n",
       "3                  10     Darla  None    None   None  None  \n",
       "4                  10  Franklin  None    None   None  None  "
      ]
     },
     "execution_count": 153,
     "metadata": {},
     "output_type": "execute_result"
    }
   ],
   "source": [
    "#Sanity check to make sure data is present in the dataframe\n",
    "df_twitter_archive.head(5)"
   ]
  },
  {
   "cell_type": "code",
   "execution_count": 154,
   "metadata": {},
   "outputs": [
    {
     "data": {
      "text/plain": [
       "(2356, 17)"
      ]
     },
     "execution_count": 154,
     "metadata": {},
     "output_type": "execute_result"
    }
   ],
   "source": [
    "df_twitter_archive.shape"
   ]
  },
  {
   "cell_type": "code",
   "execution_count": 155,
   "metadata": {},
   "outputs": [],
   "source": [
    "# Gather image data from the online library\n",
    "images_url= \"https://d17h27t6h515a5.cloudfront.net/topher/2017/August/599fd2ad_image-predictions/image-predictions.tsv\"\n",
    "response=requests.get(images_url)\n",
    "r=response.content\n",
    "df_images= pd.read_csv(BytesIO(r), sep=\"\\t\")"
   ]
  },
  {
   "cell_type": "code",
   "execution_count": 156,
   "metadata": {
    "scrolled": true
   },
   "outputs": [
    {
     "data": {
      "text/html": [
       "<div>\n",
       "<style scoped>\n",
       "    .dataframe tbody tr th:only-of-type {\n",
       "        vertical-align: middle;\n",
       "    }\n",
       "\n",
       "    .dataframe tbody tr th {\n",
       "        vertical-align: top;\n",
       "    }\n",
       "\n",
       "    .dataframe thead th {\n",
       "        text-align: right;\n",
       "    }\n",
       "</style>\n",
       "<table border=\"1\" class=\"dataframe\">\n",
       "  <thead>\n",
       "    <tr style=\"text-align: right;\">\n",
       "      <th></th>\n",
       "      <th>tweet_id</th>\n",
       "      <th>jpg_url</th>\n",
       "      <th>img_num</th>\n",
       "      <th>p1</th>\n",
       "      <th>p1_conf</th>\n",
       "      <th>p1_dog</th>\n",
       "      <th>p2</th>\n",
       "      <th>p2_conf</th>\n",
       "      <th>p2_dog</th>\n",
       "      <th>p3</th>\n",
       "      <th>p3_conf</th>\n",
       "      <th>p3_dog</th>\n",
       "    </tr>\n",
       "  </thead>\n",
       "  <tbody>\n",
       "    <tr>\n",
       "      <th>1381</th>\n",
       "      <td>765371061932261376</td>\n",
       "      <td>https://pbs.twimg.com/media/Cp8k6oRWcAUL78U.jpg</td>\n",
       "      <td>2</td>\n",
       "      <td>golden_retriever</td>\n",
       "      <td>0.829456</td>\n",
       "      <td>True</td>\n",
       "      <td>Labrador_retriever</td>\n",
       "      <td>0.089371</td>\n",
       "      <td>True</td>\n",
       "      <td>kuvasz</td>\n",
       "      <td>0.017028</td>\n",
       "      <td>True</td>\n",
       "    </tr>\n",
       "    <tr>\n",
       "      <th>1711</th>\n",
       "      <td>818536468981415936</td>\n",
       "      <td>https://pbs.twimg.com/media/C1wGkYoVQAAuC_O.jpg</td>\n",
       "      <td>1</td>\n",
       "      <td>swing</td>\n",
       "      <td>0.999403</td>\n",
       "      <td>False</td>\n",
       "      <td>Welsh_springer_spaniel</td>\n",
       "      <td>0.000062</td>\n",
       "      <td>True</td>\n",
       "      <td>bow</td>\n",
       "      <td>0.000030</td>\n",
       "      <td>False</td>\n",
       "    </tr>\n",
       "    <tr>\n",
       "      <th>1178</th>\n",
       "      <td>737826014890496000</td>\n",
       "      <td>https://pbs.twimg.com/media/Cj1I1fbWYAAOwff.jpg</td>\n",
       "      <td>1</td>\n",
       "      <td>vizsla</td>\n",
       "      <td>0.990391</td>\n",
       "      <td>True</td>\n",
       "      <td>Rhodesian_ridgeback</td>\n",
       "      <td>0.005605</td>\n",
       "      <td>True</td>\n",
       "      <td>Chesapeake_Bay_retriever</td>\n",
       "      <td>0.002869</td>\n",
       "      <td>True</td>\n",
       "    </tr>\n",
       "    <tr>\n",
       "      <th>850</th>\n",
       "      <td>695767669421768709</td>\n",
       "      <td>https://pbs.twimg.com/media/CafdAWCW0AE3Igl.jpg</td>\n",
       "      <td>1</td>\n",
       "      <td>soft-coated_wheaten_terrier</td>\n",
       "      <td>0.805139</td>\n",
       "      <td>True</td>\n",
       "      <td>Lakeland_terrier</td>\n",
       "      <td>0.121662</td>\n",
       "      <td>True</td>\n",
       "      <td>Afghan_hound</td>\n",
       "      <td>0.023303</td>\n",
       "      <td>True</td>\n",
       "    </tr>\n",
       "    <tr>\n",
       "      <th>1010</th>\n",
       "      <td>709409458133323776</td>\n",
       "      <td>https://pbs.twimg.com/media/CdhUIMSUIAA4wYK.jpg</td>\n",
       "      <td>1</td>\n",
       "      <td>Shetland_sheepdog</td>\n",
       "      <td>0.797450</td>\n",
       "      <td>True</td>\n",
       "      <td>collie</td>\n",
       "      <td>0.054055</td>\n",
       "      <td>True</td>\n",
       "      <td>keeshond</td>\n",
       "      <td>0.031673</td>\n",
       "      <td>True</td>\n",
       "    </tr>\n",
       "  </tbody>\n",
       "</table>\n",
       "</div>"
      ],
      "text/plain": [
       "                tweet_id                                          jpg_url  \\\n",
       "1381  765371061932261376  https://pbs.twimg.com/media/Cp8k6oRWcAUL78U.jpg   \n",
       "1711  818536468981415936  https://pbs.twimg.com/media/C1wGkYoVQAAuC_O.jpg   \n",
       "1178  737826014890496000  https://pbs.twimg.com/media/Cj1I1fbWYAAOwff.jpg   \n",
       "850   695767669421768709  https://pbs.twimg.com/media/CafdAWCW0AE3Igl.jpg   \n",
       "1010  709409458133323776  https://pbs.twimg.com/media/CdhUIMSUIAA4wYK.jpg   \n",
       "\n",
       "      img_num                           p1   p1_conf  p1_dog  \\\n",
       "1381        2             golden_retriever  0.829456    True   \n",
       "1711        1                        swing  0.999403   False   \n",
       "1178        1                       vizsla  0.990391    True   \n",
       "850         1  soft-coated_wheaten_terrier  0.805139    True   \n",
       "1010        1            Shetland_sheepdog  0.797450    True   \n",
       "\n",
       "                          p2   p2_conf  p2_dog                        p3  \\\n",
       "1381      Labrador_retriever  0.089371    True                    kuvasz   \n",
       "1711  Welsh_springer_spaniel  0.000062    True                       bow   \n",
       "1178     Rhodesian_ridgeback  0.005605    True  Chesapeake_Bay_retriever   \n",
       "850         Lakeland_terrier  0.121662    True              Afghan_hound   \n",
       "1010                  collie  0.054055    True                  keeshond   \n",
       "\n",
       "       p3_conf  p3_dog  \n",
       "1381  0.017028    True  \n",
       "1711  0.000030   False  \n",
       "1178  0.002869    True  \n",
       "850   0.023303    True  \n",
       "1010  0.031673    True  "
      ]
     },
     "execution_count": 156,
     "metadata": {},
     "output_type": "execute_result"
    }
   ],
   "source": [
    "# sanity check to make sure data is loaded into the the dataframe\n",
    "df_images.sample(5)"
   ]
  },
  {
   "cell_type": "code",
   "execution_count": 157,
   "metadata": {},
   "outputs": [
    {
     "data": {
      "text/plain": [
       "(2075, 12)"
      ]
     },
     "execution_count": 157,
     "metadata": {},
     "output_type": "execute_result"
    }
   ],
   "source": [
    "df_images.shape"
   ]
  },
  {
   "cell_type": "code",
   "execution_count": 158,
   "metadata": {},
   "outputs": [],
   "source": [
    "#Tweeter API invocation and Gathering tweet json data (retweet_count, favorite_count)\n",
    "consumer_key = 'xxxxx'\n",
    "consumer_secret = 'xxxxx'\n",
    "access_token = 'xxxxx'\n",
    "access_secret = 'xxxxx'\n",
    "\n",
    "auth=tweepy.OAuthHandler(consumer_key, consumer_secret)\n",
    "auth.set_access_token(access_token, access_secret)\n",
    "\n",
    "api=tweepy.API(auth)\n",
    "errored_tweet_ids=[]\n",
    "\n",
    "# write the querying JSON data into tweet_json.txt\n",
    "with open('tweet_json.txt','a',encoding = 'utf8') as f:\n",
    "    for each_tweet_id in df_twitter_archive['tweet_id']:\n",
    "        try:\n",
    "            tweet = api.get_status(each_tweet_id, tweet_mode = \"extended\",wait_on_rate_limit=\"True\", wait_on_rate_limit_notify=\"True\" ) # set mode to extended\n",
    "            json.dump(tweet._json, f)\n",
    "            f.write(\"\\n\")\n",
    "        except: \n",
    "            errored_tweet_ids.append(str(each_tweet_id))\n",
    "            print('ERROR: Error on tweet id {}'.format(each_tweet_id))\n",
    "            e = os.sys.exc_info()[0]"
   ]
  },
  {
   "cell_type": "code",
   "execution_count": 159,
   "metadata": {},
   "outputs": [],
   "source": [
    "#Create a empty list and appeneding each tweet data into it.\n",
    "tweets_data = []\n",
    "\n",
    "tweet_json = open('tweet_json.txt', 'r')\n",
    "\n",
    "for line in tweet_json:\n",
    "    each_tweet = json.loads(line)\n",
    "    tweets_data.append(each_tweet)\n",
    "    \n",
    "tweet_json.close()"
   ]
  },
  {
   "cell_type": "code",
   "execution_count": 160,
   "metadata": {},
   "outputs": [],
   "source": [
    "# lets create a dataframe \n",
    "df_tweet_data = pd.DataFrame()  \n",
    "\n",
    "df_tweet_data['id'] = list(map(lambda each_tweet: each_tweet['id'], tweets_data))\n",
    "\n",
    "df_tweet_data['retweet_count'] = list(map(lambda each_tweet: each_tweet['retweet_count'], tweets_data))\n",
    "\n",
    "df_tweet_data['favorite_count'] = list(map(lambda eachtweet: each_tweet['favorite_count'], tweets_data))"
   ]
  },
  {
   "cell_type": "code",
   "execution_count": 161,
   "metadata": {},
   "outputs": [],
   "source": [
    "#Creating dataframe from the csv file created above\n",
    "df_tweet_data=pd.read_csv(\"tweet_json.csv\")"
   ]
  },
  {
   "cell_type": "code",
   "execution_count": 162,
   "metadata": {},
   "outputs": [
    {
     "data": {
      "text/html": [
       "<div>\n",
       "<style scoped>\n",
       "    .dataframe tbody tr th:only-of-type {\n",
       "        vertical-align: middle;\n",
       "    }\n",
       "\n",
       "    .dataframe tbody tr th {\n",
       "        vertical-align: top;\n",
       "    }\n",
       "\n",
       "    .dataframe thead th {\n",
       "        text-align: right;\n",
       "    }\n",
       "</style>\n",
       "<table border=\"1\" class=\"dataframe\">\n",
       "  <thead>\n",
       "    <tr style=\"text-align: right;\">\n",
       "      <th></th>\n",
       "      <th>tweet_id</th>\n",
       "      <th>retweet_count</th>\n",
       "      <th>favorite_count</th>\n",
       "    </tr>\n",
       "  </thead>\n",
       "  <tbody>\n",
       "    <tr>\n",
       "      <th>0</th>\n",
       "      <td>892420643555336193</td>\n",
       "      <td>8203</td>\n",
       "      <td>37624</td>\n",
       "    </tr>\n",
       "    <tr>\n",
       "      <th>1</th>\n",
       "      <td>892177421306343426</td>\n",
       "      <td>6068</td>\n",
       "      <td>32334</td>\n",
       "    </tr>\n",
       "    <tr>\n",
       "      <th>2</th>\n",
       "      <td>891815181378084864</td>\n",
       "      <td>4011</td>\n",
       "      <td>24361</td>\n",
       "    </tr>\n",
       "    <tr>\n",
       "      <th>3</th>\n",
       "      <td>891689557279858688</td>\n",
       "      <td>8365</td>\n",
       "      <td>40949</td>\n",
       "    </tr>\n",
       "    <tr>\n",
       "      <th>4</th>\n",
       "      <td>891327558926688256</td>\n",
       "      <td>9057</td>\n",
       "      <td>39151</td>\n",
       "    </tr>\n",
       "  </tbody>\n",
       "</table>\n",
       "</div>"
      ],
      "text/plain": [
       "             tweet_id  retweet_count  favorite_count\n",
       "0  892420643555336193           8203           37624\n",
       "1  892177421306343426           6068           32334\n",
       "2  891815181378084864           4011           24361\n",
       "3  891689557279858688           8365           40949\n",
       "4  891327558926688256           9057           39151"
      ]
     },
     "execution_count": 162,
     "metadata": {},
     "output_type": "execute_result"
    }
   ],
   "source": [
    "#sanity check that the data is loaded in the data frame\n",
    "df_tweet_data.head(5)"
   ]
  },
  {
   "cell_type": "code",
   "execution_count": 163,
   "metadata": {},
   "outputs": [
    {
     "data": {
      "text/plain": [
       "(2337, 3)"
      ]
     },
     "execution_count": 163,
     "metadata": {},
     "output_type": "execute_result"
    }
   ],
   "source": [
    "df_tweet_data.shape"
   ]
  },
  {
   "cell_type": "markdown",
   "metadata": {},
   "source": [
    "# Assessing Data"
   ]
  },
  {
   "cell_type": "markdown",
   "metadata": {},
   "source": [
    "> We now have three data frames that need to be assessed, so we can clean them in the next step.\n",
    "\n",
    "- **df_twitter_archive**\n",
    "- **df_images**\n",
    "- **df_tweet_data**"
   ]
  },
  {
   "cell_type": "markdown",
   "metadata": {},
   "source": [
    "#### 1. Lets assess df_twitter_archive data frame"
   ]
  },
  {
   "cell_type": "code",
   "execution_count": 164,
   "metadata": {
    "scrolled": true
   },
   "outputs": [
    {
     "data": {
      "text/html": [
       "<div>\n",
       "<style scoped>\n",
       "    .dataframe tbody tr th:only-of-type {\n",
       "        vertical-align: middle;\n",
       "    }\n",
       "\n",
       "    .dataframe tbody tr th {\n",
       "        vertical-align: top;\n",
       "    }\n",
       "\n",
       "    .dataframe thead th {\n",
       "        text-align: right;\n",
       "    }\n",
       "</style>\n",
       "<table border=\"1\" class=\"dataframe\">\n",
       "  <thead>\n",
       "    <tr style=\"text-align: right;\">\n",
       "      <th></th>\n",
       "      <th>tweet_id</th>\n",
       "      <th>in_reply_to_status_id</th>\n",
       "      <th>in_reply_to_user_id</th>\n",
       "      <th>timestamp</th>\n",
       "      <th>source</th>\n",
       "      <th>text</th>\n",
       "      <th>retweeted_status_id</th>\n",
       "      <th>retweeted_status_user_id</th>\n",
       "      <th>retweeted_status_timestamp</th>\n",
       "      <th>expanded_urls</th>\n",
       "      <th>rating_numerator</th>\n",
       "      <th>rating_denominator</th>\n",
       "      <th>name</th>\n",
       "      <th>doggo</th>\n",
       "      <th>floofer</th>\n",
       "      <th>pupper</th>\n",
       "      <th>puppo</th>\n",
       "    </tr>\n",
       "  </thead>\n",
       "  <tbody>\n",
       "    <tr>\n",
       "      <th>0</th>\n",
       "      <td>892420643555336193</td>\n",
       "      <td>NaN</td>\n",
       "      <td>NaN</td>\n",
       "      <td>2017-08-01 16:23:56 +0000</td>\n",
       "      <td>&lt;a href=\"http://twitter.com/download/iphone\" r...</td>\n",
       "      <td>This is Phineas. He's a mystical boy. Only eve...</td>\n",
       "      <td>NaN</td>\n",
       "      <td>NaN</td>\n",
       "      <td>NaN</td>\n",
       "      <td>https://twitter.com/dog_rates/status/892420643...</td>\n",
       "      <td>13</td>\n",
       "      <td>10</td>\n",
       "      <td>Phineas</td>\n",
       "      <td>None</td>\n",
       "      <td>None</td>\n",
       "      <td>None</td>\n",
       "      <td>None</td>\n",
       "    </tr>\n",
       "    <tr>\n",
       "      <th>1</th>\n",
       "      <td>892177421306343426</td>\n",
       "      <td>NaN</td>\n",
       "      <td>NaN</td>\n",
       "      <td>2017-08-01 00:17:27 +0000</td>\n",
       "      <td>&lt;a href=\"http://twitter.com/download/iphone\" r...</td>\n",
       "      <td>This is Tilly. She's just checking pup on you....</td>\n",
       "      <td>NaN</td>\n",
       "      <td>NaN</td>\n",
       "      <td>NaN</td>\n",
       "      <td>https://twitter.com/dog_rates/status/892177421...</td>\n",
       "      <td>13</td>\n",
       "      <td>10</td>\n",
       "      <td>Tilly</td>\n",
       "      <td>None</td>\n",
       "      <td>None</td>\n",
       "      <td>None</td>\n",
       "      <td>None</td>\n",
       "    </tr>\n",
       "    <tr>\n",
       "      <th>2</th>\n",
       "      <td>891815181378084864</td>\n",
       "      <td>NaN</td>\n",
       "      <td>NaN</td>\n",
       "      <td>2017-07-31 00:18:03 +0000</td>\n",
       "      <td>&lt;a href=\"http://twitter.com/download/iphone\" r...</td>\n",
       "      <td>This is Archie. He is a rare Norwegian Pouncin...</td>\n",
       "      <td>NaN</td>\n",
       "      <td>NaN</td>\n",
       "      <td>NaN</td>\n",
       "      <td>https://twitter.com/dog_rates/status/891815181...</td>\n",
       "      <td>12</td>\n",
       "      <td>10</td>\n",
       "      <td>Archie</td>\n",
       "      <td>None</td>\n",
       "      <td>None</td>\n",
       "      <td>None</td>\n",
       "      <td>None</td>\n",
       "    </tr>\n",
       "    <tr>\n",
       "      <th>3</th>\n",
       "      <td>891689557279858688</td>\n",
       "      <td>NaN</td>\n",
       "      <td>NaN</td>\n",
       "      <td>2017-07-30 15:58:51 +0000</td>\n",
       "      <td>&lt;a href=\"http://twitter.com/download/iphone\" r...</td>\n",
       "      <td>This is Darla. She commenced a snooze mid meal...</td>\n",
       "      <td>NaN</td>\n",
       "      <td>NaN</td>\n",
       "      <td>NaN</td>\n",
       "      <td>https://twitter.com/dog_rates/status/891689557...</td>\n",
       "      <td>13</td>\n",
       "      <td>10</td>\n",
       "      <td>Darla</td>\n",
       "      <td>None</td>\n",
       "      <td>None</td>\n",
       "      <td>None</td>\n",
       "      <td>None</td>\n",
       "    </tr>\n",
       "    <tr>\n",
       "      <th>4</th>\n",
       "      <td>891327558926688256</td>\n",
       "      <td>NaN</td>\n",
       "      <td>NaN</td>\n",
       "      <td>2017-07-29 16:00:24 +0000</td>\n",
       "      <td>&lt;a href=\"http://twitter.com/download/iphone\" r...</td>\n",
       "      <td>This is Franklin. He would like you to stop ca...</td>\n",
       "      <td>NaN</td>\n",
       "      <td>NaN</td>\n",
       "      <td>NaN</td>\n",
       "      <td>https://twitter.com/dog_rates/status/891327558...</td>\n",
       "      <td>12</td>\n",
       "      <td>10</td>\n",
       "      <td>Franklin</td>\n",
       "      <td>None</td>\n",
       "      <td>None</td>\n",
       "      <td>None</td>\n",
       "      <td>None</td>\n",
       "    </tr>\n",
       "  </tbody>\n",
       "</table>\n",
       "</div>"
      ],
      "text/plain": [
       "             tweet_id  in_reply_to_status_id  in_reply_to_user_id  \\\n",
       "0  892420643555336193                    NaN                  NaN   \n",
       "1  892177421306343426                    NaN                  NaN   \n",
       "2  891815181378084864                    NaN                  NaN   \n",
       "3  891689557279858688                    NaN                  NaN   \n",
       "4  891327558926688256                    NaN                  NaN   \n",
       "\n",
       "                   timestamp  \\\n",
       "0  2017-08-01 16:23:56 +0000   \n",
       "1  2017-08-01 00:17:27 +0000   \n",
       "2  2017-07-31 00:18:03 +0000   \n",
       "3  2017-07-30 15:58:51 +0000   \n",
       "4  2017-07-29 16:00:24 +0000   \n",
       "\n",
       "                                              source  \\\n",
       "0  <a href=\"http://twitter.com/download/iphone\" r...   \n",
       "1  <a href=\"http://twitter.com/download/iphone\" r...   \n",
       "2  <a href=\"http://twitter.com/download/iphone\" r...   \n",
       "3  <a href=\"http://twitter.com/download/iphone\" r...   \n",
       "4  <a href=\"http://twitter.com/download/iphone\" r...   \n",
       "\n",
       "                                                text  retweeted_status_id  \\\n",
       "0  This is Phineas. He's a mystical boy. Only eve...                  NaN   \n",
       "1  This is Tilly. She's just checking pup on you....                  NaN   \n",
       "2  This is Archie. He is a rare Norwegian Pouncin...                  NaN   \n",
       "3  This is Darla. She commenced a snooze mid meal...                  NaN   \n",
       "4  This is Franklin. He would like you to stop ca...                  NaN   \n",
       "\n",
       "   retweeted_status_user_id retweeted_status_timestamp  \\\n",
       "0                       NaN                        NaN   \n",
       "1                       NaN                        NaN   \n",
       "2                       NaN                        NaN   \n",
       "3                       NaN                        NaN   \n",
       "4                       NaN                        NaN   \n",
       "\n",
       "                                       expanded_urls  rating_numerator  \\\n",
       "0  https://twitter.com/dog_rates/status/892420643...                13   \n",
       "1  https://twitter.com/dog_rates/status/892177421...                13   \n",
       "2  https://twitter.com/dog_rates/status/891815181...                12   \n",
       "3  https://twitter.com/dog_rates/status/891689557...                13   \n",
       "4  https://twitter.com/dog_rates/status/891327558...                12   \n",
       "\n",
       "   rating_denominator      name doggo floofer pupper puppo  \n",
       "0                  10   Phineas  None    None   None  None  \n",
       "1                  10     Tilly  None    None   None  None  \n",
       "2                  10    Archie  None    None   None  None  \n",
       "3                  10     Darla  None    None   None  None  \n",
       "4                  10  Franklin  None    None   None  None  "
      ]
     },
     "execution_count": 164,
     "metadata": {},
     "output_type": "execute_result"
    }
   ],
   "source": [
    "df_twitter_archive.head(5)"
   ]
  },
  {
   "cell_type": "markdown",
   "metadata": {},
   "source": [
    "> There seems to be 4 dog stage columns which is unneccesary, lets clean them up as part of tidiness issue"
   ]
  },
  {
   "cell_type": "code",
   "execution_count": 165,
   "metadata": {},
   "outputs": [
    {
     "data": {
      "text/plain": [
       "(2356, 17)"
      ]
     },
     "execution_count": 165,
     "metadata": {},
     "output_type": "execute_result"
    }
   ],
   "source": [
    "df_twitter_archive.shape"
   ]
  },
  {
   "cell_type": "code",
   "execution_count": 166,
   "metadata": {
    "scrolled": true
   },
   "outputs": [
    {
     "name": "stdout",
     "output_type": "stream",
     "text": [
      "<class 'pandas.core.frame.DataFrame'>\n",
      "RangeIndex: 2356 entries, 0 to 2355\n",
      "Data columns (total 17 columns):\n",
      "tweet_id                      2356 non-null int64\n",
      "in_reply_to_status_id         78 non-null float64\n",
      "in_reply_to_user_id           78 non-null float64\n",
      "timestamp                     2356 non-null object\n",
      "source                        2356 non-null object\n",
      "text                          2356 non-null object\n",
      "retweeted_status_id           181 non-null float64\n",
      "retweeted_status_user_id      181 non-null float64\n",
      "retweeted_status_timestamp    181 non-null object\n",
      "expanded_urls                 2297 non-null object\n",
      "rating_numerator              2356 non-null int64\n",
      "rating_denominator            2356 non-null int64\n",
      "name                          2356 non-null object\n",
      "doggo                         2356 non-null object\n",
      "floofer                       2356 non-null object\n",
      "pupper                        2356 non-null object\n",
      "puppo                         2356 non-null object\n",
      "dtypes: float64(4), int64(3), object(10)\n",
      "memory usage: 313.0+ KB\n"
     ]
    }
   ],
   "source": [
    "# checking the data types \n",
    "df_twitter_archive.info()"
   ]
  },
  {
   "cell_type": "markdown",
   "metadata": {},
   "source": [
    "> Lets make a note of what columns that we want to change the data type for. \n",
    "I want to change the data types for columns **timestamp.**"
   ]
  },
  {
   "cell_type": "code",
   "execution_count": 167,
   "metadata": {},
   "outputs": [
    {
     "data": {
      "text/plain": [
       "tweet_id                         0\n",
       "in_reply_to_status_id         2278\n",
       "in_reply_to_user_id           2278\n",
       "timestamp                        0\n",
       "source                           0\n",
       "text                             0\n",
       "retweeted_status_id           2175\n",
       "retweeted_status_user_id      2175\n",
       "retweeted_status_timestamp    2175\n",
       "expanded_urls                   59\n",
       "rating_numerator                 0\n",
       "rating_denominator               0\n",
       "name                             0\n",
       "doggo                            0\n",
       "floofer                          0\n",
       "pupper                           0\n",
       "puppo                            0\n",
       "dtype: int64"
      ]
     },
     "execution_count": 167,
     "metadata": {},
     "output_type": "execute_result"
    }
   ],
   "source": [
    "# checking if they are any null values in any of the columns that might effect for analysis\n",
    "df_twitter_archive.isnull().sum()"
   ]
  },
  {
   "cell_type": "markdown",
   "metadata": {},
   "source": [
    "> Okay, the columns that I am intrested seems to be fine. No action is needed here."
   ]
  },
  {
   "cell_type": "code",
   "execution_count": 168,
   "metadata": {},
   "outputs": [
    {
     "data": {
      "text/plain": [
       "181"
      ]
     },
     "execution_count": 168,
     "metadata": {},
     "output_type": "execute_result"
    }
   ],
   "source": [
    "# Checking the no of retweets as we want to delete them. Any row that has \"retweeted_status_id\" has a value is a retweet.\n",
    "len(df_twitter_archive[df_twitter_archive[\"retweeted_status_id\"].notnull()])"
   ]
  },
  {
   "cell_type": "markdown",
   "metadata": {},
   "source": [
    "> There are 181 rows that are retweets, lets delete them all in our cleaning step."
   ]
  },
  {
   "cell_type": "markdown",
   "metadata": {},
   "source": [
    "> Also, lets delete the unneccessary columns \"in_reply_to_status_id\" , \"in_reply_to_user_id\", \"retweeted_status_id\", \"retweeted_status_user_id \", \"retweeted_status_timestamp\" once we delete the retweets."
   ]
  },
  {
   "cell_type": "code",
   "execution_count": 169,
   "metadata": {
    "scrolled": true
   },
   "outputs": [
    {
     "data": {
      "text/html": [
       "<div>\n",
       "<style scoped>\n",
       "    .dataframe tbody tr th:only-of-type {\n",
       "        vertical-align: middle;\n",
       "    }\n",
       "\n",
       "    .dataframe tbody tr th {\n",
       "        vertical-align: top;\n",
       "    }\n",
       "\n",
       "    .dataframe thead th {\n",
       "        text-align: right;\n",
       "    }\n",
       "</style>\n",
       "<table border=\"1\" class=\"dataframe\">\n",
       "  <thead>\n",
       "    <tr style=\"text-align: right;\">\n",
       "      <th></th>\n",
       "      <th>tweet_id</th>\n",
       "      <th>in_reply_to_status_id</th>\n",
       "      <th>in_reply_to_user_id</th>\n",
       "      <th>timestamp</th>\n",
       "      <th>source</th>\n",
       "      <th>text</th>\n",
       "      <th>retweeted_status_id</th>\n",
       "      <th>retweeted_status_user_id</th>\n",
       "      <th>retweeted_status_timestamp</th>\n",
       "      <th>expanded_urls</th>\n",
       "      <th>rating_numerator</th>\n",
       "      <th>rating_denominator</th>\n",
       "      <th>name</th>\n",
       "      <th>doggo</th>\n",
       "      <th>floofer</th>\n",
       "      <th>pupper</th>\n",
       "      <th>puppo</th>\n",
       "    </tr>\n",
       "  </thead>\n",
       "  <tbody>\n",
       "  </tbody>\n",
       "</table>\n",
       "</div>"
      ],
      "text/plain": [
       "Empty DataFrame\n",
       "Columns: [tweet_id, in_reply_to_status_id, in_reply_to_user_id, timestamp, source, text, retweeted_status_id, retweeted_status_user_id, retweeted_status_timestamp, expanded_urls, rating_numerator, rating_denominator, name, doggo, floofer, pupper, puppo]\n",
       "Index: []"
      ]
     },
     "execution_count": 169,
     "metadata": {},
     "output_type": "execute_result"
    }
   ],
   "source": [
    "# checking for duplicate tweet_ids\n",
    "df_twitter_archive[df_twitter_archive[\"tweet_id\"].duplicated()]"
   ]
  },
  {
   "cell_type": "markdown",
   "metadata": {},
   "source": [
    "> Good news !!, there are no duplicates. No need to do anything here."
   ]
  },
  {
   "cell_type": "code",
   "execution_count": 170,
   "metadata": {
    "scrolled": true
   },
   "outputs": [
    {
     "data": {
      "text/plain": [
       "None         745\n",
       "a             55\n",
       "Charlie       12\n",
       "Oliver        11\n",
       "Lucy          11\n",
       "Cooper        11\n",
       "Tucker        10\n",
       "Penny         10\n",
       "Lola          10\n",
       "Bo             9\n",
       "Winston        9\n",
       "Sadie          8\n",
       "the            8\n",
       "Buddy          7\n",
       "Toby           7\n",
       "Daisy          7\n",
       "Bailey         7\n",
       "an             7\n",
       "Milo           6\n",
       "Koda           6\n",
       "Leo            6\n",
       "Stanley        6\n",
       "Bella          6\n",
       "Jack           6\n",
       "Jax            6\n",
       "Rusty          6\n",
       "Dave           6\n",
       "Oscar          6\n",
       "Scout          6\n",
       "very           5\n",
       "            ... \n",
       "Iggy           1\n",
       "Godzilla       1\n",
       "Jim            1\n",
       "Kuyu           1\n",
       "Ember          1\n",
       "Gòrdón         1\n",
       "Skittle        1\n",
       "Ralphé         1\n",
       "Amy            1\n",
       "Vinnie         1\n",
       "Winifred       1\n",
       "Pupcasso       1\n",
       "Jarvis         1\n",
       "Marvin         1\n",
       "Cermet         1\n",
       "Flurpson       1\n",
       "Kloey          1\n",
       "Rinna          1\n",
       "General        1\n",
       "Robin          1\n",
       "Randall        1\n",
       "Batdog         1\n",
       "Pancake        1\n",
       "Millie         1\n",
       "Trevith        1\n",
       "Kathmandu      1\n",
       "Cuddles        1\n",
       "Georgie        1\n",
       "Sundance       1\n",
       "Pherb          1\n",
       "Name: name, Length: 957, dtype: int64"
      ]
     },
     "execution_count": 170,
     "metadata": {},
     "output_type": "execute_result"
    }
   ],
   "source": [
    "# checking the \"name\" column.\n",
    "df_twitter_archive[\"name\"].value_counts()"
   ]
  },
  {
   "cell_type": "markdown",
   "metadata": {},
   "source": [
    "> Looks like are a few dog names that are missing or says \"None\". And also there are some dog names that are not meaningful. For example - \"a\", \"the\", \"an\". Lets examine these names and see if its a parsing issue.\n",
    "\n",
    "> Also, there seems to be a mix of upper case and lower case for the dogs, so lets clean them up."
   ]
  },
  {
   "cell_type": "code",
   "execution_count": 171,
   "metadata": {},
   "outputs": [
    {
     "data": {
      "text/plain": [
       "5       Here we have a majestic great white breaching ...\n",
       "7       When you watch your owner call another dog a g...\n",
       "12      Here's a puppo that seems to be on the fence a...\n",
       "24      You may not have known you needed to see this ...\n",
       "25      This... is a Jubilant Antarctic House Bear. We...\n",
       "30      @NonWhiteHat @MayhewMayhem omg hello tanner yo...\n",
       "32      RT @Athletics: 12/10 #BATP https://t.co/WxwJmv...\n",
       "35      I have a new hero and his name is Howard. 14/1...\n",
       "37      Here we have a corgi undercover as a malamute....\n",
       "41      I present to you, Pup in Hat. Pup in Hat is gr...\n",
       "42      OMG HE DIDN'T MEAN TO HE WAS JUST TRYING A LIT...\n",
       "47      Please only send dogs. We don't rate mechanics...\n",
       "55      @roushfenway These are good dogs but 17/10 is ...\n",
       "59      Ugh not again. We only rate dogs. Please don't...\n",
       "62      Please don't send in photos without dogs in th...\n",
       "64                        @RealKentMurphy 14/10 confirmed\n",
       "72      Martha is stunning how h*ckin dare you. 13/10 ...\n",
       "78      RT @rachel2195: @dog_rates the boyfriend and h...\n",
       "83      I can say with the pupmost confidence that the...\n",
       "88      You'll get your package when that precious man...\n",
       "89      Guys please stop sending pictures without any ...\n",
       "93      I can't believe this keeps happening. This, is...\n",
       "96      We usually don't rate Deck-bound Saskatoon Bla...\n",
       "99      Here's a very large dog. He has a date later. ...\n",
       "100     Here are my favorite #dogsatpollingstations \\n...\n",
       "101     RT @loganamnosis: Penelope here is doing me qu...\n",
       "103     We. Only. Rate. Dogs. Do not send in other thi...\n",
       "110     Never doubt a doggo 14/10 https://t.co/AbBLh2FZCH\n",
       "112     Real funny guys. Sending in a pic without a do...\n",
       "113     @ComplicitOwl @ShopWeRateDogs &gt;10/10 is res...\n",
       "                              ...                        \n",
       "2294    Extremely intelligent dog here. Has learned to...\n",
       "2298    After much debate this dog is being upgraded t...\n",
       "2299    Here we have a Hufflepuff. Loves vest. Eyes wi...\n",
       "2301              12/10 gimme now https://t.co/QZAnwgnOMB\n",
       "2305    My goodness. Very rare dog here. Large. Tail d...\n",
       "2306    These are Peruvian Feldspars. Their names are ...\n",
       "2307    12/10 simply brilliant pup https://t.co/V6ZzG4...\n",
       "2310    Unfamiliar with this breed. Ears pointy af. Wo...\n",
       "2316    Cool dog. Enjoys couch. Low monotone bark. Ver...\n",
       "2320    Here we see a lone northeastern Cumberbatch. H...\n",
       "2321    \"Can you behave? You're ruining my wedding day...\n",
       "2322    Oh boy what a pup! Sunglasses take this one to...\n",
       "2323    Here we have an Austrian Pulitzer. Collectors ...\n",
       "2324    *internally screaming* 12/10 https://t.co/YMcr...\n",
       "2328    Oh goodness. A super rare northeast Qdoba kang...\n",
       "2329    Those are sunglasses and a jean jacket. 11/10 ...\n",
       "2330    Unique dog here. Very small. Lives in containe...\n",
       "2331    Here we have a mixed Asiago from the Galápagos...\n",
       "2332    Look at this jokester thinking seat belt laws ...\n",
       "2336       Can take selfies 11/10 https://t.co/ws2AMaNwPW\n",
       "2337    Very concerned about fellow dog trapped in com...\n",
       "2338    Not familiar with this breed. No tail (weird)....\n",
       "2339    Oh my. Here you are seeing an Adobe Setter giv...\n",
       "2340    Can stand on stump for what seems like a while...\n",
       "2341    This appears to be a Mongolian Presbyterian mi...\n",
       "2342    Here we have a well-established sunblockerspan...\n",
       "2343    Let's hope this flight isn't Malaysian (lol). ...\n",
       "2344    Here we have a northern speckled Rhododendron....\n",
       "2351    Here we have a 1949 1st generation vulpix. Enj...\n",
       "2355    Here we have a Japanese Irish Setter. Lost eye...\n",
       "Name: text, Length: 745, dtype: object"
      ]
     },
     "execution_count": 171,
     "metadata": {},
     "output_type": "execute_result"
    }
   ],
   "source": [
    "# examine the names with \"a\", \"the\", \"an\", \"None\". Lets start with None\n",
    "df_twitter_archive[df_twitter_archive[\"name\"]==\"None\"].text"
   ]
  },
  {
   "cell_type": "code",
   "execution_count": 172,
   "metadata": {},
   "outputs": [
    {
     "data": {
      "text/plain": [
       "56      Here is a pupper approaching maximum borkdrive...\n",
       "649     Here is a perfect example of someone who has t...\n",
       "801     Guys this is getting so out of hand. We only r...\n",
       "1002    This is a mighty rare blue-tailed hammer sherk...\n",
       "1004    Viewer discretion is advised. This is a terrib...\n",
       "1017    This is a carrot. We only rate dogs. Please on...\n",
       "1049    This is a very rare Great Alaskan Bush Pupper....\n",
       "1193    People please. This is a Deadly Mediterranean ...\n",
       "1207    This is a taco. We only rate dogs. Please only...\n",
       "1340    Here is a heartbreaking scene of an incredible...\n",
       "1351    Here is a whole flock of puppers.  60/50 I'll ...\n",
       "1361    This is a Butternut Cumberfloof. It's not wind...\n",
       "1368    This is a Wild Tuscan Poofwiggle. Careful not ...\n",
       "1382    \"Pupper is a present to world. Here is a bow f...\n",
       "1499    This is a rare Arctic Wubberfloof. Unamused by...\n",
       "1737    Guys this really needs to stop. We've been ove...\n",
       "1785    This is a dog swinging. I really enjoyed it so...\n",
       "1853    This is a Sizzlin Menorah spaniel from Brookly...\n",
       "1854    Seriously guys?! Only send in dogs. I only rat...\n",
       "1877    C'mon guys. We've been over this. We only rate...\n",
       "1878    This is a fluffy albino Bacardi Columbia mix. ...\n",
       "1923    This is a Sagitariot Baklava mix. Loves her ne...\n",
       "1941    This is a heavily opinionated dog. Loves walls...\n",
       "1955    This is a Lofted Aphrodisiac Terrier named Kip...\n",
       "1994    This is a baby Rand Paul. Curls for days. 11/1...\n",
       "2034    This is a Tuscaloosa Alcatraz named Jacob (Yac...\n",
       "2066    This is a Helvetica Listerine named Rufus. Thi...\n",
       "2116    This is a Deciduous Trimester mix named Spork....\n",
       "2125    This is a Rich Mahogany Seltzer named Cherokee...\n",
       "2128    This is a Speckled Cauliflower Yosemite named ...\n",
       "2146    This is a spotted Lipitor Rumpelstiltskin name...\n",
       "2153    This is a brave dog. Excellent free climber. T...\n",
       "2161    This is a Coriander Baton Rouge named Alfredo....\n",
       "2191    This is a Slovakian Helter Skelter Feta named ...\n",
       "2198    This is a wild Toblerone from Papua New Guinea...\n",
       "2211    Here is a horned dog. Much grace. Can jump ove...\n",
       "2218    This is a Birmingham Quagmire named Chuk. Love...\n",
       "2222    Here is a mother dog caring for her pups. Snaz...\n",
       "2235    This is a Trans Siberian Kellogg named Alfonso...\n",
       "2249    This is a Shotokon Macadamia mix named Cheryl....\n",
       "2255    This is a rare Hungarian Pinot named Jessiga. ...\n",
       "2264    This is a southwest Coriander named Klint. Hat...\n",
       "2273    This is a northern Wahoo named Kohl. He runs t...\n",
       "2287    This is a Dasani Kingfisher from Maine. His na...\n",
       "2304    This is a curly Ticonderoga named Pepe. No fee...\n",
       "2311    This is a purebred Bacardi named Octaviath. Ca...\n",
       "2314    This is a golden Buckminsterfullerene named Jo...\n",
       "2327    This is a southern Vesuvius bumblegruff. Can d...\n",
       "2334    This is a funny dog. Weird toes. Won't come do...\n",
       "2347    My oh my. This is a rare blond Canadian terrie...\n",
       "2348    Here is a Siberian heavily armored polar bear ...\n",
       "2350    This is a truly beautiful English Wilson Staff...\n",
       "2352    This is a purebred Piers Morgan. Loves to Netf...\n",
       "2353    Here is a very happy pup. Big fan of well-main...\n",
       "2354    This is a western brown Mitsubishi terrier. Up...\n",
       "Name: text, dtype: object"
      ]
     },
     "execution_count": 172,
     "metadata": {},
     "output_type": "execute_result"
    }
   ],
   "source": [
    "df_twitter_archive[df_twitter_archive[\"name\"]==\"a\"].text"
   ]
  },
  {
   "cell_type": "code",
   "execution_count": 173,
   "metadata": {
    "scrolled": true
   },
   "outputs": [
    {
     "data": {
      "text/plain": [
       "1527    Stop sending in lobsters. This is the final wa...\n",
       "1603    This is the newly formed pupper a capella grou...\n",
       "1797    This is the happiest pupper I've ever seen. 10...\n",
       "1815    This is the saddest/sweetest/best picture I've...\n",
       "2037    This is the best thing I've ever seen so sprea...\n",
       "2212    Never forget this vine. You will not stop watc...\n",
       "2345    This is the happiest dog you will ever see. Ve...\n",
       "2346    Here is the Rand Paul of retrievers folks! He'...\n",
       "Name: text, dtype: object"
      ]
     },
     "execution_count": 173,
     "metadata": {},
     "output_type": "execute_result"
    }
   ],
   "source": [
    "df_twitter_archive[df_twitter_archive[\"name\"]==\"the\"].text"
   ]
  },
  {
   "cell_type": "code",
   "execution_count": 174,
   "metadata": {
    "scrolled": true
   },
   "outputs": [
    {
     "data": {
      "text/plain": [
       "759     RT @dog_rates: This is an East African Chalupa...\n",
       "1025    This is an Iraqi Speed Kangaroo. It is not a d...\n",
       "1362    This is an East African Chalupa Seal. We only ...\n",
       "2204    This is an Irish Rigatoni terrier named Berta....\n",
       "2333    This is an extremely rare horned Parthenon. No...\n",
       "2335    This is an Albanian 3 1/2 legged  Episcopalian...\n",
       "2349    This is an odd dog. Hard on the outside but lo...\n",
       "Name: text, dtype: object"
      ]
     },
     "execution_count": 174,
     "metadata": {},
     "output_type": "execute_result"
    }
   ],
   "source": [
    "df_twitter_archive[df_twitter_archive[\"name\"]==\"an\"].text"
   ]
  },
  {
   "cell_type": "markdown",
   "metadata": {},
   "source": [
    "> Some the issues seems to be parsing issue and some text really do not have a Dog name containg in it. For simplicity sake, let's change the dog names with \"a\", \"an\", \"the\" to \"None\"."
   ]
  },
  {
   "cell_type": "code",
   "execution_count": 175,
   "metadata": {},
   "outputs": [
    {
     "data": {
      "text/plain": [
       "<a href=\"http://twitter.com/download/iphone\" rel=\"nofollow\">Twitter for iPhone</a>     2221\n",
       "<a href=\"http://vine.co\" rel=\"nofollow\">Vine - Make a Scene</a>                          91\n",
       "<a href=\"http://twitter.com\" rel=\"nofollow\">Twitter Web Client</a>                       33\n",
       "<a href=\"https://about.twitter.com/products/tweetdeck\" rel=\"nofollow\">TweetDeck</a>      11\n",
       "Name: source, dtype: int64"
      ]
     },
     "execution_count": 175,
     "metadata": {},
     "output_type": "execute_result"
    }
   ],
   "source": [
    "# check different types of source \n",
    "df_twitter_archive[\"source\"].value_counts()"
   ]
  },
  {
   "cell_type": "markdown",
   "metadata": {},
   "source": [
    "> The source text seems funky, lets change to some thing more intelligble."
   ]
  },
  {
   "cell_type": "code",
   "execution_count": 176,
   "metadata": {
    "scrolled": true
   },
   "outputs": [
    {
     "data": {
      "text/plain": [
       "10     2333\n",
       "11        3\n",
       "50        3\n",
       "80        2\n",
       "20        2\n",
       "2         1\n",
       "16        1\n",
       "40        1\n",
       "70        1\n",
       "15        1\n",
       "90        1\n",
       "110       1\n",
       "120       1\n",
       "130       1\n",
       "150       1\n",
       "170       1\n",
       "7         1\n",
       "0         1\n",
       "Name: rating_denominator, dtype: int64"
      ]
     },
     "execution_count": 176,
     "metadata": {},
     "output_type": "execute_result"
    }
   ],
   "source": [
    "# checking the column denominator value_values to see if any values are other than 10\n",
    "df_twitter_archive[\"rating_denominator\"].value_counts()"
   ]
  },
  {
   "cell_type": "markdown",
   "metadata": {},
   "source": [
    "> Lets delete denominator with value 0"
   ]
  },
  {
   "cell_type": "code",
   "execution_count": 177,
   "metadata": {},
   "outputs": [
    {
     "data": {
      "text/plain": [
       "12      558\n",
       "11      464\n",
       "10      461\n",
       "13      351\n",
       "9       158\n",
       "8       102\n",
       "7        55\n",
       "14       54\n",
       "5        37\n",
       "6        32\n",
       "3        19\n",
       "4        17\n",
       "1         9\n",
       "2         9\n",
       "420       2\n",
       "0         2\n",
       "15        2\n",
       "75        2\n",
       "80        1\n",
       "20        1\n",
       "24        1\n",
       "26        1\n",
       "44        1\n",
       "50        1\n",
       "60        1\n",
       "165       1\n",
       "84        1\n",
       "88        1\n",
       "144       1\n",
       "182       1\n",
       "143       1\n",
       "666       1\n",
       "960       1\n",
       "1776      1\n",
       "17        1\n",
       "27        1\n",
       "45        1\n",
       "99        1\n",
       "121       1\n",
       "204       1\n",
       "Name: rating_numerator, dtype: int64"
      ]
     },
     "execution_count": 177,
     "metadata": {},
     "output_type": "execute_result"
    }
   ],
   "source": [
    "# checking the column numerator value_values to see if any values are other than 10\n",
    "df_twitter_archive[\"rating_numerator\"].value_counts()"
   ]
  },
  {
   "cell_type": "markdown",
   "metadata": {},
   "source": [
    "> There seems to be lot of numbers that seem very high. I am going to assume this is fed incorrectly and delete any rows that have **numerator_rating > 20.**"
   ]
  },
  {
   "cell_type": "markdown",
   "metadata": {},
   "source": [
    "#### 2. Lets assess df_images data frame"
   ]
  },
  {
   "cell_type": "code",
   "execution_count": 178,
   "metadata": {
    "scrolled": true
   },
   "outputs": [
    {
     "data": {
      "text/html": [
       "<div>\n",
       "<style scoped>\n",
       "    .dataframe tbody tr th:only-of-type {\n",
       "        vertical-align: middle;\n",
       "    }\n",
       "\n",
       "    .dataframe tbody tr th {\n",
       "        vertical-align: top;\n",
       "    }\n",
       "\n",
       "    .dataframe thead th {\n",
       "        text-align: right;\n",
       "    }\n",
       "</style>\n",
       "<table border=\"1\" class=\"dataframe\">\n",
       "  <thead>\n",
       "    <tr style=\"text-align: right;\">\n",
       "      <th></th>\n",
       "      <th>tweet_id</th>\n",
       "      <th>jpg_url</th>\n",
       "      <th>img_num</th>\n",
       "      <th>p1</th>\n",
       "      <th>p1_conf</th>\n",
       "      <th>p1_dog</th>\n",
       "      <th>p2</th>\n",
       "      <th>p2_conf</th>\n",
       "      <th>p2_dog</th>\n",
       "      <th>p3</th>\n",
       "      <th>p3_conf</th>\n",
       "      <th>p3_dog</th>\n",
       "    </tr>\n",
       "  </thead>\n",
       "  <tbody>\n",
       "    <tr>\n",
       "      <th>0</th>\n",
       "      <td>666020888022790149</td>\n",
       "      <td>https://pbs.twimg.com/media/CT4udn0WwAA0aMy.jpg</td>\n",
       "      <td>1</td>\n",
       "      <td>Welsh_springer_spaniel</td>\n",
       "      <td>0.465074</td>\n",
       "      <td>True</td>\n",
       "      <td>collie</td>\n",
       "      <td>0.156665</td>\n",
       "      <td>True</td>\n",
       "      <td>Shetland_sheepdog</td>\n",
       "      <td>0.061428</td>\n",
       "      <td>True</td>\n",
       "    </tr>\n",
       "    <tr>\n",
       "      <th>1</th>\n",
       "      <td>666029285002620928</td>\n",
       "      <td>https://pbs.twimg.com/media/CT42GRgUYAA5iDo.jpg</td>\n",
       "      <td>1</td>\n",
       "      <td>redbone</td>\n",
       "      <td>0.506826</td>\n",
       "      <td>True</td>\n",
       "      <td>miniature_pinscher</td>\n",
       "      <td>0.074192</td>\n",
       "      <td>True</td>\n",
       "      <td>Rhodesian_ridgeback</td>\n",
       "      <td>0.072010</td>\n",
       "      <td>True</td>\n",
       "    </tr>\n",
       "    <tr>\n",
       "      <th>2</th>\n",
       "      <td>666033412701032449</td>\n",
       "      <td>https://pbs.twimg.com/media/CT4521TWwAEvMyu.jpg</td>\n",
       "      <td>1</td>\n",
       "      <td>German_shepherd</td>\n",
       "      <td>0.596461</td>\n",
       "      <td>True</td>\n",
       "      <td>malinois</td>\n",
       "      <td>0.138584</td>\n",
       "      <td>True</td>\n",
       "      <td>bloodhound</td>\n",
       "      <td>0.116197</td>\n",
       "      <td>True</td>\n",
       "    </tr>\n",
       "    <tr>\n",
       "      <th>3</th>\n",
       "      <td>666044226329800704</td>\n",
       "      <td>https://pbs.twimg.com/media/CT5Dr8HUEAA-lEu.jpg</td>\n",
       "      <td>1</td>\n",
       "      <td>Rhodesian_ridgeback</td>\n",
       "      <td>0.408143</td>\n",
       "      <td>True</td>\n",
       "      <td>redbone</td>\n",
       "      <td>0.360687</td>\n",
       "      <td>True</td>\n",
       "      <td>miniature_pinscher</td>\n",
       "      <td>0.222752</td>\n",
       "      <td>True</td>\n",
       "    </tr>\n",
       "    <tr>\n",
       "      <th>4</th>\n",
       "      <td>666049248165822465</td>\n",
       "      <td>https://pbs.twimg.com/media/CT5IQmsXIAAKY4A.jpg</td>\n",
       "      <td>1</td>\n",
       "      <td>miniature_pinscher</td>\n",
       "      <td>0.560311</td>\n",
       "      <td>True</td>\n",
       "      <td>Rottweiler</td>\n",
       "      <td>0.243682</td>\n",
       "      <td>True</td>\n",
       "      <td>Doberman</td>\n",
       "      <td>0.154629</td>\n",
       "      <td>True</td>\n",
       "    </tr>\n",
       "  </tbody>\n",
       "</table>\n",
       "</div>"
      ],
      "text/plain": [
       "             tweet_id                                          jpg_url  \\\n",
       "0  666020888022790149  https://pbs.twimg.com/media/CT4udn0WwAA0aMy.jpg   \n",
       "1  666029285002620928  https://pbs.twimg.com/media/CT42GRgUYAA5iDo.jpg   \n",
       "2  666033412701032449  https://pbs.twimg.com/media/CT4521TWwAEvMyu.jpg   \n",
       "3  666044226329800704  https://pbs.twimg.com/media/CT5Dr8HUEAA-lEu.jpg   \n",
       "4  666049248165822465  https://pbs.twimg.com/media/CT5IQmsXIAAKY4A.jpg   \n",
       "\n",
       "   img_num                      p1   p1_conf  p1_dog                  p2  \\\n",
       "0        1  Welsh_springer_spaniel  0.465074    True              collie   \n",
       "1        1                 redbone  0.506826    True  miniature_pinscher   \n",
       "2        1         German_shepherd  0.596461    True            malinois   \n",
       "3        1     Rhodesian_ridgeback  0.408143    True             redbone   \n",
       "4        1      miniature_pinscher  0.560311    True          Rottweiler   \n",
       "\n",
       "    p2_conf  p2_dog                   p3   p3_conf  p3_dog  \n",
       "0  0.156665    True    Shetland_sheepdog  0.061428    True  \n",
       "1  0.074192    True  Rhodesian_ridgeback  0.072010    True  \n",
       "2  0.138584    True           bloodhound  0.116197    True  \n",
       "3  0.360687    True   miniature_pinscher  0.222752    True  \n",
       "4  0.243682    True             Doberman  0.154629    True  "
      ]
     },
     "execution_count": 178,
     "metadata": {},
     "output_type": "execute_result"
    }
   ],
   "source": [
    "df_images.head(5)"
   ]
  },
  {
   "cell_type": "code",
   "execution_count": 179,
   "metadata": {},
   "outputs": [
    {
     "data": {
      "text/plain": [
       "(2075, 12)"
      ]
     },
     "execution_count": 179,
     "metadata": {},
     "output_type": "execute_result"
    }
   ],
   "source": [
    "df_images.shape"
   ]
  },
  {
   "cell_type": "code",
   "execution_count": 180,
   "metadata": {
    "scrolled": false
   },
   "outputs": [
    {
     "name": "stdout",
     "output_type": "stream",
     "text": [
      "<class 'pandas.core.frame.DataFrame'>\n",
      "RangeIndex: 2075 entries, 0 to 2074\n",
      "Data columns (total 12 columns):\n",
      "tweet_id    2075 non-null int64\n",
      "jpg_url     2075 non-null object\n",
      "img_num     2075 non-null int64\n",
      "p1          2075 non-null object\n",
      "p1_conf     2075 non-null float64\n",
      "p1_dog      2075 non-null bool\n",
      "p2          2075 non-null object\n",
      "p2_conf     2075 non-null float64\n",
      "p2_dog      2075 non-null bool\n",
      "p3          2075 non-null object\n",
      "p3_conf     2075 non-null float64\n",
      "p3_dog      2075 non-null bool\n",
      "dtypes: bool(3), float64(3), int64(2), object(4)\n",
      "memory usage: 152.1+ KB\n"
     ]
    }
   ],
   "source": [
    "df_images.info()"
   ]
  },
  {
   "cell_type": "markdown",
   "metadata": {},
   "source": [
    "> Dog breeds in p1, p2, p3 columns seems to have a mix of upper case and lower case lets clean them up\n"
   ]
  },
  {
   "cell_type": "code",
   "execution_count": 181,
   "metadata": {},
   "outputs": [
    {
     "data": {
      "text/plain": [
       "324"
      ]
     },
     "execution_count": 181,
     "metadata": {},
     "output_type": "execute_result"
    }
   ],
   "source": [
    "len(df_images.query(\"p1_dog==False&p2_dog==False&p3_dog==False\"))"
   ]
  },
  {
   "cell_type": "markdown",
   "metadata": {},
   "source": [
    "> Seems like there are row where all the three algorithms predicted the image to be not dog. Lets take care of this  in the cleaning step. "
   ]
  },
  {
   "cell_type": "markdown",
   "metadata": {},
   "source": [
    "> Also lets melt down the columns p1_conf, p2_conf, p3_conf into one column by choosing the best algorithm  for each row. We will also create new columns \"algo\" to store the best choosen alogrithm, \"algo_conf\" to store the confidence of the algorithm choosen, \"dog_breed\" to store the predicited dog_breed.\n"
   ]
  },
  {
   "cell_type": "markdown",
   "metadata": {},
   "source": [
    "#### 2. Lets assess df_tweet_data data frame"
   ]
  },
  {
   "cell_type": "code",
   "execution_count": 182,
   "metadata": {
    "scrolled": true
   },
   "outputs": [
    {
     "data": {
      "text/html": [
       "<div>\n",
       "<style scoped>\n",
       "    .dataframe tbody tr th:only-of-type {\n",
       "        vertical-align: middle;\n",
       "    }\n",
       "\n",
       "    .dataframe tbody tr th {\n",
       "        vertical-align: top;\n",
       "    }\n",
       "\n",
       "    .dataframe thead th {\n",
       "        text-align: right;\n",
       "    }\n",
       "</style>\n",
       "<table border=\"1\" class=\"dataframe\">\n",
       "  <thead>\n",
       "    <tr style=\"text-align: right;\">\n",
       "      <th></th>\n",
       "      <th>tweet_id</th>\n",
       "      <th>retweet_count</th>\n",
       "      <th>favorite_count</th>\n",
       "    </tr>\n",
       "  </thead>\n",
       "  <tbody>\n",
       "    <tr>\n",
       "      <th>0</th>\n",
       "      <td>892420643555336193</td>\n",
       "      <td>8203</td>\n",
       "      <td>37624</td>\n",
       "    </tr>\n",
       "    <tr>\n",
       "      <th>1</th>\n",
       "      <td>892177421306343426</td>\n",
       "      <td>6068</td>\n",
       "      <td>32334</td>\n",
       "    </tr>\n",
       "    <tr>\n",
       "      <th>2</th>\n",
       "      <td>891815181378084864</td>\n",
       "      <td>4011</td>\n",
       "      <td>24361</td>\n",
       "    </tr>\n",
       "    <tr>\n",
       "      <th>3</th>\n",
       "      <td>891689557279858688</td>\n",
       "      <td>8365</td>\n",
       "      <td>40949</td>\n",
       "    </tr>\n",
       "    <tr>\n",
       "      <th>4</th>\n",
       "      <td>891327558926688256</td>\n",
       "      <td>9057</td>\n",
       "      <td>39151</td>\n",
       "    </tr>\n",
       "  </tbody>\n",
       "</table>\n",
       "</div>"
      ],
      "text/plain": [
       "             tweet_id  retweet_count  favorite_count\n",
       "0  892420643555336193           8203           37624\n",
       "1  892177421306343426           6068           32334\n",
       "2  891815181378084864           4011           24361\n",
       "3  891689557279858688           8365           40949\n",
       "4  891327558926688256           9057           39151"
      ]
     },
     "execution_count": 182,
     "metadata": {},
     "output_type": "execute_result"
    }
   ],
   "source": [
    "df_tweet_data.head(5)"
   ]
  },
  {
   "cell_type": "code",
   "execution_count": 183,
   "metadata": {},
   "outputs": [
    {
     "name": "stdout",
     "output_type": "stream",
     "text": [
      "<class 'pandas.core.frame.DataFrame'>\n",
      "RangeIndex: 2337 entries, 0 to 2336\n",
      "Data columns (total 3 columns):\n",
      "tweet_id          2337 non-null int64\n",
      "retweet_count     2337 non-null int64\n",
      "favorite_count    2337 non-null int64\n",
      "dtypes: int64(3)\n",
      "memory usage: 54.9 KB\n"
     ]
    }
   ],
   "source": [
    "df_tweet_data.info()"
   ]
  },
  {
   "cell_type": "code",
   "execution_count": 184,
   "metadata": {},
   "outputs": [
    {
     "data": {
      "text/plain": [
       "tweet_id          0\n",
       "retweet_count     0\n",
       "favorite_count    0\n",
       "dtype: int64"
      ]
     },
     "execution_count": 184,
     "metadata": {},
     "output_type": "execute_result"
    }
   ],
   "source": [
    "df_tweet_data.isnull().sum()"
   ]
  },
  {
   "cell_type": "markdown",
   "metadata": {},
   "source": [
    "> All the the data in df_tweet_data seems to be clean"
   ]
  },
  {
   "cell_type": "markdown",
   "metadata": {},
   "source": [
    "# Assessing the data - Final notes"
   ]
  },
  {
   "cell_type": "markdown",
   "metadata": {},
   "source": [
    "**1. Quality issues**\n",
    "\n",
    "<font color=blue>df_twitter_archive</font>\n",
    "-  will change the date type of the \"timestamp\" column.\n",
    "- \"name\" column with dog names \"a\", \"an\",\"the\" will be replaced by \"None.\"\n",
    "- ratings_denominator with 0 value will be deleted.\n",
    "-  \"ratings_numerator\" have some very high values. Will delete any rows with numerator values greater than 20 as they as absurdly high.\n",
    "- some dog names are upper case and some are lower case, will clean them up.\n",
    "- some of the values are missing in \"expanded url\" column, lets delete these columns.\n",
    "- will change the source type to be much more human readable.\n",
    "\n",
    "\n",
    "<font color=blue>df_images</font>\n",
    "- some dog breeds are in upper case and some are in lower case.\n",
    "- delete the rows where all three algorithms are prediciting the image not be a dog.\n",
    "\n",
    "<font color=blue>df_tweet_json</font>\n",
    "- None.\n",
    "\n",
    "**2. Tidiness issues**\n",
    "\n",
    "<font color=blue>df_twitter_archive</font>\n",
    "- delete the retweets. (I am considering this as tidiness issue as the data is fine, its just redudant)\n",
    "- remove the different dog stage columns (\"doggo\", \"floofer\", \"Pupper\", Puppo) and just have a new cloumn \"dog_stage\".\n",
    "- delete unnecessary columns from df_twitter_archive.\n",
    "- insert a new column \"Rating\" which is numerator/denominator.\n",
    "\n",
    "<font color=blue>df_images</font>\n",
    "- reduce the alogrithms columns (p1,p2,p3) and algorithms confidence columns(p1_conf, p2_conf, p3_conf) to\n",
    "have only \"algo\", \"algo_conf\"  and best predicted breed \"dog_breed\".\n",
    "- delete unnecessary columns.\n",
    "\n",
    "<font color=blue>df_tweet_data</font>\n",
    "- None.\n",
    "\n",
    "<font color=blue>Overall</font>\n",
    "- merge the three data frames into one master dataframe.\n",
    "\n"
   ]
  },
  {
   "cell_type": "markdown",
   "metadata": {},
   "source": [
    "# Cleaning the data"
   ]
  },
  {
   "cell_type": "markdown",
   "metadata": {},
   "source": [
    "### Lets clean up data quality issues on all the three data frames"
   ]
  },
  {
   "cell_type": "code",
   "execution_count": 185,
   "metadata": {},
   "outputs": [],
   "source": [
    "# but before we make any changes to the data frames lets make a copy of them\n",
    "df_twitter_archive_copy = df_twitter_archive.copy()\n",
    "df_images_copy = df_images.copy()\n",
    "df_tweet_data_copy= df_tweet_data.copy()"
   ]
  },
  {
   "cell_type": "markdown",
   "metadata": {},
   "source": [
    "#### df_twitter_archive "
   ]
  },
  {
   "cell_type": "markdown",
   "metadata": {},
   "source": [
    "**Define Quality issue 1**\n",
    "\n",
    "Change the data type of the the column \"timestamp\""
   ]
  },
  {
   "cell_type": "markdown",
   "metadata": {},
   "source": [
    "**Code**"
   ]
  },
  {
   "cell_type": "code",
   "execution_count": 186,
   "metadata": {},
   "outputs": [
    {
     "name": "stdout",
     "output_type": "stream",
     "text": [
      "datatype before is  object\n"
     ]
    }
   ],
   "source": [
    "# change the timestamp datatype in df_twitter_archive dataframe.\n",
    "#before \n",
    "print(\"datatype before is \", df_twitter_archive[\"timestamp\"].dtypes)\n",
    "\n",
    "#change\n",
    "df_twitter_archive[\"timestamp\"]=df_twitter_archive.timestamp.astype(\"datetime64[ns]\")\n",
    "\n"
   ]
  },
  {
   "cell_type": "markdown",
   "metadata": {},
   "source": [
    "**Test**"
   ]
  },
  {
   "cell_type": "code",
   "execution_count": 187,
   "metadata": {},
   "outputs": [
    {
     "name": "stdout",
     "output_type": "stream",
     "text": [
      "datatype before is  datetime64[ns]\n"
     ]
    }
   ],
   "source": [
    "#After \n",
    "print(\"datatype before is \",df_twitter_archive[\"timestamp\"].dtypes)"
   ]
  },
  {
   "cell_type": "markdown",
   "metadata": {},
   "source": [
    "**Define Quality issue 2**\n",
    "\n",
    "Replace dog names in the name column \"a\", \"an\",\"the\" will be replaced by \"None.\""
   ]
  },
  {
   "cell_type": "markdown",
   "metadata": {},
   "source": [
    "**Code**"
   ]
  },
  {
   "cell_type": "code",
   "execution_count": 188,
   "metadata": {},
   "outputs": [],
   "source": [
    "# Replace dog names with \"a\", \"an\", \"the\" to \"None\"\n",
    "df_twitter_archive[\"name\"].replace(\"a\", \"None\", inplace=True)\n",
    "df_twitter_archive[\"name\"].replace(\"an\", \"None\", inplace=True)\n",
    "df_twitter_archive[\"name\"].replace(\"the\", \"None\", inplace=True)"
   ]
  },
  {
   "cell_type": "markdown",
   "metadata": {},
   "source": [
    "**Test**"
   ]
  },
  {
   "cell_type": "code",
   "execution_count": 189,
   "metadata": {},
   "outputs": [
    {
     "name": "stdout",
     "output_type": "stream",
     "text": [
      "Number of dogs names with name 'a' is  0\n",
      "Number of dogs names with name 'an' is  0\n",
      "Number of dogs names with name 'the' is  0\n"
     ]
    }
   ],
   "source": [
    "#After effect\n",
    "print (\"Number of dogs names with name 'a' is \", len(df_twitter_archive[df_twitter_archive[\"name\"]==\"a\"]))\n",
    "print (\"Number of dogs names with name 'an' is \", len(df_twitter_archive[df_twitter_archive[\"name\"]==\"an\"]))\n",
    "print (\"Number of dogs names with name 'the' is \", len(df_twitter_archive[df_twitter_archive[\"name\"]==\"the\"]))"
   ]
  },
  {
   "cell_type": "markdown",
   "metadata": {},
   "source": [
    "**Define Quality issue 3**\n",
    "\n",
    "Delete ratings_denominator with 0 value will be deleted.\n"
   ]
  },
  {
   "cell_type": "markdown",
   "metadata": {},
   "source": [
    "**Code**"
   ]
  },
  {
   "cell_type": "code",
   "execution_count": 190,
   "metadata": {},
   "outputs": [],
   "source": [
    "#deleting row where rating_denominator is 0\n",
    "df_twitter_archive.drop(df_twitter_archive.index[df_twitter_archive[\"rating_denominator\"] == 0], inplace = True)"
   ]
  },
  {
   "cell_type": "markdown",
   "metadata": {},
   "source": [
    "**Test**"
   ]
  },
  {
   "cell_type": "code",
   "execution_count": 191,
   "metadata": {},
   "outputs": [
    {
     "data": {
      "text/plain": [
       "0"
      ]
     },
     "execution_count": 191,
     "metadata": {},
     "output_type": "execute_result"
    }
   ],
   "source": [
    "len(df_twitter_archive[df_twitter_archive[\"rating_denominator\"] == 0])"
   ]
  },
  {
   "cell_type": "markdown",
   "metadata": {},
   "source": [
    "**Define Quality issue 4**\n",
    "\n",
    "Delete rating_numerator with values > 20."
   ]
  },
  {
   "cell_type": "markdown",
   "metadata": {},
   "source": [
    "**Code**"
   ]
  },
  {
   "cell_type": "code",
   "execution_count": 192,
   "metadata": {},
   "outputs": [],
   "source": [
    "#Delete rows with rating_numerator value x>20\n",
    "df_twitter_archive.drop(df_twitter_archive.index[df_twitter_archive[\"rating_numerator\"] > 20], inplace = True)"
   ]
  },
  {
   "cell_type": "markdown",
   "metadata": {},
   "source": [
    "**Test**"
   ]
  },
  {
   "cell_type": "code",
   "execution_count": 193,
   "metadata": {
    "scrolled": true
   },
   "outputs": [
    {
     "data": {
      "text/plain": [
       "12    558\n",
       "11    464\n",
       "10    461\n",
       "13    351\n",
       "9     158\n",
       "8     102\n",
       "7      55\n",
       "14     54\n",
       "5      37\n",
       "6      32\n",
       "3      19\n",
       "4      17\n",
       "2       9\n",
       "1       9\n",
       "0       2\n",
       "15      2\n",
       "17      1\n",
       "20      1\n",
       "Name: rating_numerator, dtype: int64"
      ]
     },
     "execution_count": 193,
     "metadata": {},
     "output_type": "execute_result"
    }
   ],
   "source": [
    "#validation\n",
    "df_twitter_archive[\"rating_numerator\"].value_counts()"
   ]
  },
  {
   "cell_type": "markdown",
   "metadata": {},
   "source": [
    "**Define Quality issue 5**\n",
    "\n",
    "Change the dog names to all so that every names start with upper case.\n"
   ]
  },
  {
   "cell_type": "markdown",
   "metadata": {},
   "source": [
    "**Code**"
   ]
  },
  {
   "cell_type": "code",
   "execution_count": 194,
   "metadata": {},
   "outputs": [
    {
     "data": {
      "text/plain": [
       "22              such\n",
       "118            quite\n",
       "169            quite\n",
       "193            quite\n",
       "335              not\n",
       "369              one\n",
       "542       incredibly\n",
       "682              mad\n",
       "773             very\n",
       "819             very\n",
       "822             just\n",
       "852               my\n",
       "924              one\n",
       "988              not\n",
       "992              his\n",
       "993              one\n",
       "1031            very\n",
       "1040        actually\n",
       "1063            just\n",
       "1071         getting\n",
       "1095             mad\n",
       "1097            very\n",
       "1121    unacceptable\n",
       "1138             all\n",
       "1206             old\n",
       "1259     infuriating\n",
       "1385            very\n",
       "1435         getting\n",
       "1457            just\n",
       "1693        actually\n",
       "1724              by\n",
       "1747      officially\n",
       "1916            life\n",
       "1936             one\n",
       "2001           light\n",
       "2019            just\n",
       "2030           space\n",
       "2326           quite\n",
       "Name: name, dtype: object"
      ]
     },
     "execution_count": 194,
     "metadata": {},
     "output_type": "execute_result"
    }
   ],
   "source": [
    "df_twitter_archive[df_twitter_archive[\"name\"].str.islower()][\"name\"]"
   ]
  },
  {
   "cell_type": "code",
   "execution_count": 195,
   "metadata": {
    "scrolled": true
   },
   "outputs": [
    {
     "data": {
      "text/plain": [
       "38"
      ]
     },
     "execution_count": 195,
     "metadata": {},
     "output_type": "execute_result"
    }
   ],
   "source": [
    "df_twitter_archive[\"name\"].str.islower().sum()"
   ]
  },
  {
   "cell_type": "code",
   "execution_count": 196,
   "metadata": {},
   "outputs": [],
   "source": [
    "# lets capitalize them \n",
    "df_twitter_archive[\"name\"] = df_twitter_archive.name.str.capitalize()"
   ]
  },
  {
   "cell_type": "markdown",
   "metadata": {},
   "source": [
    "**Test**"
   ]
  },
  {
   "cell_type": "code",
   "execution_count": 197,
   "metadata": {
    "scrolled": true
   },
   "outputs": [
    {
     "data": {
      "text/plain": [
       "0"
      ]
     },
     "execution_count": 197,
     "metadata": {},
     "output_type": "execute_result"
    }
   ],
   "source": [
    "#validate\n",
    "df_twitter_archive[\"name\"].str.islower().sum()"
   ]
  },
  {
   "cell_type": "markdown",
   "metadata": {},
   "source": [
    "**Define Quality issue 6**\n",
    "\n",
    "Delete expanded  urls row with missing data.\n"
   ]
  },
  {
   "cell_type": "markdown",
   "metadata": {},
   "source": [
    "**Code**"
   ]
  },
  {
   "cell_type": "code",
   "execution_count": 198,
   "metadata": {},
   "outputs": [],
   "source": [
    "#delete rows with expanded urls with null values\n",
    "df_twitter_archive.dropna(subset = ['expanded_urls'], inplace=True)"
   ]
  },
  {
   "cell_type": "markdown",
   "metadata": {},
   "source": [
    "**Test**"
   ]
  },
  {
   "cell_type": "code",
   "execution_count": 199,
   "metadata": {},
   "outputs": [
    {
     "data": {
      "text/plain": [
       "0"
      ]
     },
     "execution_count": 199,
     "metadata": {},
     "output_type": "execute_result"
    }
   ],
   "source": [
    "#validate\n",
    "df_twitter_archive.expanded_urls.isnull().sum()"
   ]
  },
  {
   "cell_type": "markdown",
   "metadata": {},
   "source": [
    "**Define Quality issue 7**\n",
    "\n",
    "Change the \"source\" text to something that is human readable."
   ]
  },
  {
   "cell_type": "markdown",
   "metadata": {},
   "source": [
    "**Code**"
   ]
  },
  {
   "cell_type": "code",
   "execution_count": 200,
   "metadata": {},
   "outputs": [],
   "source": [
    "df_twitter_archive[\"source\"].replace('<a href=\"http://twitter.com/download/iphone\" rel=\"nofollow\">Twitter for iPhone</a>','iphone', inplace=True)\n",
    "df_twitter_archive[\"source\"].replace('<a href=\"http://twitter.com\" rel=\"nofollow\">Twitter Web Client</a>', 'Twitter Web', inplace=True)\n",
    "df_twitter_archive[\"source\"].replace('<a href=\"http://vine.co\" rel=\"nofollow\">Vine - Make a Scene</a>', 'Vine', inplace=True)\n",
    "df_twitter_archive[\"source\"].replace('<a href=\"https://about.twitter.com/products/tweetdeck\" rel=\"nofollow\">TweetDeck</a>', 'TweetDeck', inplace=True)"
   ]
  },
  {
   "cell_type": "markdown",
   "metadata": {},
   "source": [
    "**Test**"
   ]
  },
  {
   "cell_type": "code",
   "execution_count": 201,
   "metadata": {},
   "outputs": [
    {
     "data": {
      "text/plain": [
       "iphone         2144\n",
       "Vine             91\n",
       "Twitter Web      32\n",
       "TweetDeck        10\n",
       "Name: source, dtype: int64"
      ]
     },
     "execution_count": 201,
     "metadata": {},
     "output_type": "execute_result"
    }
   ],
   "source": [
    "df_twitter_archive[\"source\"].value_counts()"
   ]
  },
  {
   "cell_type": "markdown",
   "metadata": {},
   "source": [
    "**df_images**"
   ]
  },
  {
   "cell_type": "markdown",
   "metadata": {},
   "source": [
    "**Define  Quality issue 8**\n",
    "\n",
    "Delete the rows where all three predicitons (p*_dog) are False"
   ]
  },
  {
   "cell_type": "markdown",
   "metadata": {},
   "source": [
    "**Code**"
   ]
  },
  {
   "cell_type": "code",
   "execution_count": 202,
   "metadata": {},
   "outputs": [],
   "source": [
    "#lets delete the rows where all three algorithms are prediciting the image not be a dog\n",
    "indexNames = df_images[ (df_images[\"p1_dog\"] == False) & (df_images[\"p2_dog\"] == False) & (df_images[\"p3_dog\"] == False) ].index\n",
    "df_images.drop(indexNames , inplace=True)"
   ]
  },
  {
   "cell_type": "markdown",
   "metadata": {},
   "source": [
    "**Test**"
   ]
  },
  {
   "cell_type": "code",
   "execution_count": 203,
   "metadata": {},
   "outputs": [
    {
     "data": {
      "text/html": [
       "<div>\n",
       "<style scoped>\n",
       "    .dataframe tbody tr th:only-of-type {\n",
       "        vertical-align: middle;\n",
       "    }\n",
       "\n",
       "    .dataframe tbody tr th {\n",
       "        vertical-align: top;\n",
       "    }\n",
       "\n",
       "    .dataframe thead th {\n",
       "        text-align: right;\n",
       "    }\n",
       "</style>\n",
       "<table border=\"1\" class=\"dataframe\">\n",
       "  <thead>\n",
       "    <tr style=\"text-align: right;\">\n",
       "      <th></th>\n",
       "      <th>tweet_id</th>\n",
       "      <th>jpg_url</th>\n",
       "      <th>img_num</th>\n",
       "      <th>p1</th>\n",
       "      <th>p1_conf</th>\n",
       "      <th>p1_dog</th>\n",
       "      <th>p2</th>\n",
       "      <th>p2_conf</th>\n",
       "      <th>p2_dog</th>\n",
       "      <th>p3</th>\n",
       "      <th>p3_conf</th>\n",
       "      <th>p3_dog</th>\n",
       "    </tr>\n",
       "  </thead>\n",
       "  <tbody>\n",
       "  </tbody>\n",
       "</table>\n",
       "</div>"
      ],
      "text/plain": [
       "Empty DataFrame\n",
       "Columns: [tweet_id, jpg_url, img_num, p1, p1_conf, p1_dog, p2, p2_conf, p2_dog, p3, p3_conf, p3_dog]\n",
       "Index: []"
      ]
     },
     "execution_count": 203,
     "metadata": {},
     "output_type": "execute_result"
    }
   ],
   "source": [
    "#validation\n",
    "df_images.query(\"p1_dog==False and p2_dog==False and p3_dog==False\")"
   ]
  },
  {
   "cell_type": "markdown",
   "metadata": {},
   "source": [
    "**Define Quality issue 9**\n",
    "\n",
    "Change the dog breed columns to be consistent case (some are lower and some are upper)"
   ]
  },
  {
   "cell_type": "markdown",
   "metadata": {},
   "source": [
    "**Code**"
   ]
  },
  {
   "cell_type": "code",
   "execution_count": 204,
   "metadata": {
    "scrolled": true
   },
   "outputs": [
    {
     "name": "stdout",
     "output_type": "stream",
     "text": [
      "822\n",
      "794\n",
      "823\n"
     ]
    }
   ],
   "source": [
    "print (df_images[\"p1\"].str.islower().sum())\n",
    "print (df_images[\"p2\"].str.islower().sum())\n",
    "print (df_images[\"p3\"].str.islower().sum())"
   ]
  },
  {
   "cell_type": "code",
   "execution_count": 205,
   "metadata": {
    "scrolled": true
   },
   "outputs": [
    {
     "data": {
      "text/html": [
       "<div>\n",
       "<style scoped>\n",
       "    .dataframe tbody tr th:only-of-type {\n",
       "        vertical-align: middle;\n",
       "    }\n",
       "\n",
       "    .dataframe tbody tr th {\n",
       "        vertical-align: top;\n",
       "    }\n",
       "\n",
       "    .dataframe thead th {\n",
       "        text-align: right;\n",
       "    }\n",
       "</style>\n",
       "<table border=\"1\" class=\"dataframe\">\n",
       "  <thead>\n",
       "    <tr style=\"text-align: right;\">\n",
       "      <th></th>\n",
       "      <th>tweet_id</th>\n",
       "      <th>jpg_url</th>\n",
       "      <th>img_num</th>\n",
       "      <th>p1</th>\n",
       "      <th>p1_conf</th>\n",
       "      <th>p1_dog</th>\n",
       "      <th>p2</th>\n",
       "      <th>p2_conf</th>\n",
       "      <th>p2_dog</th>\n",
       "      <th>p3</th>\n",
       "      <th>p3_conf</th>\n",
       "      <th>p3_dog</th>\n",
       "    </tr>\n",
       "  </thead>\n",
       "  <tbody>\n",
       "    <tr>\n",
       "      <th>0</th>\n",
       "      <td>666020888022790149</td>\n",
       "      <td>https://pbs.twimg.com/media/CT4udn0WwAA0aMy.jpg</td>\n",
       "      <td>1</td>\n",
       "      <td>Welsh_springer_spaniel</td>\n",
       "      <td>0.465074</td>\n",
       "      <td>True</td>\n",
       "      <td>collie</td>\n",
       "      <td>0.156665</td>\n",
       "      <td>True</td>\n",
       "      <td>Shetland_sheepdog</td>\n",
       "      <td>0.061428</td>\n",
       "      <td>True</td>\n",
       "    </tr>\n",
       "    <tr>\n",
       "      <th>1</th>\n",
       "      <td>666029285002620928</td>\n",
       "      <td>https://pbs.twimg.com/media/CT42GRgUYAA5iDo.jpg</td>\n",
       "      <td>1</td>\n",
       "      <td>redbone</td>\n",
       "      <td>0.506826</td>\n",
       "      <td>True</td>\n",
       "      <td>miniature_pinscher</td>\n",
       "      <td>0.074192</td>\n",
       "      <td>True</td>\n",
       "      <td>Rhodesian_ridgeback</td>\n",
       "      <td>0.072010</td>\n",
       "      <td>True</td>\n",
       "    </tr>\n",
       "    <tr>\n",
       "      <th>2</th>\n",
       "      <td>666033412701032449</td>\n",
       "      <td>https://pbs.twimg.com/media/CT4521TWwAEvMyu.jpg</td>\n",
       "      <td>1</td>\n",
       "      <td>German_shepherd</td>\n",
       "      <td>0.596461</td>\n",
       "      <td>True</td>\n",
       "      <td>malinois</td>\n",
       "      <td>0.138584</td>\n",
       "      <td>True</td>\n",
       "      <td>bloodhound</td>\n",
       "      <td>0.116197</td>\n",
       "      <td>True</td>\n",
       "    </tr>\n",
       "    <tr>\n",
       "      <th>3</th>\n",
       "      <td>666044226329800704</td>\n",
       "      <td>https://pbs.twimg.com/media/CT5Dr8HUEAA-lEu.jpg</td>\n",
       "      <td>1</td>\n",
       "      <td>Rhodesian_ridgeback</td>\n",
       "      <td>0.408143</td>\n",
       "      <td>True</td>\n",
       "      <td>redbone</td>\n",
       "      <td>0.360687</td>\n",
       "      <td>True</td>\n",
       "      <td>miniature_pinscher</td>\n",
       "      <td>0.222752</td>\n",
       "      <td>True</td>\n",
       "    </tr>\n",
       "    <tr>\n",
       "      <th>4</th>\n",
       "      <td>666049248165822465</td>\n",
       "      <td>https://pbs.twimg.com/media/CT5IQmsXIAAKY4A.jpg</td>\n",
       "      <td>1</td>\n",
       "      <td>miniature_pinscher</td>\n",
       "      <td>0.560311</td>\n",
       "      <td>True</td>\n",
       "      <td>Rottweiler</td>\n",
       "      <td>0.243682</td>\n",
       "      <td>True</td>\n",
       "      <td>Doberman</td>\n",
       "      <td>0.154629</td>\n",
       "      <td>True</td>\n",
       "    </tr>\n",
       "  </tbody>\n",
       "</table>\n",
       "</div>"
      ],
      "text/plain": [
       "             tweet_id                                          jpg_url  \\\n",
       "0  666020888022790149  https://pbs.twimg.com/media/CT4udn0WwAA0aMy.jpg   \n",
       "1  666029285002620928  https://pbs.twimg.com/media/CT42GRgUYAA5iDo.jpg   \n",
       "2  666033412701032449  https://pbs.twimg.com/media/CT4521TWwAEvMyu.jpg   \n",
       "3  666044226329800704  https://pbs.twimg.com/media/CT5Dr8HUEAA-lEu.jpg   \n",
       "4  666049248165822465  https://pbs.twimg.com/media/CT5IQmsXIAAKY4A.jpg   \n",
       "\n",
       "   img_num                      p1   p1_conf  p1_dog                  p2  \\\n",
       "0        1  Welsh_springer_spaniel  0.465074    True              collie   \n",
       "1        1                 redbone  0.506826    True  miniature_pinscher   \n",
       "2        1         German_shepherd  0.596461    True            malinois   \n",
       "3        1     Rhodesian_ridgeback  0.408143    True             redbone   \n",
       "4        1      miniature_pinscher  0.560311    True          Rottweiler   \n",
       "\n",
       "    p2_conf  p2_dog                   p3   p3_conf  p3_dog  \n",
       "0  0.156665    True    Shetland_sheepdog  0.061428    True  \n",
       "1  0.074192    True  Rhodesian_ridgeback  0.072010    True  \n",
       "2  0.138584    True           bloodhound  0.116197    True  \n",
       "3  0.360687    True   miniature_pinscher  0.222752    True  \n",
       "4  0.243682    True             Doberman  0.154629    True  "
      ]
     },
     "execution_count": 205,
     "metadata": {},
     "output_type": "execute_result"
    }
   ],
   "source": [
    "df_images.head(5)"
   ]
  },
  {
   "cell_type": "code",
   "execution_count": 206,
   "metadata": {},
   "outputs": [],
   "source": [
    "# capitalize the first letter in each word\n",
    "df_images.p1=df_images.p1.str.capitalize()\n",
    "df_images.p2=df_images.p2.str.capitalize()\n",
    "df_images.p3=df_images.p3.str.capitalize()"
   ]
  },
  {
   "cell_type": "markdown",
   "metadata": {},
   "source": [
    "**Test**"
   ]
  },
  {
   "cell_type": "code",
   "execution_count": 207,
   "metadata": {},
   "outputs": [
    {
     "data": {
      "text/html": [
       "<div>\n",
       "<style scoped>\n",
       "    .dataframe tbody tr th:only-of-type {\n",
       "        vertical-align: middle;\n",
       "    }\n",
       "\n",
       "    .dataframe tbody tr th {\n",
       "        vertical-align: top;\n",
       "    }\n",
       "\n",
       "    .dataframe thead th {\n",
       "        text-align: right;\n",
       "    }\n",
       "</style>\n",
       "<table border=\"1\" class=\"dataframe\">\n",
       "  <thead>\n",
       "    <tr style=\"text-align: right;\">\n",
       "      <th></th>\n",
       "      <th>tweet_id</th>\n",
       "      <th>jpg_url</th>\n",
       "      <th>img_num</th>\n",
       "      <th>p1</th>\n",
       "      <th>p1_conf</th>\n",
       "      <th>p1_dog</th>\n",
       "      <th>p2</th>\n",
       "      <th>p2_conf</th>\n",
       "      <th>p2_dog</th>\n",
       "      <th>p3</th>\n",
       "      <th>p3_conf</th>\n",
       "      <th>p3_dog</th>\n",
       "    </tr>\n",
       "  </thead>\n",
       "  <tbody>\n",
       "    <tr>\n",
       "      <th>0</th>\n",
       "      <td>666020888022790149</td>\n",
       "      <td>https://pbs.twimg.com/media/CT4udn0WwAA0aMy.jpg</td>\n",
       "      <td>1</td>\n",
       "      <td>Welsh_springer_spaniel</td>\n",
       "      <td>0.465074</td>\n",
       "      <td>True</td>\n",
       "      <td>Collie</td>\n",
       "      <td>0.156665</td>\n",
       "      <td>True</td>\n",
       "      <td>Shetland_sheepdog</td>\n",
       "      <td>0.061428</td>\n",
       "      <td>True</td>\n",
       "    </tr>\n",
       "    <tr>\n",
       "      <th>1</th>\n",
       "      <td>666029285002620928</td>\n",
       "      <td>https://pbs.twimg.com/media/CT42GRgUYAA5iDo.jpg</td>\n",
       "      <td>1</td>\n",
       "      <td>Redbone</td>\n",
       "      <td>0.506826</td>\n",
       "      <td>True</td>\n",
       "      <td>Miniature_pinscher</td>\n",
       "      <td>0.074192</td>\n",
       "      <td>True</td>\n",
       "      <td>Rhodesian_ridgeback</td>\n",
       "      <td>0.072010</td>\n",
       "      <td>True</td>\n",
       "    </tr>\n",
       "    <tr>\n",
       "      <th>2</th>\n",
       "      <td>666033412701032449</td>\n",
       "      <td>https://pbs.twimg.com/media/CT4521TWwAEvMyu.jpg</td>\n",
       "      <td>1</td>\n",
       "      <td>German_shepherd</td>\n",
       "      <td>0.596461</td>\n",
       "      <td>True</td>\n",
       "      <td>Malinois</td>\n",
       "      <td>0.138584</td>\n",
       "      <td>True</td>\n",
       "      <td>Bloodhound</td>\n",
       "      <td>0.116197</td>\n",
       "      <td>True</td>\n",
       "    </tr>\n",
       "    <tr>\n",
       "      <th>3</th>\n",
       "      <td>666044226329800704</td>\n",
       "      <td>https://pbs.twimg.com/media/CT5Dr8HUEAA-lEu.jpg</td>\n",
       "      <td>1</td>\n",
       "      <td>Rhodesian_ridgeback</td>\n",
       "      <td>0.408143</td>\n",
       "      <td>True</td>\n",
       "      <td>Redbone</td>\n",
       "      <td>0.360687</td>\n",
       "      <td>True</td>\n",
       "      <td>Miniature_pinscher</td>\n",
       "      <td>0.222752</td>\n",
       "      <td>True</td>\n",
       "    </tr>\n",
       "    <tr>\n",
       "      <th>4</th>\n",
       "      <td>666049248165822465</td>\n",
       "      <td>https://pbs.twimg.com/media/CT5IQmsXIAAKY4A.jpg</td>\n",
       "      <td>1</td>\n",
       "      <td>Miniature_pinscher</td>\n",
       "      <td>0.560311</td>\n",
       "      <td>True</td>\n",
       "      <td>Rottweiler</td>\n",
       "      <td>0.243682</td>\n",
       "      <td>True</td>\n",
       "      <td>Doberman</td>\n",
       "      <td>0.154629</td>\n",
       "      <td>True</td>\n",
       "    </tr>\n",
       "  </tbody>\n",
       "</table>\n",
       "</div>"
      ],
      "text/plain": [
       "             tweet_id                                          jpg_url  \\\n",
       "0  666020888022790149  https://pbs.twimg.com/media/CT4udn0WwAA0aMy.jpg   \n",
       "1  666029285002620928  https://pbs.twimg.com/media/CT42GRgUYAA5iDo.jpg   \n",
       "2  666033412701032449  https://pbs.twimg.com/media/CT4521TWwAEvMyu.jpg   \n",
       "3  666044226329800704  https://pbs.twimg.com/media/CT5Dr8HUEAA-lEu.jpg   \n",
       "4  666049248165822465  https://pbs.twimg.com/media/CT5IQmsXIAAKY4A.jpg   \n",
       "\n",
       "   img_num                      p1   p1_conf  p1_dog                  p2  \\\n",
       "0        1  Welsh_springer_spaniel  0.465074    True              Collie   \n",
       "1        1                 Redbone  0.506826    True  Miniature_pinscher   \n",
       "2        1         German_shepherd  0.596461    True            Malinois   \n",
       "3        1     Rhodesian_ridgeback  0.408143    True             Redbone   \n",
       "4        1      Miniature_pinscher  0.560311    True          Rottweiler   \n",
       "\n",
       "    p2_conf  p2_dog                   p3   p3_conf  p3_dog  \n",
       "0  0.156665    True    Shetland_sheepdog  0.061428    True  \n",
       "1  0.074192    True  Rhodesian_ridgeback  0.072010    True  \n",
       "2  0.138584    True           Bloodhound  0.116197    True  \n",
       "3  0.360687    True   Miniature_pinscher  0.222752    True  \n",
       "4  0.243682    True             Doberman  0.154629    True  "
      ]
     },
     "execution_count": 207,
     "metadata": {},
     "output_type": "execute_result"
    }
   ],
   "source": [
    "#validate\n",
    "df_images.head(5)"
   ]
  },
  {
   "cell_type": "markdown",
   "metadata": {},
   "source": [
    "### 2. Lets clean up Tidiness issues"
   ]
  },
  {
   "cell_type": "markdown",
   "metadata": {},
   "source": [
    "#### df_twitter_archive"
   ]
  },
  {
   "cell_type": "markdown",
   "metadata": {},
   "source": [
    "**Define Tidiness issue 1**\n",
    "\n",
    "Delete retweets"
   ]
  },
  {
   "cell_type": "markdown",
   "metadata": {},
   "source": [
    "**Code**"
   ]
  },
  {
   "cell_type": "code",
   "execution_count": 208,
   "metadata": {},
   "outputs": [
    {
     "data": {
      "text/plain": [
       "179"
      ]
     },
     "execution_count": 208,
     "metadata": {},
     "output_type": "execute_result"
    }
   ],
   "source": [
    "# Checking the no of retweets as we want to delete them. Any row that has \"retweeted_status_id\" has a value is a retweet.\n",
    "len(df_twitter_archive[df_twitter_archive[\"retweeted_status_id\"].notnull()])"
   ]
  },
  {
   "cell_type": "code",
   "execution_count": 209,
   "metadata": {},
   "outputs": [],
   "source": [
    "#lets delete retweets\n",
    "indexes=df_twitter_archive[df_twitter_archive[\"retweeted_status_id\"].notnull()].index\n",
    "df_twitter_archive.drop(indexes , inplace=True)"
   ]
  },
  {
   "cell_type": "markdown",
   "metadata": {},
   "source": [
    "**Test**"
   ]
  },
  {
   "cell_type": "code",
   "execution_count": 210,
   "metadata": {},
   "outputs": [
    {
     "data": {
      "text/plain": [
       "0"
      ]
     },
     "execution_count": 210,
     "metadata": {},
     "output_type": "execute_result"
    }
   ],
   "source": [
    "#validation\n",
    "len(df_twitter_archive[df_twitter_archive[\"retweeted_status_id\"].notnull()])"
   ]
  },
  {
   "cell_type": "markdown",
   "metadata": {},
   "source": [
    "**Define Tidiness issue 2**\n",
    "\n",
    "Melt dog_stages into one column dog_stage"
   ]
  },
  {
   "cell_type": "markdown",
   "metadata": {},
   "source": [
    "**Code**"
   ]
  },
  {
   "cell_type": "code",
   "execution_count": 211,
   "metadata": {},
   "outputs": [],
   "source": [
    "# logic to melt the dog_stages into one column \"dog_stage\"\n",
    "\n",
    "# converting all None values to empty string\n",
    "df_twitter_archive[\"doggo\"]=df_twitter_archive.doggo.replace(\"None\", \"\")\n",
    "df_twitter_archive[\"floofer\"]=df_twitter_archive.floofer.replace(\"None\", \"\")\n",
    "df_twitter_archive[\"pupper\"]=df_twitter_archive.pupper.replace(\"None\", \"\")\n",
    "df_twitter_archive[\"puppo\"]=df_twitter_archive.puppo.replace(\"None\", \"\")\n",
    "\n",
    "#concatenating all the strings and storing them in dog_stage column\n",
    "df_twitter_archive[\"dog_stage\"]=df_twitter_archive.doggo.str.cat(df_twitter_archive.floofer).str.cat(df_twitter_archive.pupper).str.cat(df_twitter_archive.puppo)\n",
    "\n",
    "#dropping the columns doggo, floofer,pupper, puppo\n",
    "df_twitter_archive.drop([\"doggo\", \"floofer\", \"pupper\", \"puppo\"], axis=1, inplace=True)\n",
    "\n",
    "#Replacing the empty strings to null values\n",
    "df_twitter_archive.dog_stage.replace(\"\", \"None\", inplace=True)"
   ]
  },
  {
   "cell_type": "markdown",
   "metadata": {},
   "source": [
    "**Test**"
   ]
  },
  {
   "cell_type": "code",
   "execution_count": 212,
   "metadata": {},
   "outputs": [
    {
     "data": {
      "text/plain": [
       "None            1761\n",
       "pupper           221\n",
       "doggo             72\n",
       "puppo             23\n",
       "doggopupper       10\n",
       "floofer            9\n",
       "doggofloofer       1\n",
       "doggopuppo         1\n",
       "Name: dog_stage, dtype: int64"
      ]
     },
     "execution_count": 212,
     "metadata": {},
     "output_type": "execute_result"
    }
   ],
   "source": [
    "# check the counts of dog_stage\n",
    "df_twitter_archive[\"dog_stage\"].value_counts()"
   ]
  },
  {
   "cell_type": "markdown",
   "metadata": {},
   "source": [
    "Okay, there seems to be about 11 rows that are have two tagged by multiple stages. Eg. doggopupper, doggopuppo, doggofloofer. Lets fix them and assign them \"doggo\" stage. "
   ]
  },
  {
   "cell_type": "markdown",
   "metadata": {},
   "source": [
    "**Code again**"
   ]
  },
  {
   "cell_type": "code",
   "execution_count": 213,
   "metadata": {},
   "outputs": [],
   "source": [
    "# replace the dogstages : \"doggopupper\", \"doggopuppo\", \"dogoofloofer\" to \"doggo\"\n",
    "df_twitter_archive[\"dog_stage\"]=df_twitter_archive.dog_stage.replace(\"doggopupper\", \"doggo\")\n",
    "df_twitter_archive[\"dog_stage\"]=df_twitter_archive.dog_stage.replace(\"doggopuppo\", \"doggo\")\n",
    "df_twitter_archive[\"dog_stage\"]=df_twitter_archive.dog_stage.replace(\"doggofloofer\", \"doggo\")"
   ]
  },
  {
   "cell_type": "markdown",
   "metadata": {},
   "source": [
    "**Test again**"
   ]
  },
  {
   "cell_type": "code",
   "execution_count": 214,
   "metadata": {},
   "outputs": [
    {
     "data": {
      "text/plain": [
       "None       1761\n",
       "pupper      221\n",
       "doggo        84\n",
       "puppo        23\n",
       "floofer       9\n",
       "Name: dog_stage, dtype: int64"
      ]
     },
     "execution_count": 214,
     "metadata": {},
     "output_type": "execute_result"
    }
   ],
   "source": [
    "# validate\n",
    "df_twitter_archive[\"dog_stage\"].value_counts()"
   ]
  },
  {
   "cell_type": "code",
   "execution_count": 215,
   "metadata": {},
   "outputs": [
    {
     "data": {
      "text/html": [
       "<div>\n",
       "<style scoped>\n",
       "    .dataframe tbody tr th:only-of-type {\n",
       "        vertical-align: middle;\n",
       "    }\n",
       "\n",
       "    .dataframe tbody tr th {\n",
       "        vertical-align: top;\n",
       "    }\n",
       "\n",
       "    .dataframe thead th {\n",
       "        text-align: right;\n",
       "    }\n",
       "</style>\n",
       "<table border=\"1\" class=\"dataframe\">\n",
       "  <thead>\n",
       "    <tr style=\"text-align: right;\">\n",
       "      <th></th>\n",
       "      <th>tweet_id</th>\n",
       "      <th>in_reply_to_status_id</th>\n",
       "      <th>in_reply_to_user_id</th>\n",
       "      <th>timestamp</th>\n",
       "      <th>source</th>\n",
       "      <th>text</th>\n",
       "      <th>retweeted_status_id</th>\n",
       "      <th>retweeted_status_user_id</th>\n",
       "      <th>retweeted_status_timestamp</th>\n",
       "      <th>expanded_urls</th>\n",
       "      <th>rating_numerator</th>\n",
       "      <th>rating_denominator</th>\n",
       "      <th>name</th>\n",
       "      <th>dog_stage</th>\n",
       "    </tr>\n",
       "  </thead>\n",
       "  <tbody>\n",
       "    <tr>\n",
       "      <th>2221</th>\n",
       "      <td>668480044826800133</td>\n",
       "      <td>NaN</td>\n",
       "      <td>NaN</td>\n",
       "      <td>2015-11-22 17:23:57</td>\n",
       "      <td>iphone</td>\n",
       "      <td>Say hello to DayZ. She is definitely stuck on ...</td>\n",
       "      <td>NaN</td>\n",
       "      <td>NaN</td>\n",
       "      <td>NaN</td>\n",
       "      <td>https://twitter.com/dog_rates/status/668480044...</td>\n",
       "      <td>11</td>\n",
       "      <td>10</td>\n",
       "      <td>Dayz</td>\n",
       "      <td>None</td>\n",
       "    </tr>\n",
       "    <tr>\n",
       "      <th>356</th>\n",
       "      <td>830583320585068544</td>\n",
       "      <td>NaN</td>\n",
       "      <td>NaN</td>\n",
       "      <td>2017-02-12 01:04:29</td>\n",
       "      <td>iphone</td>\n",
       "      <td>This is Lilly. She just parallel barked. Kindl...</td>\n",
       "      <td>NaN</td>\n",
       "      <td>NaN</td>\n",
       "      <td>NaN</td>\n",
       "      <td>https://twitter.com/dog_rates/status/830583320...</td>\n",
       "      <td>13</td>\n",
       "      <td>10</td>\n",
       "      <td>Lilly</td>\n",
       "      <td>None</td>\n",
       "    </tr>\n",
       "    <tr>\n",
       "      <th>849</th>\n",
       "      <td>766008592277377025</td>\n",
       "      <td>NaN</td>\n",
       "      <td>NaN</td>\n",
       "      <td>2016-08-17 20:27:34</td>\n",
       "      <td>iphone</td>\n",
       "      <td>This is Angel. She stole the @ShopWeRateDogs s...</td>\n",
       "      <td>NaN</td>\n",
       "      <td>NaN</td>\n",
       "      <td>NaN</td>\n",
       "      <td>https://twitter.com/dog_rates/status/766008592...</td>\n",
       "      <td>11</td>\n",
       "      <td>10</td>\n",
       "      <td>Angel</td>\n",
       "      <td>None</td>\n",
       "    </tr>\n",
       "    <tr>\n",
       "      <th>2026</th>\n",
       "      <td>671879137494245376</td>\n",
       "      <td>NaN</td>\n",
       "      <td>NaN</td>\n",
       "      <td>2015-12-02 02:30:43</td>\n",
       "      <td>iphone</td>\n",
       "      <td>This is Brad. He's a chubby lil pup. Doesn't r...</td>\n",
       "      <td>NaN</td>\n",
       "      <td>NaN</td>\n",
       "      <td>NaN</td>\n",
       "      <td>https://twitter.com/dog_rates/status/671879137...</td>\n",
       "      <td>5</td>\n",
       "      <td>10</td>\n",
       "      <td>Brad</td>\n",
       "      <td>None</td>\n",
       "    </tr>\n",
       "    <tr>\n",
       "      <th>1421</th>\n",
       "      <td>698195409219559425</td>\n",
       "      <td>NaN</td>\n",
       "      <td>NaN</td>\n",
       "      <td>2016-02-12 17:22:12</td>\n",
       "      <td>iphone</td>\n",
       "      <td>Meet Beau &amp;amp; Wilbur. Wilbur stole Beau's be...</td>\n",
       "      <td>NaN</td>\n",
       "      <td>NaN</td>\n",
       "      <td>NaN</td>\n",
       "      <td>https://twitter.com/dog_rates/status/698195409...</td>\n",
       "      <td>9</td>\n",
       "      <td>10</td>\n",
       "      <td>Beau</td>\n",
       "      <td>None</td>\n",
       "    </tr>\n",
       "  </tbody>\n",
       "</table>\n",
       "</div>"
      ],
      "text/plain": [
       "                tweet_id  in_reply_to_status_id  in_reply_to_user_id  \\\n",
       "2221  668480044826800133                    NaN                  NaN   \n",
       "356   830583320585068544                    NaN                  NaN   \n",
       "849   766008592277377025                    NaN                  NaN   \n",
       "2026  671879137494245376                    NaN                  NaN   \n",
       "1421  698195409219559425                    NaN                  NaN   \n",
       "\n",
       "               timestamp  source  \\\n",
       "2221 2015-11-22 17:23:57  iphone   \n",
       "356  2017-02-12 01:04:29  iphone   \n",
       "849  2016-08-17 20:27:34  iphone   \n",
       "2026 2015-12-02 02:30:43  iphone   \n",
       "1421 2016-02-12 17:22:12  iphone   \n",
       "\n",
       "                                                   text  retweeted_status_id  \\\n",
       "2221  Say hello to DayZ. She is definitely stuck on ...                  NaN   \n",
       "356   This is Lilly. She just parallel barked. Kindl...                  NaN   \n",
       "849   This is Angel. She stole the @ShopWeRateDogs s...                  NaN   \n",
       "2026  This is Brad. He's a chubby lil pup. Doesn't r...                  NaN   \n",
       "1421  Meet Beau &amp; Wilbur. Wilbur stole Beau's be...                  NaN   \n",
       "\n",
       "      retweeted_status_user_id retweeted_status_timestamp  \\\n",
       "2221                       NaN                        NaN   \n",
       "356                        NaN                        NaN   \n",
       "849                        NaN                        NaN   \n",
       "2026                       NaN                        NaN   \n",
       "1421                       NaN                        NaN   \n",
       "\n",
       "                                          expanded_urls  rating_numerator  \\\n",
       "2221  https://twitter.com/dog_rates/status/668480044...                11   \n",
       "356   https://twitter.com/dog_rates/status/830583320...                13   \n",
       "849   https://twitter.com/dog_rates/status/766008592...                11   \n",
       "2026  https://twitter.com/dog_rates/status/671879137...                 5   \n",
       "1421  https://twitter.com/dog_rates/status/698195409...                 9   \n",
       "\n",
       "      rating_denominator   name dog_stage  \n",
       "2221                  10   Dayz      None  \n",
       "356                   10  Lilly      None  \n",
       "849                   10  Angel      None  \n",
       "2026                  10   Brad      None  \n",
       "1421                  10   Beau      None  "
      ]
     },
     "execution_count": 215,
     "metadata": {},
     "output_type": "execute_result"
    }
   ],
   "source": [
    "# validate that whole dataframe to check the latest modicfications\n",
    "df_twitter_archive.sample(5)"
   ]
  },
  {
   "cell_type": "markdown",
   "metadata": {},
   "source": [
    "**Define Tidiness issue 3**\n",
    "\n",
    "Insert a new column Rating"
   ]
  },
  {
   "cell_type": "markdown",
   "metadata": {},
   "source": [
    "**Code**"
   ]
  },
  {
   "cell_type": "code",
   "execution_count": 216,
   "metadata": {},
   "outputs": [],
   "source": [
    "#insert a new colum \"Rating\" which is the divison of numerator/denominator\n",
    "df_twitter_archive.insert(9, \"Rating\", (df_twitter_archive[\"rating_numerator\"]/df_twitter_archive[\"rating_denominator\"]))"
   ]
  },
  {
   "cell_type": "markdown",
   "metadata": {},
   "source": [
    "**Test**"
   ]
  },
  {
   "cell_type": "code",
   "execution_count": 217,
   "metadata": {
    "scrolled": true
   },
   "outputs": [
    {
     "data": {
      "text/html": [
       "<div>\n",
       "<style scoped>\n",
       "    .dataframe tbody tr th:only-of-type {\n",
       "        vertical-align: middle;\n",
       "    }\n",
       "\n",
       "    .dataframe tbody tr th {\n",
       "        vertical-align: top;\n",
       "    }\n",
       "\n",
       "    .dataframe thead th {\n",
       "        text-align: right;\n",
       "    }\n",
       "</style>\n",
       "<table border=\"1\" class=\"dataframe\">\n",
       "  <thead>\n",
       "    <tr style=\"text-align: right;\">\n",
       "      <th></th>\n",
       "      <th>tweet_id</th>\n",
       "      <th>in_reply_to_status_id</th>\n",
       "      <th>in_reply_to_user_id</th>\n",
       "      <th>timestamp</th>\n",
       "      <th>source</th>\n",
       "      <th>text</th>\n",
       "      <th>retweeted_status_id</th>\n",
       "      <th>retweeted_status_user_id</th>\n",
       "      <th>retweeted_status_timestamp</th>\n",
       "      <th>Rating</th>\n",
       "      <th>expanded_urls</th>\n",
       "      <th>rating_numerator</th>\n",
       "      <th>rating_denominator</th>\n",
       "      <th>name</th>\n",
       "      <th>dog_stage</th>\n",
       "    </tr>\n",
       "  </thead>\n",
       "  <tbody>\n",
       "    <tr>\n",
       "      <th>0</th>\n",
       "      <td>892420643555336193</td>\n",
       "      <td>NaN</td>\n",
       "      <td>NaN</td>\n",
       "      <td>2017-08-01 16:23:56</td>\n",
       "      <td>iphone</td>\n",
       "      <td>This is Phineas. He's a mystical boy. Only eve...</td>\n",
       "      <td>NaN</td>\n",
       "      <td>NaN</td>\n",
       "      <td>NaN</td>\n",
       "      <td>1.3</td>\n",
       "      <td>https://twitter.com/dog_rates/status/892420643...</td>\n",
       "      <td>13</td>\n",
       "      <td>10</td>\n",
       "      <td>Phineas</td>\n",
       "      <td>None</td>\n",
       "    </tr>\n",
       "  </tbody>\n",
       "</table>\n",
       "</div>"
      ],
      "text/plain": [
       "             tweet_id  in_reply_to_status_id  in_reply_to_user_id  \\\n",
       "0  892420643555336193                    NaN                  NaN   \n",
       "\n",
       "            timestamp  source  \\\n",
       "0 2017-08-01 16:23:56  iphone   \n",
       "\n",
       "                                                text  retweeted_status_id  \\\n",
       "0  This is Phineas. He's a mystical boy. Only eve...                  NaN   \n",
       "\n",
       "   retweeted_status_user_id retweeted_status_timestamp  Rating  \\\n",
       "0                       NaN                        NaN     1.3   \n",
       "\n",
       "                                       expanded_urls  rating_numerator  \\\n",
       "0  https://twitter.com/dog_rates/status/892420643...                13   \n",
       "\n",
       "   rating_denominator     name dog_stage  \n",
       "0                  10  Phineas      None  "
      ]
     },
     "execution_count": 217,
     "metadata": {},
     "output_type": "execute_result"
    }
   ],
   "source": [
    "#validate the change that new column is added\n",
    "df_twitter_archive.head(1)"
   ]
  },
  {
   "cell_type": "markdown",
   "metadata": {},
   "source": [
    "**Define Tidiness issue 4**\n",
    "\n",
    "Delete unnecessary columns"
   ]
  },
  {
   "cell_type": "markdown",
   "metadata": {},
   "source": [
    "**Code**"
   ]
  },
  {
   "cell_type": "code",
   "execution_count": 218,
   "metadata": {},
   "outputs": [],
   "source": [
    "#delete unneccesary columns \n",
    "columns = [\"in_reply_to_status_id\",\"in_reply_to_user_id\", \"retweeted_status_id\", \"retweeted_status_user_id\",\n",
    "          \"retweeted_status_timestamp\", \"rating_denominator\", \"rating_numerator\"]\n",
    "df_twitter_archive = df_twitter_archive.drop(columns, axis=1)"
   ]
  },
  {
   "cell_type": "markdown",
   "metadata": {},
   "source": [
    "**Test**"
   ]
  },
  {
   "cell_type": "code",
   "execution_count": 219,
   "metadata": {},
   "outputs": [
    {
     "data": {
      "text/html": [
       "<div>\n",
       "<style scoped>\n",
       "    .dataframe tbody tr th:only-of-type {\n",
       "        vertical-align: middle;\n",
       "    }\n",
       "\n",
       "    .dataframe tbody tr th {\n",
       "        vertical-align: top;\n",
       "    }\n",
       "\n",
       "    .dataframe thead th {\n",
       "        text-align: right;\n",
       "    }\n",
       "</style>\n",
       "<table border=\"1\" class=\"dataframe\">\n",
       "  <thead>\n",
       "    <tr style=\"text-align: right;\">\n",
       "      <th></th>\n",
       "      <th>tweet_id</th>\n",
       "      <th>timestamp</th>\n",
       "      <th>source</th>\n",
       "      <th>text</th>\n",
       "      <th>Rating</th>\n",
       "      <th>expanded_urls</th>\n",
       "      <th>name</th>\n",
       "      <th>dog_stage</th>\n",
       "    </tr>\n",
       "  </thead>\n",
       "  <tbody>\n",
       "    <tr>\n",
       "      <th>0</th>\n",
       "      <td>892420643555336193</td>\n",
       "      <td>2017-08-01 16:23:56</td>\n",
       "      <td>iphone</td>\n",
       "      <td>This is Phineas. He's a mystical boy. Only eve...</td>\n",
       "      <td>1.3</td>\n",
       "      <td>https://twitter.com/dog_rates/status/892420643...</td>\n",
       "      <td>Phineas</td>\n",
       "      <td>None</td>\n",
       "    </tr>\n",
       "  </tbody>\n",
       "</table>\n",
       "</div>"
      ],
      "text/plain": [
       "             tweet_id           timestamp  source  \\\n",
       "0  892420643555336193 2017-08-01 16:23:56  iphone   \n",
       "\n",
       "                                                text  Rating  \\\n",
       "0  This is Phineas. He's a mystical boy. Only eve...     1.3   \n",
       "\n",
       "                                       expanded_urls     name dog_stage  \n",
       "0  https://twitter.com/dog_rates/status/892420643...  Phineas      None  "
      ]
     },
     "execution_count": 219,
     "metadata": {},
     "output_type": "execute_result"
    }
   ],
   "source": [
    "df_twitter_archive.head(1)"
   ]
  },
  {
   "cell_type": "markdown",
   "metadata": {},
   "source": [
    "#### df_images"
   ]
  },
  {
   "cell_type": "markdown",
   "metadata": {},
   "source": [
    "**Define Tidiness issue 5**\n",
    "\n",
    "Check which predicition is the best prediciton and reduce the algorithm/prediction colums to  \"alog\" , \"algo_conf\", \"`dog_breed\""
   ]
  },
  {
   "cell_type": "markdown",
   "metadata": {},
   "source": [
    "**Code**"
   ]
  },
  {
   "cell_type": "code",
   "execution_count": 220,
   "metadata": {},
   "outputs": [
    {
     "name": "stdout",
     "output_type": "stream",
     "text": [
      "1751 0 0\n"
     ]
    }
   ],
   "source": [
    "# lets check the condition : if p1_conf > p2_conf > p3_conf is always true.\n",
    "p1=p2=p3=0 # to store the count of each alogirthms\n",
    "\n",
    "#looping through index and comparing the P1_conf values\n",
    "for index in df_images.index:\n",
    "    if df_images.loc[index][\"p1_conf\"]< df_images.loc[index][\"p2_conf\"]:\n",
    "        if df_images.loc[index][\"p2_conf\"]< df_images.loc[index][\"p3_conf\"]:\n",
    "            p3=p3+1\n",
    "        else:\n",
    "            p2=p2+1\n",
    "    else:\n",
    "        p1=p1+1\n",
    "print(p1, p2, p3)\n",
    "\n"
   ]
  },
  {
   "cell_type": "code",
   "execution_count": 221,
   "metadata": {},
   "outputs": [
    {
     "name": "stdout",
     "output_type": "stream",
     "text": [
      "1751 0\n"
     ]
    }
   ],
   "source": [
    "#lets check if the condition p2_conf > p3_conf is always true or not\n",
    "p2=p3=0\n",
    "for index in df_images.index:\n",
    "    if df_images.loc[index][\"p2_conf\"]< df_images.loc[index][\"p3_conf\"]:\n",
    "        p3=p3+1\n",
    "    else:\n",
    "        p2=p2+1\n",
    "print (p2, p3)"
   ]
  },
  {
   "cell_type": "markdown",
   "metadata": {},
   "source": [
    "> **Looks like p1_conf > p2_conf > p3_conf is always true. I am going to choose the highest confidence algorithm. If the the highest confidence alogrithm has p*_dog as false,  I will choose the next highest confidence and so on so forth.**"
   ]
  },
  {
   "cell_type": "code",
   "execution_count": 222,
   "metadata": {},
   "outputs": [],
   "source": [
    "# logic to find the best possible prediction. \n",
    "# as we already from above that p1_conf > p2_conf > p3_conf, we wil check for their p*_dog values and decide the best\n",
    "# predicitonalgorithm.\n",
    "\n",
    "#looping through each row\n",
    "for index in df_images.index:\n",
    "    \n",
    "    #checking if p1_dog is false or not, if yes it wil choose the next best algorithm p2 given p2_dog is true, else it \n",
    "    #will check for p3_dog value.\n",
    "    \n",
    "    if not df_images.loc[index][\"p1_dog\"]:\n",
    "        if not df_images.loc[index][\"p2_dog\"]:\n",
    "            if not df_images.loc[index][\"p3_dog\"]:\n",
    "                df_images.at[index,\"dog_breed\"] =np.nan\n",
    "                df_images.at[index,\"algo\"] = np.nan\n",
    "                df_images.at[index,\"algo_conf\"] = np.nan\n",
    "            else:\n",
    "                df_images.at[index,\"dog_breed\"] = df_images.loc[index][\"p3\"]\n",
    "                df_images.at[index,\"algo\"] = \"p3\"\n",
    "                df_images.at[index,\"algo_conf\"] = df_images.loc[index][\"p3_conf\"] \n",
    "        else:\n",
    "            df_images.at[index,\"dog_breed\"] = df_images.loc[index][\"p2\"]\n",
    "            df_images.at[index,\"algo\"] = \"p2\"\n",
    "            df_images.at[index,\"algo_conf\"] = df_images.loc[index][\"p2_conf\"]       \n",
    "    else:\n",
    "        df_images.at[index,\"dog_breed\"] = df_images.loc[index][\"p1\"]\n",
    "        df_images.at[index,\"algo\"] = \"p1\"\n",
    "        df_images.at[index,\"algo_conf\"] = df_images.loc[index][\"p1_conf\"]\n",
    "        "
   ]
  },
  {
   "cell_type": "markdown",
   "metadata": {},
   "source": [
    "**Test**"
   ]
  },
  {
   "cell_type": "code",
   "execution_count": 223,
   "metadata": {},
   "outputs": [
    {
     "data": {
      "text/html": [
       "<div>\n",
       "<style scoped>\n",
       "    .dataframe tbody tr th:only-of-type {\n",
       "        vertical-align: middle;\n",
       "    }\n",
       "\n",
       "    .dataframe tbody tr th {\n",
       "        vertical-align: top;\n",
       "    }\n",
       "\n",
       "    .dataframe thead th {\n",
       "        text-align: right;\n",
       "    }\n",
       "</style>\n",
       "<table border=\"1\" class=\"dataframe\">\n",
       "  <thead>\n",
       "    <tr style=\"text-align: right;\">\n",
       "      <th></th>\n",
       "      <th>tweet_id</th>\n",
       "      <th>jpg_url</th>\n",
       "      <th>img_num</th>\n",
       "      <th>p1</th>\n",
       "      <th>p1_conf</th>\n",
       "      <th>p1_dog</th>\n",
       "      <th>p2</th>\n",
       "      <th>p2_conf</th>\n",
       "      <th>p2_dog</th>\n",
       "      <th>p3</th>\n",
       "      <th>p3_conf</th>\n",
       "      <th>p3_dog</th>\n",
       "      <th>dog_breed</th>\n",
       "      <th>algo</th>\n",
       "      <th>algo_conf</th>\n",
       "    </tr>\n",
       "  </thead>\n",
       "  <tbody>\n",
       "    <tr>\n",
       "      <th>0</th>\n",
       "      <td>666020888022790149</td>\n",
       "      <td>https://pbs.twimg.com/media/CT4udn0WwAA0aMy.jpg</td>\n",
       "      <td>1</td>\n",
       "      <td>Welsh_springer_spaniel</td>\n",
       "      <td>0.465074</td>\n",
       "      <td>True</td>\n",
       "      <td>Collie</td>\n",
       "      <td>0.156665</td>\n",
       "      <td>True</td>\n",
       "      <td>Shetland_sheepdog</td>\n",
       "      <td>0.061428</td>\n",
       "      <td>True</td>\n",
       "      <td>Welsh_springer_spaniel</td>\n",
       "      <td>p1</td>\n",
       "      <td>0.465074</td>\n",
       "    </tr>\n",
       "    <tr>\n",
       "      <th>1</th>\n",
       "      <td>666029285002620928</td>\n",
       "      <td>https://pbs.twimg.com/media/CT42GRgUYAA5iDo.jpg</td>\n",
       "      <td>1</td>\n",
       "      <td>Redbone</td>\n",
       "      <td>0.506826</td>\n",
       "      <td>True</td>\n",
       "      <td>Miniature_pinscher</td>\n",
       "      <td>0.074192</td>\n",
       "      <td>True</td>\n",
       "      <td>Rhodesian_ridgeback</td>\n",
       "      <td>0.072010</td>\n",
       "      <td>True</td>\n",
       "      <td>Redbone</td>\n",
       "      <td>p1</td>\n",
       "      <td>0.506826</td>\n",
       "    </tr>\n",
       "    <tr>\n",
       "      <th>2</th>\n",
       "      <td>666033412701032449</td>\n",
       "      <td>https://pbs.twimg.com/media/CT4521TWwAEvMyu.jpg</td>\n",
       "      <td>1</td>\n",
       "      <td>German_shepherd</td>\n",
       "      <td>0.596461</td>\n",
       "      <td>True</td>\n",
       "      <td>Malinois</td>\n",
       "      <td>0.138584</td>\n",
       "      <td>True</td>\n",
       "      <td>Bloodhound</td>\n",
       "      <td>0.116197</td>\n",
       "      <td>True</td>\n",
       "      <td>German_shepherd</td>\n",
       "      <td>p1</td>\n",
       "      <td>0.596461</td>\n",
       "    </tr>\n",
       "    <tr>\n",
       "      <th>3</th>\n",
       "      <td>666044226329800704</td>\n",
       "      <td>https://pbs.twimg.com/media/CT5Dr8HUEAA-lEu.jpg</td>\n",
       "      <td>1</td>\n",
       "      <td>Rhodesian_ridgeback</td>\n",
       "      <td>0.408143</td>\n",
       "      <td>True</td>\n",
       "      <td>Redbone</td>\n",
       "      <td>0.360687</td>\n",
       "      <td>True</td>\n",
       "      <td>Miniature_pinscher</td>\n",
       "      <td>0.222752</td>\n",
       "      <td>True</td>\n",
       "      <td>Rhodesian_ridgeback</td>\n",
       "      <td>p1</td>\n",
       "      <td>0.408143</td>\n",
       "    </tr>\n",
       "    <tr>\n",
       "      <th>4</th>\n",
       "      <td>666049248165822465</td>\n",
       "      <td>https://pbs.twimg.com/media/CT5IQmsXIAAKY4A.jpg</td>\n",
       "      <td>1</td>\n",
       "      <td>Miniature_pinscher</td>\n",
       "      <td>0.560311</td>\n",
       "      <td>True</td>\n",
       "      <td>Rottweiler</td>\n",
       "      <td>0.243682</td>\n",
       "      <td>True</td>\n",
       "      <td>Doberman</td>\n",
       "      <td>0.154629</td>\n",
       "      <td>True</td>\n",
       "      <td>Miniature_pinscher</td>\n",
       "      <td>p1</td>\n",
       "      <td>0.560311</td>\n",
       "    </tr>\n",
       "    <tr>\n",
       "      <th>5</th>\n",
       "      <td>666050758794694657</td>\n",
       "      <td>https://pbs.twimg.com/media/CT5Jof1WUAEuVxN.jpg</td>\n",
       "      <td>1</td>\n",
       "      <td>Bernese_mountain_dog</td>\n",
       "      <td>0.651137</td>\n",
       "      <td>True</td>\n",
       "      <td>English_springer</td>\n",
       "      <td>0.263788</td>\n",
       "      <td>True</td>\n",
       "      <td>Greater_swiss_mountain_dog</td>\n",
       "      <td>0.016199</td>\n",
       "      <td>True</td>\n",
       "      <td>Bernese_mountain_dog</td>\n",
       "      <td>p1</td>\n",
       "      <td>0.651137</td>\n",
       "    </tr>\n",
       "    <tr>\n",
       "      <th>7</th>\n",
       "      <td>666055525042405380</td>\n",
       "      <td>https://pbs.twimg.com/media/CT5N9tpXIAAifs1.jpg</td>\n",
       "      <td>1</td>\n",
       "      <td>Chow</td>\n",
       "      <td>0.692517</td>\n",
       "      <td>True</td>\n",
       "      <td>Tibetan_mastiff</td>\n",
       "      <td>0.058279</td>\n",
       "      <td>True</td>\n",
       "      <td>Fur_coat</td>\n",
       "      <td>0.054449</td>\n",
       "      <td>False</td>\n",
       "      <td>Chow</td>\n",
       "      <td>p1</td>\n",
       "      <td>0.692517</td>\n",
       "    </tr>\n",
       "    <tr>\n",
       "      <th>8</th>\n",
       "      <td>666057090499244032</td>\n",
       "      <td>https://pbs.twimg.com/media/CT5PY90WoAAQGLo.jpg</td>\n",
       "      <td>1</td>\n",
       "      <td>Shopping_cart</td>\n",
       "      <td>0.962465</td>\n",
       "      <td>False</td>\n",
       "      <td>Shopping_basket</td>\n",
       "      <td>0.014594</td>\n",
       "      <td>False</td>\n",
       "      <td>Golden_retriever</td>\n",
       "      <td>0.007959</td>\n",
       "      <td>True</td>\n",
       "      <td>Golden_retriever</td>\n",
       "      <td>p3</td>\n",
       "      <td>0.007959</td>\n",
       "    </tr>\n",
       "    <tr>\n",
       "      <th>9</th>\n",
       "      <td>666058600524156928</td>\n",
       "      <td>https://pbs.twimg.com/media/CT5Qw94XAAA_2dP.jpg</td>\n",
       "      <td>1</td>\n",
       "      <td>Miniature_poodle</td>\n",
       "      <td>0.201493</td>\n",
       "      <td>True</td>\n",
       "      <td>Komondor</td>\n",
       "      <td>0.192305</td>\n",
       "      <td>True</td>\n",
       "      <td>Soft-coated_wheaten_terrier</td>\n",
       "      <td>0.082086</td>\n",
       "      <td>True</td>\n",
       "      <td>Miniature_poodle</td>\n",
       "      <td>p1</td>\n",
       "      <td>0.201493</td>\n",
       "    </tr>\n",
       "    <tr>\n",
       "      <th>10</th>\n",
       "      <td>666063827256086533</td>\n",
       "      <td>https://pbs.twimg.com/media/CT5Vg_wXIAAXfnj.jpg</td>\n",
       "      <td>1</td>\n",
       "      <td>Golden_retriever</td>\n",
       "      <td>0.775930</td>\n",
       "      <td>True</td>\n",
       "      <td>Tibetan_mastiff</td>\n",
       "      <td>0.093718</td>\n",
       "      <td>True</td>\n",
       "      <td>Labrador_retriever</td>\n",
       "      <td>0.072427</td>\n",
       "      <td>True</td>\n",
       "      <td>Golden_retriever</td>\n",
       "      <td>p1</td>\n",
       "      <td>0.775930</td>\n",
       "    </tr>\n",
       "    <tr>\n",
       "      <th>11</th>\n",
       "      <td>666071193221509120</td>\n",
       "      <td>https://pbs.twimg.com/media/CT5cN_3WEAAlOoZ.jpg</td>\n",
       "      <td>1</td>\n",
       "      <td>Gordon_setter</td>\n",
       "      <td>0.503672</td>\n",
       "      <td>True</td>\n",
       "      <td>Yorkshire_terrier</td>\n",
       "      <td>0.174201</td>\n",
       "      <td>True</td>\n",
       "      <td>Pekinese</td>\n",
       "      <td>0.109454</td>\n",
       "      <td>True</td>\n",
       "      <td>Gordon_setter</td>\n",
       "      <td>p1</td>\n",
       "      <td>0.503672</td>\n",
       "    </tr>\n",
       "    <tr>\n",
       "      <th>12</th>\n",
       "      <td>666073100786774016</td>\n",
       "      <td>https://pbs.twimg.com/media/CT5d9DZXAAALcwe.jpg</td>\n",
       "      <td>1</td>\n",
       "      <td>Walker_hound</td>\n",
       "      <td>0.260857</td>\n",
       "      <td>True</td>\n",
       "      <td>English_foxhound</td>\n",
       "      <td>0.175382</td>\n",
       "      <td>True</td>\n",
       "      <td>Ibizan_hound</td>\n",
       "      <td>0.097471</td>\n",
       "      <td>True</td>\n",
       "      <td>Walker_hound</td>\n",
       "      <td>p1</td>\n",
       "      <td>0.260857</td>\n",
       "    </tr>\n",
       "    <tr>\n",
       "      <th>13</th>\n",
       "      <td>666082916733198337</td>\n",
       "      <td>https://pbs.twimg.com/media/CT5m4VGWEAAtKc8.jpg</td>\n",
       "      <td>1</td>\n",
       "      <td>Pug</td>\n",
       "      <td>0.489814</td>\n",
       "      <td>True</td>\n",
       "      <td>Bull_mastiff</td>\n",
       "      <td>0.404722</td>\n",
       "      <td>True</td>\n",
       "      <td>French_bulldog</td>\n",
       "      <td>0.048960</td>\n",
       "      <td>True</td>\n",
       "      <td>Pug</td>\n",
       "      <td>p1</td>\n",
       "      <td>0.489814</td>\n",
       "    </tr>\n",
       "    <tr>\n",
       "      <th>14</th>\n",
       "      <td>666094000022159362</td>\n",
       "      <td>https://pbs.twimg.com/media/CT5w9gUW4AAsBNN.jpg</td>\n",
       "      <td>1</td>\n",
       "      <td>Bloodhound</td>\n",
       "      <td>0.195217</td>\n",
       "      <td>True</td>\n",
       "      <td>German_shepherd</td>\n",
       "      <td>0.078260</td>\n",
       "      <td>True</td>\n",
       "      <td>Malinois</td>\n",
       "      <td>0.075628</td>\n",
       "      <td>True</td>\n",
       "      <td>Bloodhound</td>\n",
       "      <td>p1</td>\n",
       "      <td>0.195217</td>\n",
       "    </tr>\n",
       "    <tr>\n",
       "      <th>15</th>\n",
       "      <td>666099513787052032</td>\n",
       "      <td>https://pbs.twimg.com/media/CT51-JJUEAA6hV8.jpg</td>\n",
       "      <td>1</td>\n",
       "      <td>Lhasa</td>\n",
       "      <td>0.582330</td>\n",
       "      <td>True</td>\n",
       "      <td>Shih-tzu</td>\n",
       "      <td>0.166192</td>\n",
       "      <td>True</td>\n",
       "      <td>Dandie_dinmont</td>\n",
       "      <td>0.089688</td>\n",
       "      <td>True</td>\n",
       "      <td>Lhasa</td>\n",
       "      <td>p1</td>\n",
       "      <td>0.582330</td>\n",
       "    </tr>\n",
       "    <tr>\n",
       "      <th>16</th>\n",
       "      <td>666102155909144576</td>\n",
       "      <td>https://pbs.twimg.com/media/CT54YGiWUAEZnoK.jpg</td>\n",
       "      <td>1</td>\n",
       "      <td>English_setter</td>\n",
       "      <td>0.298617</td>\n",
       "      <td>True</td>\n",
       "      <td>Newfoundland</td>\n",
       "      <td>0.149842</td>\n",
       "      <td>True</td>\n",
       "      <td>Borzoi</td>\n",
       "      <td>0.133649</td>\n",
       "      <td>True</td>\n",
       "      <td>English_setter</td>\n",
       "      <td>p1</td>\n",
       "      <td>0.298617</td>\n",
       "    </tr>\n",
       "    <tr>\n",
       "      <th>19</th>\n",
       "      <td>666273097616637952</td>\n",
       "      <td>https://pbs.twimg.com/media/CT8T1mtUwAA3aqm.jpg</td>\n",
       "      <td>1</td>\n",
       "      <td>Italian_greyhound</td>\n",
       "      <td>0.176053</td>\n",
       "      <td>True</td>\n",
       "      <td>Toy_terrier</td>\n",
       "      <td>0.111884</td>\n",
       "      <td>True</td>\n",
       "      <td>Basenji</td>\n",
       "      <td>0.111152</td>\n",
       "      <td>True</td>\n",
       "      <td>Italian_greyhound</td>\n",
       "      <td>p1</td>\n",
       "      <td>0.176053</td>\n",
       "    </tr>\n",
       "    <tr>\n",
       "      <th>20</th>\n",
       "      <td>666287406224695296</td>\n",
       "      <td>https://pbs.twimg.com/media/CT8g3BpUEAAuFjg.jpg</td>\n",
       "      <td>1</td>\n",
       "      <td>Maltese_dog</td>\n",
       "      <td>0.857531</td>\n",
       "      <td>True</td>\n",
       "      <td>Toy_poodle</td>\n",
       "      <td>0.063064</td>\n",
       "      <td>True</td>\n",
       "      <td>Miniature_poodle</td>\n",
       "      <td>0.025581</td>\n",
       "      <td>True</td>\n",
       "      <td>Maltese_dog</td>\n",
       "      <td>p1</td>\n",
       "      <td>0.857531</td>\n",
       "    </tr>\n",
       "    <tr>\n",
       "      <th>22</th>\n",
       "      <td>666337882303524864</td>\n",
       "      <td>https://pbs.twimg.com/media/CT9OwFIWEAMuRje.jpg</td>\n",
       "      <td>1</td>\n",
       "      <td>Ox</td>\n",
       "      <td>0.416669</td>\n",
       "      <td>False</td>\n",
       "      <td>Newfoundland</td>\n",
       "      <td>0.278407</td>\n",
       "      <td>True</td>\n",
       "      <td>Groenendael</td>\n",
       "      <td>0.102643</td>\n",
       "      <td>True</td>\n",
       "      <td>Newfoundland</td>\n",
       "      <td>p2</td>\n",
       "      <td>0.278407</td>\n",
       "    </tr>\n",
       "    <tr>\n",
       "      <th>23</th>\n",
       "      <td>666345417576210432</td>\n",
       "      <td>https://pbs.twimg.com/media/CT9Vn7PWoAA_ZCM.jpg</td>\n",
       "      <td>1</td>\n",
       "      <td>Golden_retriever</td>\n",
       "      <td>0.858744</td>\n",
       "      <td>True</td>\n",
       "      <td>Chesapeake_bay_retriever</td>\n",
       "      <td>0.054787</td>\n",
       "      <td>True</td>\n",
       "      <td>Labrador_retriever</td>\n",
       "      <td>0.014241</td>\n",
       "      <td>True</td>\n",
       "      <td>Golden_retriever</td>\n",
       "      <td>p1</td>\n",
       "      <td>0.858744</td>\n",
       "    </tr>\n",
       "    <tr>\n",
       "      <th>24</th>\n",
       "      <td>666353288456101888</td>\n",
       "      <td>https://pbs.twimg.com/media/CT9cx0tUEAAhNN_.jpg</td>\n",
       "      <td>1</td>\n",
       "      <td>Malamute</td>\n",
       "      <td>0.336874</td>\n",
       "      <td>True</td>\n",
       "      <td>Siberian_husky</td>\n",
       "      <td>0.147655</td>\n",
       "      <td>True</td>\n",
       "      <td>Eskimo_dog</td>\n",
       "      <td>0.093412</td>\n",
       "      <td>True</td>\n",
       "      <td>Malamute</td>\n",
       "      <td>p1</td>\n",
       "      <td>0.336874</td>\n",
       "    </tr>\n",
       "    <tr>\n",
       "      <th>26</th>\n",
       "      <td>666373753744588802</td>\n",
       "      <td>https://pbs.twimg.com/media/CT9vZEYWUAAlZ05.jpg</td>\n",
       "      <td>1</td>\n",
       "      <td>Soft-coated_wheaten_terrier</td>\n",
       "      <td>0.326467</td>\n",
       "      <td>True</td>\n",
       "      <td>Afghan_hound</td>\n",
       "      <td>0.259551</td>\n",
       "      <td>True</td>\n",
       "      <td>Briard</td>\n",
       "      <td>0.206803</td>\n",
       "      <td>True</td>\n",
       "      <td>Soft-coated_wheaten_terrier</td>\n",
       "      <td>p1</td>\n",
       "      <td>0.326467</td>\n",
       "    </tr>\n",
       "    <tr>\n",
       "      <th>27</th>\n",
       "      <td>666396247373291520</td>\n",
       "      <td>https://pbs.twimg.com/media/CT-D2ZHWIAA3gK1.jpg</td>\n",
       "      <td>1</td>\n",
       "      <td>Chihuahua</td>\n",
       "      <td>0.978108</td>\n",
       "      <td>True</td>\n",
       "      <td>Toy_terrier</td>\n",
       "      <td>0.009397</td>\n",
       "      <td>True</td>\n",
       "      <td>Papillon</td>\n",
       "      <td>0.004577</td>\n",
       "      <td>True</td>\n",
       "      <td>Chihuahua</td>\n",
       "      <td>p1</td>\n",
       "      <td>0.978108</td>\n",
       "    </tr>\n",
       "    <tr>\n",
       "      <th>28</th>\n",
       "      <td>666407126856765440</td>\n",
       "      <td>https://pbs.twimg.com/media/CT-NvwmW4AAugGZ.jpg</td>\n",
       "      <td>1</td>\n",
       "      <td>Black-and-tan_coonhound</td>\n",
       "      <td>0.529139</td>\n",
       "      <td>True</td>\n",
       "      <td>Bloodhound</td>\n",
       "      <td>0.244220</td>\n",
       "      <td>True</td>\n",
       "      <td>Flat-coated_retriever</td>\n",
       "      <td>0.173810</td>\n",
       "      <td>True</td>\n",
       "      <td>Black-and-tan_coonhound</td>\n",
       "      <td>p1</td>\n",
       "      <td>0.529139</td>\n",
       "    </tr>\n",
       "    <tr>\n",
       "      <th>30</th>\n",
       "      <td>666418789513326592</td>\n",
       "      <td>https://pbs.twimg.com/media/CT-YWb7U8AA7QnN.jpg</td>\n",
       "      <td>1</td>\n",
       "      <td>Toy_terrier</td>\n",
       "      <td>0.149680</td>\n",
       "      <td>True</td>\n",
       "      <td>Papillon</td>\n",
       "      <td>0.148258</td>\n",
       "      <td>True</td>\n",
       "      <td>Chihuahua</td>\n",
       "      <td>0.142860</td>\n",
       "      <td>True</td>\n",
       "      <td>Toy_terrier</td>\n",
       "      <td>p1</td>\n",
       "      <td>0.149680</td>\n",
       "    </tr>\n",
       "    <tr>\n",
       "      <th>31</th>\n",
       "      <td>666421158376562688</td>\n",
       "      <td>https://pbs.twimg.com/media/CT-aggCXAAIMfT3.jpg</td>\n",
       "      <td>1</td>\n",
       "      <td>Blenheim_spaniel</td>\n",
       "      <td>0.906777</td>\n",
       "      <td>True</td>\n",
       "      <td>Cocker_spaniel</td>\n",
       "      <td>0.090346</td>\n",
       "      <td>True</td>\n",
       "      <td>Shih-tzu</td>\n",
       "      <td>0.001117</td>\n",
       "      <td>True</td>\n",
       "      <td>Blenheim_spaniel</td>\n",
       "      <td>p1</td>\n",
       "      <td>0.906777</td>\n",
       "    </tr>\n",
       "    <tr>\n",
       "      <th>32</th>\n",
       "      <td>666428276349472768</td>\n",
       "      <td>https://pbs.twimg.com/media/CT-g-0DUwAEQdSn.jpg</td>\n",
       "      <td>1</td>\n",
       "      <td>Pembroke</td>\n",
       "      <td>0.371361</td>\n",
       "      <td>True</td>\n",
       "      <td>Chow</td>\n",
       "      <td>0.249394</td>\n",
       "      <td>True</td>\n",
       "      <td>Pomeranian</td>\n",
       "      <td>0.241878</td>\n",
       "      <td>True</td>\n",
       "      <td>Pembroke</td>\n",
       "      <td>p1</td>\n",
       "      <td>0.371361</td>\n",
       "    </tr>\n",
       "    <tr>\n",
       "      <th>33</th>\n",
       "      <td>666430724426358785</td>\n",
       "      <td>https://pbs.twimg.com/media/CT-jNYqW4AAPi2M.jpg</td>\n",
       "      <td>1</td>\n",
       "      <td>Llama</td>\n",
       "      <td>0.505184</td>\n",
       "      <td>False</td>\n",
       "      <td>Irish_terrier</td>\n",
       "      <td>0.104109</td>\n",
       "      <td>True</td>\n",
       "      <td>Dingo</td>\n",
       "      <td>0.062071</td>\n",
       "      <td>False</td>\n",
       "      <td>Irish_terrier</td>\n",
       "      <td>p2</td>\n",
       "      <td>0.104109</td>\n",
       "    </tr>\n",
       "    <tr>\n",
       "      <th>34</th>\n",
       "      <td>666435652385423360</td>\n",
       "      <td>https://pbs.twimg.com/media/CT-nsTQWEAEkyDn.jpg</td>\n",
       "      <td>1</td>\n",
       "      <td>Chesapeake_bay_retriever</td>\n",
       "      <td>0.184130</td>\n",
       "      <td>True</td>\n",
       "      <td>Chain_saw</td>\n",
       "      <td>0.056775</td>\n",
       "      <td>False</td>\n",
       "      <td>Power_drill</td>\n",
       "      <td>0.036763</td>\n",
       "      <td>False</td>\n",
       "      <td>Chesapeake_bay_retriever</td>\n",
       "      <td>p1</td>\n",
       "      <td>0.184130</td>\n",
       "    </tr>\n",
       "    <tr>\n",
       "      <th>35</th>\n",
       "      <td>666437273139982337</td>\n",
       "      <td>https://pbs.twimg.com/media/CT-pKmRWIAAxUWj.jpg</td>\n",
       "      <td>1</td>\n",
       "      <td>Chihuahua</td>\n",
       "      <td>0.671853</td>\n",
       "      <td>True</td>\n",
       "      <td>Beagle</td>\n",
       "      <td>0.124680</td>\n",
       "      <td>True</td>\n",
       "      <td>Saluki</td>\n",
       "      <td>0.044094</td>\n",
       "      <td>True</td>\n",
       "      <td>Chihuahua</td>\n",
       "      <td>p1</td>\n",
       "      <td>0.671853</td>\n",
       "    </tr>\n",
       "    <tr>\n",
       "      <th>36</th>\n",
       "      <td>666447344410484738</td>\n",
       "      <td>https://pbs.twimg.com/media/CT-yU5QWwAEjLX5.jpg</td>\n",
       "      <td>1</td>\n",
       "      <td>Curly-coated_retriever</td>\n",
       "      <td>0.322084</td>\n",
       "      <td>True</td>\n",
       "      <td>Giant_schnauzer</td>\n",
       "      <td>0.287955</td>\n",
       "      <td>True</td>\n",
       "      <td>Labrador_retriever</td>\n",
       "      <td>0.166331</td>\n",
       "      <td>True</td>\n",
       "      <td>Curly-coated_retriever</td>\n",
       "      <td>p1</td>\n",
       "      <td>0.322084</td>\n",
       "    </tr>\n",
       "    <tr>\n",
       "      <th>37</th>\n",
       "      <td>666454714377183233</td>\n",
       "      <td>https://pbs.twimg.com/media/CT-5Bs-WUAA2JeC.jpg</td>\n",
       "      <td>1</td>\n",
       "      <td>Dalmatian</td>\n",
       "      <td>0.278954</td>\n",
       "      <td>True</td>\n",
       "      <td>Labrador_retriever</td>\n",
       "      <td>0.237612</td>\n",
       "      <td>True</td>\n",
       "      <td>Great_pyrenees</td>\n",
       "      <td>0.171106</td>\n",
       "      <td>True</td>\n",
       "      <td>Dalmatian</td>\n",
       "      <td>p1</td>\n",
       "      <td>0.278954</td>\n",
       "    </tr>\n",
       "    <tr>\n",
       "      <th>38</th>\n",
       "      <td>666644823164719104</td>\n",
       "      <td>https://pbs.twimg.com/media/CUBl6IwVAAA9_zT.jpg</td>\n",
       "      <td>1</td>\n",
       "      <td>Ibizan_hound</td>\n",
       "      <td>0.044333</td>\n",
       "      <td>True</td>\n",
       "      <td>Pembroke</td>\n",
       "      <td>0.043209</td>\n",
       "      <td>True</td>\n",
       "      <td>West_highland_white_terrier</td>\n",
       "      <td>0.038906</td>\n",
       "      <td>True</td>\n",
       "      <td>Ibizan_hound</td>\n",
       "      <td>p1</td>\n",
       "      <td>0.044333</td>\n",
       "    </tr>\n",
       "    <tr>\n",
       "      <th>39</th>\n",
       "      <td>666649482315059201</td>\n",
       "      <td>https://pbs.twimg.com/media/CUBqKnLWwAA5OQB.jpg</td>\n",
       "      <td>1</td>\n",
       "      <td>Border_collie</td>\n",
       "      <td>0.447803</td>\n",
       "      <td>True</td>\n",
       "      <td>English_springer</td>\n",
       "      <td>0.170497</td>\n",
       "      <td>True</td>\n",
       "      <td>Collie</td>\n",
       "      <td>0.139206</td>\n",
       "      <td>True</td>\n",
       "      <td>Border_collie</td>\n",
       "      <td>p1</td>\n",
       "      <td>0.447803</td>\n",
       "    </tr>\n",
       "    <tr>\n",
       "      <th>40</th>\n",
       "      <td>666691418707132416</td>\n",
       "      <td>https://pbs.twimg.com/media/CUCQTpEWEAA7EDz.jpg</td>\n",
       "      <td>1</td>\n",
       "      <td>German_shepherd</td>\n",
       "      <td>0.975401</td>\n",
       "      <td>True</td>\n",
       "      <td>Beagle</td>\n",
       "      <td>0.008687</td>\n",
       "      <td>True</td>\n",
       "      <td>Bloodhound</td>\n",
       "      <td>0.005394</td>\n",
       "      <td>True</td>\n",
       "      <td>German_shepherd</td>\n",
       "      <td>p1</td>\n",
       "      <td>0.975401</td>\n",
       "    </tr>\n",
       "    <tr>\n",
       "      <th>41</th>\n",
       "      <td>666701168228331520</td>\n",
       "      <td>https://pbs.twimg.com/media/CUCZLHlUAAAeAig.jpg</td>\n",
       "      <td>1</td>\n",
       "      <td>Labrador_retriever</td>\n",
       "      <td>0.887707</td>\n",
       "      <td>True</td>\n",
       "      <td>Chihuahua</td>\n",
       "      <td>0.029307</td>\n",
       "      <td>True</td>\n",
       "      <td>French_bulldog</td>\n",
       "      <td>0.020756</td>\n",
       "      <td>True</td>\n",
       "      <td>Labrador_retriever</td>\n",
       "      <td>p1</td>\n",
       "      <td>0.887707</td>\n",
       "    </tr>\n",
       "    <tr>\n",
       "      <th>42</th>\n",
       "      <td>666739327293083650</td>\n",
       "      <td>https://pbs.twimg.com/media/CUC74aTWoAInZey.jpg</td>\n",
       "      <td>1</td>\n",
       "      <td>Miniature_poodle</td>\n",
       "      <td>0.546933</td>\n",
       "      <td>True</td>\n",
       "      <td>Cocker_spaniel</td>\n",
       "      <td>0.165255</td>\n",
       "      <td>True</td>\n",
       "      <td>Toy_poodle</td>\n",
       "      <td>0.095959</td>\n",
       "      <td>True</td>\n",
       "      <td>Miniature_poodle</td>\n",
       "      <td>p1</td>\n",
       "      <td>0.546933</td>\n",
       "    </tr>\n",
       "    <tr>\n",
       "      <th>43</th>\n",
       "      <td>666776908487630848</td>\n",
       "      <td>https://pbs.twimg.com/media/CUDeDoWUYAAD-EM.jpg</td>\n",
       "      <td>1</td>\n",
       "      <td>Seat_belt</td>\n",
       "      <td>0.375057</td>\n",
       "      <td>False</td>\n",
       "      <td>Miniature_pinscher</td>\n",
       "      <td>0.167175</td>\n",
       "      <td>True</td>\n",
       "      <td>Chihuahua</td>\n",
       "      <td>0.086951</td>\n",
       "      <td>True</td>\n",
       "      <td>Miniature_pinscher</td>\n",
       "      <td>p2</td>\n",
       "      <td>0.167175</td>\n",
       "    </tr>\n",
       "    <tr>\n",
       "      <th>44</th>\n",
       "      <td>666781792255496192</td>\n",
       "      <td>https://pbs.twimg.com/media/CUDigRXXIAATI_H.jpg</td>\n",
       "      <td>1</td>\n",
       "      <td>Italian_greyhound</td>\n",
       "      <td>0.618316</td>\n",
       "      <td>True</td>\n",
       "      <td>Weimaraner</td>\n",
       "      <td>0.151363</td>\n",
       "      <td>True</td>\n",
       "      <td>Vizsla</td>\n",
       "      <td>0.085989</td>\n",
       "      <td>True</td>\n",
       "      <td>Italian_greyhound</td>\n",
       "      <td>p1</td>\n",
       "      <td>0.618316</td>\n",
       "    </tr>\n",
       "    <tr>\n",
       "      <th>46</th>\n",
       "      <td>666804364988780544</td>\n",
       "      <td>https://pbs.twimg.com/media/CUD3A7YWoAA82N0.jpg</td>\n",
       "      <td>1</td>\n",
       "      <td>English_setter</td>\n",
       "      <td>0.328792</td>\n",
       "      <td>True</td>\n",
       "      <td>Brittany_spaniel</td>\n",
       "      <td>0.283545</td>\n",
       "      <td>True</td>\n",
       "      <td>Ibizan_hound</td>\n",
       "      <td>0.057461</td>\n",
       "      <td>True</td>\n",
       "      <td>English_setter</td>\n",
       "      <td>p1</td>\n",
       "      <td>0.328792</td>\n",
       "    </tr>\n",
       "    <tr>\n",
       "      <th>47</th>\n",
       "      <td>666817836334096384</td>\n",
       "      <td>https://pbs.twimg.com/media/CUEDSMEWEAAuXVZ.jpg</td>\n",
       "      <td>1</td>\n",
       "      <td>Miniature_schnauzer</td>\n",
       "      <td>0.496953</td>\n",
       "      <td>True</td>\n",
       "      <td>Standard_schnauzer</td>\n",
       "      <td>0.285276</td>\n",
       "      <td>True</td>\n",
       "      <td>Giant_schnauzer</td>\n",
       "      <td>0.073764</td>\n",
       "      <td>True</td>\n",
       "      <td>Miniature_schnauzer</td>\n",
       "      <td>p1</td>\n",
       "      <td>0.496953</td>\n",
       "    </tr>\n",
       "    <tr>\n",
       "      <th>48</th>\n",
       "      <td>666826780179869698</td>\n",
       "      <td>https://pbs.twimg.com/media/CUELa0NUkAAscGC.jpg</td>\n",
       "      <td>1</td>\n",
       "      <td>Maltese_dog</td>\n",
       "      <td>0.359383</td>\n",
       "      <td>True</td>\n",
       "      <td>Teddy</td>\n",
       "      <td>0.148759</td>\n",
       "      <td>False</td>\n",
       "      <td>West_highland_white_terrier</td>\n",
       "      <td>0.106007</td>\n",
       "      <td>True</td>\n",
       "      <td>Maltese_dog</td>\n",
       "      <td>p1</td>\n",
       "      <td>0.359383</td>\n",
       "    </tr>\n",
       "    <tr>\n",
       "      <th>49</th>\n",
       "      <td>666835007768551424</td>\n",
       "      <td>https://pbs.twimg.com/media/CUES51dXIAEahyG.jpg</td>\n",
       "      <td>1</td>\n",
       "      <td>Airedale</td>\n",
       "      <td>0.448459</td>\n",
       "      <td>True</td>\n",
       "      <td>Toy_poodle</td>\n",
       "      <td>0.124030</td>\n",
       "      <td>True</td>\n",
       "      <td>Teddy</td>\n",
       "      <td>0.110183</td>\n",
       "      <td>False</td>\n",
       "      <td>Airedale</td>\n",
       "      <td>p1</td>\n",
       "      <td>0.448459</td>\n",
       "    </tr>\n",
       "    <tr>\n",
       "      <th>52</th>\n",
       "      <td>666996132027977728</td>\n",
       "      <td>https://pbs.twimg.com/media/CUGlb6iUwAITEbW.jpg</td>\n",
       "      <td>1</td>\n",
       "      <td>Hay</td>\n",
       "      <td>0.507637</td>\n",
       "      <td>False</td>\n",
       "      <td>Rottweiler</td>\n",
       "      <td>0.062490</td>\n",
       "      <td>True</td>\n",
       "      <td>Water_buffalo</td>\n",
       "      <td>0.048425</td>\n",
       "      <td>False</td>\n",
       "      <td>Rottweiler</td>\n",
       "      <td>p2</td>\n",
       "      <td>0.062490</td>\n",
       "    </tr>\n",
       "    <tr>\n",
       "      <th>54</th>\n",
       "      <td>667044094246576128</td>\n",
       "      <td>https://pbs.twimg.com/media/CUHREBXXAAE6A9b.jpg</td>\n",
       "      <td>1</td>\n",
       "      <td>Golden_retriever</td>\n",
       "      <td>0.765266</td>\n",
       "      <td>True</td>\n",
       "      <td>Labrador_retriever</td>\n",
       "      <td>0.206694</td>\n",
       "      <td>True</td>\n",
       "      <td>Seat_belt</td>\n",
       "      <td>0.010667</td>\n",
       "      <td>False</td>\n",
       "      <td>Golden_retriever</td>\n",
       "      <td>p1</td>\n",
       "      <td>0.765266</td>\n",
       "    </tr>\n",
       "    <tr>\n",
       "      <th>55</th>\n",
       "      <td>667062181243039745</td>\n",
       "      <td>https://pbs.twimg.com/media/CUHhgvHUAAA4aB0.jpg</td>\n",
       "      <td>1</td>\n",
       "      <td>Chesapeake_bay_retriever</td>\n",
       "      <td>0.825678</td>\n",
       "      <td>True</td>\n",
       "      <td>Vizsla</td>\n",
       "      <td>0.090998</td>\n",
       "      <td>True</td>\n",
       "      <td>Kelpie</td>\n",
       "      <td>0.022956</td>\n",
       "      <td>True</td>\n",
       "      <td>Chesapeake_bay_retriever</td>\n",
       "      <td>p1</td>\n",
       "      <td>0.825678</td>\n",
       "    </tr>\n",
       "    <tr>\n",
       "      <th>57</th>\n",
       "      <td>667073648344346624</td>\n",
       "      <td>https://pbs.twimg.com/media/CUHr8WbWEAEBPgf.jpg</td>\n",
       "      <td>1</td>\n",
       "      <td>Chihuahua</td>\n",
       "      <td>0.483682</td>\n",
       "      <td>True</td>\n",
       "      <td>Pug</td>\n",
       "      <td>0.092494</td>\n",
       "      <td>True</td>\n",
       "      <td>Brabancon_griffon</td>\n",
       "      <td>0.057495</td>\n",
       "      <td>True</td>\n",
       "      <td>Chihuahua</td>\n",
       "      <td>p1</td>\n",
       "      <td>0.483682</td>\n",
       "    </tr>\n",
       "    <tr>\n",
       "      <th>58</th>\n",
       "      <td>667090893657276420</td>\n",
       "      <td>https://pbs.twimg.com/media/CUH7oLuUsAELWib.jpg</td>\n",
       "      <td>1</td>\n",
       "      <td>Chihuahua</td>\n",
       "      <td>0.959514</td>\n",
       "      <td>True</td>\n",
       "      <td>Italian_greyhound</td>\n",
       "      <td>0.005370</td>\n",
       "      <td>True</td>\n",
       "      <td>Pomeranian</td>\n",
       "      <td>0.002641</td>\n",
       "      <td>True</td>\n",
       "      <td>Chihuahua</td>\n",
       "      <td>p1</td>\n",
       "      <td>0.959514</td>\n",
       "    </tr>\n",
       "    <tr>\n",
       "      <th>59</th>\n",
       "      <td>667119796878725120</td>\n",
       "      <td>https://pbs.twimg.com/media/CUIV6F7XIAA1tAM.jpg</td>\n",
       "      <td>1</td>\n",
       "      <td>Pembroke</td>\n",
       "      <td>0.741563</td>\n",
       "      <td>True</td>\n",
       "      <td>Chihuahua</td>\n",
       "      <td>0.057866</td>\n",
       "      <td>True</td>\n",
       "      <td>Toy_poodle</td>\n",
       "      <td>0.039125</td>\n",
       "      <td>True</td>\n",
       "      <td>Pembroke</td>\n",
       "      <td>p1</td>\n",
       "      <td>0.741563</td>\n",
       "    </tr>\n",
       "    <tr>\n",
       "      <th>60</th>\n",
       "      <td>667138269671505920</td>\n",
       "      <td>https://pbs.twimg.com/media/CUImtzEVAAAZNJo.jpg</td>\n",
       "      <td>1</td>\n",
       "      <td>West_highland_white_terrier</td>\n",
       "      <td>0.747713</td>\n",
       "      <td>True</td>\n",
       "      <td>Samoyed</td>\n",
       "      <td>0.243629</td>\n",
       "      <td>True</td>\n",
       "      <td>Toy_poodle</td>\n",
       "      <td>0.001804</td>\n",
       "      <td>True</td>\n",
       "      <td>West_highland_white_terrier</td>\n",
       "      <td>p1</td>\n",
       "      <td>0.747713</td>\n",
       "    </tr>\n",
       "  </tbody>\n",
       "</table>\n",
       "</div>"
      ],
      "text/plain": [
       "              tweet_id                                          jpg_url  \\\n",
       "0   666020888022790149  https://pbs.twimg.com/media/CT4udn0WwAA0aMy.jpg   \n",
       "1   666029285002620928  https://pbs.twimg.com/media/CT42GRgUYAA5iDo.jpg   \n",
       "2   666033412701032449  https://pbs.twimg.com/media/CT4521TWwAEvMyu.jpg   \n",
       "3   666044226329800704  https://pbs.twimg.com/media/CT5Dr8HUEAA-lEu.jpg   \n",
       "4   666049248165822465  https://pbs.twimg.com/media/CT5IQmsXIAAKY4A.jpg   \n",
       "5   666050758794694657  https://pbs.twimg.com/media/CT5Jof1WUAEuVxN.jpg   \n",
       "7   666055525042405380  https://pbs.twimg.com/media/CT5N9tpXIAAifs1.jpg   \n",
       "8   666057090499244032  https://pbs.twimg.com/media/CT5PY90WoAAQGLo.jpg   \n",
       "9   666058600524156928  https://pbs.twimg.com/media/CT5Qw94XAAA_2dP.jpg   \n",
       "10  666063827256086533  https://pbs.twimg.com/media/CT5Vg_wXIAAXfnj.jpg   \n",
       "11  666071193221509120  https://pbs.twimg.com/media/CT5cN_3WEAAlOoZ.jpg   \n",
       "12  666073100786774016  https://pbs.twimg.com/media/CT5d9DZXAAALcwe.jpg   \n",
       "13  666082916733198337  https://pbs.twimg.com/media/CT5m4VGWEAAtKc8.jpg   \n",
       "14  666094000022159362  https://pbs.twimg.com/media/CT5w9gUW4AAsBNN.jpg   \n",
       "15  666099513787052032  https://pbs.twimg.com/media/CT51-JJUEAA6hV8.jpg   \n",
       "16  666102155909144576  https://pbs.twimg.com/media/CT54YGiWUAEZnoK.jpg   \n",
       "19  666273097616637952  https://pbs.twimg.com/media/CT8T1mtUwAA3aqm.jpg   \n",
       "20  666287406224695296  https://pbs.twimg.com/media/CT8g3BpUEAAuFjg.jpg   \n",
       "22  666337882303524864  https://pbs.twimg.com/media/CT9OwFIWEAMuRje.jpg   \n",
       "23  666345417576210432  https://pbs.twimg.com/media/CT9Vn7PWoAA_ZCM.jpg   \n",
       "24  666353288456101888  https://pbs.twimg.com/media/CT9cx0tUEAAhNN_.jpg   \n",
       "26  666373753744588802  https://pbs.twimg.com/media/CT9vZEYWUAAlZ05.jpg   \n",
       "27  666396247373291520  https://pbs.twimg.com/media/CT-D2ZHWIAA3gK1.jpg   \n",
       "28  666407126856765440  https://pbs.twimg.com/media/CT-NvwmW4AAugGZ.jpg   \n",
       "30  666418789513326592  https://pbs.twimg.com/media/CT-YWb7U8AA7QnN.jpg   \n",
       "31  666421158376562688  https://pbs.twimg.com/media/CT-aggCXAAIMfT3.jpg   \n",
       "32  666428276349472768  https://pbs.twimg.com/media/CT-g-0DUwAEQdSn.jpg   \n",
       "33  666430724426358785  https://pbs.twimg.com/media/CT-jNYqW4AAPi2M.jpg   \n",
       "34  666435652385423360  https://pbs.twimg.com/media/CT-nsTQWEAEkyDn.jpg   \n",
       "35  666437273139982337  https://pbs.twimg.com/media/CT-pKmRWIAAxUWj.jpg   \n",
       "36  666447344410484738  https://pbs.twimg.com/media/CT-yU5QWwAEjLX5.jpg   \n",
       "37  666454714377183233  https://pbs.twimg.com/media/CT-5Bs-WUAA2JeC.jpg   \n",
       "38  666644823164719104  https://pbs.twimg.com/media/CUBl6IwVAAA9_zT.jpg   \n",
       "39  666649482315059201  https://pbs.twimg.com/media/CUBqKnLWwAA5OQB.jpg   \n",
       "40  666691418707132416  https://pbs.twimg.com/media/CUCQTpEWEAA7EDz.jpg   \n",
       "41  666701168228331520  https://pbs.twimg.com/media/CUCZLHlUAAAeAig.jpg   \n",
       "42  666739327293083650  https://pbs.twimg.com/media/CUC74aTWoAInZey.jpg   \n",
       "43  666776908487630848  https://pbs.twimg.com/media/CUDeDoWUYAAD-EM.jpg   \n",
       "44  666781792255496192  https://pbs.twimg.com/media/CUDigRXXIAATI_H.jpg   \n",
       "46  666804364988780544  https://pbs.twimg.com/media/CUD3A7YWoAA82N0.jpg   \n",
       "47  666817836334096384  https://pbs.twimg.com/media/CUEDSMEWEAAuXVZ.jpg   \n",
       "48  666826780179869698  https://pbs.twimg.com/media/CUELa0NUkAAscGC.jpg   \n",
       "49  666835007768551424  https://pbs.twimg.com/media/CUES51dXIAEahyG.jpg   \n",
       "52  666996132027977728  https://pbs.twimg.com/media/CUGlb6iUwAITEbW.jpg   \n",
       "54  667044094246576128  https://pbs.twimg.com/media/CUHREBXXAAE6A9b.jpg   \n",
       "55  667062181243039745  https://pbs.twimg.com/media/CUHhgvHUAAA4aB0.jpg   \n",
       "57  667073648344346624  https://pbs.twimg.com/media/CUHr8WbWEAEBPgf.jpg   \n",
       "58  667090893657276420  https://pbs.twimg.com/media/CUH7oLuUsAELWib.jpg   \n",
       "59  667119796878725120  https://pbs.twimg.com/media/CUIV6F7XIAA1tAM.jpg   \n",
       "60  667138269671505920  https://pbs.twimg.com/media/CUImtzEVAAAZNJo.jpg   \n",
       "\n",
       "    img_num                           p1   p1_conf  p1_dog  \\\n",
       "0         1       Welsh_springer_spaniel  0.465074    True   \n",
       "1         1                      Redbone  0.506826    True   \n",
       "2         1              German_shepherd  0.596461    True   \n",
       "3         1          Rhodesian_ridgeback  0.408143    True   \n",
       "4         1           Miniature_pinscher  0.560311    True   \n",
       "5         1         Bernese_mountain_dog  0.651137    True   \n",
       "7         1                         Chow  0.692517    True   \n",
       "8         1                Shopping_cart  0.962465   False   \n",
       "9         1             Miniature_poodle  0.201493    True   \n",
       "10        1             Golden_retriever  0.775930    True   \n",
       "11        1                Gordon_setter  0.503672    True   \n",
       "12        1                 Walker_hound  0.260857    True   \n",
       "13        1                          Pug  0.489814    True   \n",
       "14        1                   Bloodhound  0.195217    True   \n",
       "15        1                        Lhasa  0.582330    True   \n",
       "16        1               English_setter  0.298617    True   \n",
       "19        1            Italian_greyhound  0.176053    True   \n",
       "20        1                  Maltese_dog  0.857531    True   \n",
       "22        1                           Ox  0.416669   False   \n",
       "23        1             Golden_retriever  0.858744    True   \n",
       "24        1                     Malamute  0.336874    True   \n",
       "26        1  Soft-coated_wheaten_terrier  0.326467    True   \n",
       "27        1                    Chihuahua  0.978108    True   \n",
       "28        1      Black-and-tan_coonhound  0.529139    True   \n",
       "30        1                  Toy_terrier  0.149680    True   \n",
       "31        1             Blenheim_spaniel  0.906777    True   \n",
       "32        1                     Pembroke  0.371361    True   \n",
       "33        1                        Llama  0.505184   False   \n",
       "34        1     Chesapeake_bay_retriever  0.184130    True   \n",
       "35        1                    Chihuahua  0.671853    True   \n",
       "36        1       Curly-coated_retriever  0.322084    True   \n",
       "37        1                    Dalmatian  0.278954    True   \n",
       "38        1                 Ibizan_hound  0.044333    True   \n",
       "39        1                Border_collie  0.447803    True   \n",
       "40        1              German_shepherd  0.975401    True   \n",
       "41        1           Labrador_retriever  0.887707    True   \n",
       "42        1             Miniature_poodle  0.546933    True   \n",
       "43        1                    Seat_belt  0.375057   False   \n",
       "44        1            Italian_greyhound  0.618316    True   \n",
       "46        1               English_setter  0.328792    True   \n",
       "47        1          Miniature_schnauzer  0.496953    True   \n",
       "48        1                  Maltese_dog  0.359383    True   \n",
       "49        1                     Airedale  0.448459    True   \n",
       "52        1                          Hay  0.507637   False   \n",
       "54        1             Golden_retriever  0.765266    True   \n",
       "55        1     Chesapeake_bay_retriever  0.825678    True   \n",
       "57        1                    Chihuahua  0.483682    True   \n",
       "58        1                    Chihuahua  0.959514    True   \n",
       "59        1                     Pembroke  0.741563    True   \n",
       "60        1  West_highland_white_terrier  0.747713    True   \n",
       "\n",
       "                          p2   p2_conf  p2_dog                           p3  \\\n",
       "0                     Collie  0.156665    True            Shetland_sheepdog   \n",
       "1         Miniature_pinscher  0.074192    True          Rhodesian_ridgeback   \n",
       "2                   Malinois  0.138584    True                   Bloodhound   \n",
       "3                    Redbone  0.360687    True           Miniature_pinscher   \n",
       "4                 Rottweiler  0.243682    True                     Doberman   \n",
       "5           English_springer  0.263788    True   Greater_swiss_mountain_dog   \n",
       "7            Tibetan_mastiff  0.058279    True                     Fur_coat   \n",
       "8            Shopping_basket  0.014594   False             Golden_retriever   \n",
       "9                   Komondor  0.192305    True  Soft-coated_wheaten_terrier   \n",
       "10           Tibetan_mastiff  0.093718    True           Labrador_retriever   \n",
       "11         Yorkshire_terrier  0.174201    True                     Pekinese   \n",
       "12          English_foxhound  0.175382    True                 Ibizan_hound   \n",
       "13              Bull_mastiff  0.404722    True               French_bulldog   \n",
       "14           German_shepherd  0.078260    True                     Malinois   \n",
       "15                  Shih-tzu  0.166192    True               Dandie_dinmont   \n",
       "16              Newfoundland  0.149842    True                       Borzoi   \n",
       "19               Toy_terrier  0.111884    True                      Basenji   \n",
       "20                Toy_poodle  0.063064    True             Miniature_poodle   \n",
       "22              Newfoundland  0.278407    True                  Groenendael   \n",
       "23  Chesapeake_bay_retriever  0.054787    True           Labrador_retriever   \n",
       "24            Siberian_husky  0.147655    True                   Eskimo_dog   \n",
       "26              Afghan_hound  0.259551    True                       Briard   \n",
       "27               Toy_terrier  0.009397    True                     Papillon   \n",
       "28                Bloodhound  0.244220    True        Flat-coated_retriever   \n",
       "30                  Papillon  0.148258    True                    Chihuahua   \n",
       "31            Cocker_spaniel  0.090346    True                     Shih-tzu   \n",
       "32                      Chow  0.249394    True                   Pomeranian   \n",
       "33             Irish_terrier  0.104109    True                        Dingo   \n",
       "34                 Chain_saw  0.056775   False                  Power_drill   \n",
       "35                    Beagle  0.124680    True                       Saluki   \n",
       "36           Giant_schnauzer  0.287955    True           Labrador_retriever   \n",
       "37        Labrador_retriever  0.237612    True               Great_pyrenees   \n",
       "38                  Pembroke  0.043209    True  West_highland_white_terrier   \n",
       "39          English_springer  0.170497    True                       Collie   \n",
       "40                    Beagle  0.008687    True                   Bloodhound   \n",
       "41                 Chihuahua  0.029307    True               French_bulldog   \n",
       "42            Cocker_spaniel  0.165255    True                   Toy_poodle   \n",
       "43        Miniature_pinscher  0.167175    True                    Chihuahua   \n",
       "44                Weimaraner  0.151363    True                       Vizsla   \n",
       "46          Brittany_spaniel  0.283545    True                 Ibizan_hound   \n",
       "47        Standard_schnauzer  0.285276    True              Giant_schnauzer   \n",
       "48                     Teddy  0.148759   False  West_highland_white_terrier   \n",
       "49                Toy_poodle  0.124030    True                        Teddy   \n",
       "52                Rottweiler  0.062490    True                Water_buffalo   \n",
       "54        Labrador_retriever  0.206694    True                    Seat_belt   \n",
       "55                    Vizsla  0.090998    True                       Kelpie   \n",
       "57                       Pug  0.092494    True            Brabancon_griffon   \n",
       "58         Italian_greyhound  0.005370    True                   Pomeranian   \n",
       "59                 Chihuahua  0.057866    True                   Toy_poodle   \n",
       "60                   Samoyed  0.243629    True                   Toy_poodle   \n",
       "\n",
       "     p3_conf  p3_dog                    dog_breed algo  algo_conf  \n",
       "0   0.061428    True       Welsh_springer_spaniel   p1   0.465074  \n",
       "1   0.072010    True                      Redbone   p1   0.506826  \n",
       "2   0.116197    True              German_shepherd   p1   0.596461  \n",
       "3   0.222752    True          Rhodesian_ridgeback   p1   0.408143  \n",
       "4   0.154629    True           Miniature_pinscher   p1   0.560311  \n",
       "5   0.016199    True         Bernese_mountain_dog   p1   0.651137  \n",
       "7   0.054449   False                         Chow   p1   0.692517  \n",
       "8   0.007959    True             Golden_retriever   p3   0.007959  \n",
       "9   0.082086    True             Miniature_poodle   p1   0.201493  \n",
       "10  0.072427    True             Golden_retriever   p1   0.775930  \n",
       "11  0.109454    True                Gordon_setter   p1   0.503672  \n",
       "12  0.097471    True                 Walker_hound   p1   0.260857  \n",
       "13  0.048960    True                          Pug   p1   0.489814  \n",
       "14  0.075628    True                   Bloodhound   p1   0.195217  \n",
       "15  0.089688    True                        Lhasa   p1   0.582330  \n",
       "16  0.133649    True               English_setter   p1   0.298617  \n",
       "19  0.111152    True            Italian_greyhound   p1   0.176053  \n",
       "20  0.025581    True                  Maltese_dog   p1   0.857531  \n",
       "22  0.102643    True                 Newfoundland   p2   0.278407  \n",
       "23  0.014241    True             Golden_retriever   p1   0.858744  \n",
       "24  0.093412    True                     Malamute   p1   0.336874  \n",
       "26  0.206803    True  Soft-coated_wheaten_terrier   p1   0.326467  \n",
       "27  0.004577    True                    Chihuahua   p1   0.978108  \n",
       "28  0.173810    True      Black-and-tan_coonhound   p1   0.529139  \n",
       "30  0.142860    True                  Toy_terrier   p1   0.149680  \n",
       "31  0.001117    True             Blenheim_spaniel   p1   0.906777  \n",
       "32  0.241878    True                     Pembroke   p1   0.371361  \n",
       "33  0.062071   False                Irish_terrier   p2   0.104109  \n",
       "34  0.036763   False     Chesapeake_bay_retriever   p1   0.184130  \n",
       "35  0.044094    True                    Chihuahua   p1   0.671853  \n",
       "36  0.166331    True       Curly-coated_retriever   p1   0.322084  \n",
       "37  0.171106    True                    Dalmatian   p1   0.278954  \n",
       "38  0.038906    True                 Ibizan_hound   p1   0.044333  \n",
       "39  0.139206    True                Border_collie   p1   0.447803  \n",
       "40  0.005394    True              German_shepherd   p1   0.975401  \n",
       "41  0.020756    True           Labrador_retriever   p1   0.887707  \n",
       "42  0.095959    True             Miniature_poodle   p1   0.546933  \n",
       "43  0.086951    True           Miniature_pinscher   p2   0.167175  \n",
       "44  0.085989    True            Italian_greyhound   p1   0.618316  \n",
       "46  0.057461    True               English_setter   p1   0.328792  \n",
       "47  0.073764    True          Miniature_schnauzer   p1   0.496953  \n",
       "48  0.106007    True                  Maltese_dog   p1   0.359383  \n",
       "49  0.110183   False                     Airedale   p1   0.448459  \n",
       "52  0.048425   False                   Rottweiler   p2   0.062490  \n",
       "54  0.010667   False             Golden_retriever   p1   0.765266  \n",
       "55  0.022956    True     Chesapeake_bay_retriever   p1   0.825678  \n",
       "57  0.057495    True                    Chihuahua   p1   0.483682  \n",
       "58  0.002641    True                    Chihuahua   p1   0.959514  \n",
       "59  0.039125    True                     Pembroke   p1   0.741563  \n",
       "60  0.001804    True  West_highland_white_terrier   p1   0.747713  "
      ]
     },
     "execution_count": 223,
     "metadata": {},
     "output_type": "execute_result"
    }
   ],
   "source": [
    "#verify the new columns are added \n",
    "df_images.head(50)"
   ]
  },
  {
   "cell_type": "markdown",
   "metadata": {},
   "source": [
    "**Define Tidiness issue 6**\n",
    "\n",
    "Delete unnecessary columns"
   ]
  },
  {
   "cell_type": "markdown",
   "metadata": {},
   "source": [
    "**Code**"
   ]
  },
  {
   "cell_type": "code",
   "execution_count": 224,
   "metadata": {
    "scrolled": true
   },
   "outputs": [
    {
     "name": "stdout",
     "output_type": "stream",
     "text": [
      "<class 'pandas.core.frame.DataFrame'>\n",
      "Int64Index: 1751 entries, 0 to 2073\n",
      "Data columns (total 15 columns):\n",
      "tweet_id     1751 non-null int64\n",
      "jpg_url      1751 non-null object\n",
      "img_num      1751 non-null int64\n",
      "p1           1751 non-null object\n",
      "p1_conf      1751 non-null float64\n",
      "p1_dog       1751 non-null bool\n",
      "p2           1751 non-null object\n",
      "p2_conf      1751 non-null float64\n",
      "p2_dog       1751 non-null bool\n",
      "p3           1751 non-null object\n",
      "p3_conf      1751 non-null float64\n",
      "p3_dog       1751 non-null bool\n",
      "dog_breed    1751 non-null object\n",
      "algo         1751 non-null object\n",
      "algo_conf    1751 non-null float64\n",
      "dtypes: bool(3), float64(4), int64(2), object(6)\n",
      "memory usage: 263.0+ KB\n"
     ]
    }
   ],
   "source": [
    "# lets inspect and delete unnecessary columns from the df_image\n",
    "df_images.info()"
   ]
  },
  {
   "cell_type": "code",
   "execution_count": 225,
   "metadata": {},
   "outputs": [],
   "source": [
    "# Lets delete unneccessary : img_num, p1, p1_conf, p1_dog, p2, p2_conf, p2_dog p3, p3_conf, p3_dog\n",
    "columns = [\"img_num\", \"p1\", \"p1_conf\", \"p1_dog\", \"p2\", \"p2_conf\", \"p2_dog\", \"p3\", \"p3_conf\", \"p3_dog\"]\n",
    "df_images.drop(columns, axis=1, inplace=True)"
   ]
  },
  {
   "cell_type": "markdown",
   "metadata": {},
   "source": [
    "**Test**"
   ]
  },
  {
   "cell_type": "code",
   "execution_count": 226,
   "metadata": {
    "scrolled": true
   },
   "outputs": [
    {
     "data": {
      "text/html": [
       "<div>\n",
       "<style scoped>\n",
       "    .dataframe tbody tr th:only-of-type {\n",
       "        vertical-align: middle;\n",
       "    }\n",
       "\n",
       "    .dataframe tbody tr th {\n",
       "        vertical-align: top;\n",
       "    }\n",
       "\n",
       "    .dataframe thead th {\n",
       "        text-align: right;\n",
       "    }\n",
       "</style>\n",
       "<table border=\"1\" class=\"dataframe\">\n",
       "  <thead>\n",
       "    <tr style=\"text-align: right;\">\n",
       "      <th></th>\n",
       "      <th>tweet_id</th>\n",
       "      <th>jpg_url</th>\n",
       "      <th>dog_breed</th>\n",
       "      <th>algo</th>\n",
       "      <th>algo_conf</th>\n",
       "    </tr>\n",
       "  </thead>\n",
       "  <tbody>\n",
       "    <tr>\n",
       "      <th>0</th>\n",
       "      <td>666020888022790149</td>\n",
       "      <td>https://pbs.twimg.com/media/CT4udn0WwAA0aMy.jpg</td>\n",
       "      <td>Welsh_springer_spaniel</td>\n",
       "      <td>p1</td>\n",
       "      <td>0.465074</td>\n",
       "    </tr>\n",
       "  </tbody>\n",
       "</table>\n",
       "</div>"
      ],
      "text/plain": [
       "             tweet_id                                          jpg_url  \\\n",
       "0  666020888022790149  https://pbs.twimg.com/media/CT4udn0WwAA0aMy.jpg   \n",
       "\n",
       "                dog_breed algo  algo_conf  \n",
       "0  Welsh_springer_spaniel   p1   0.465074  "
      ]
     },
     "execution_count": 226,
     "metadata": {},
     "output_type": "execute_result"
    }
   ],
   "source": [
    "df_images.head(1)"
   ]
  },
  {
   "cell_type": "markdown",
   "metadata": {},
   "source": [
    "**Define Tidiness 7**\n",
    "\n",
    "Merge all three dataframes"
   ]
  },
  {
   "cell_type": "markdown",
   "metadata": {},
   "source": [
    "**Code**"
   ]
  },
  {
   "cell_type": "code",
   "execution_count": 227,
   "metadata": {},
   "outputs": [],
   "source": [
    "#merge all three dataframes : first merge df_twitter_archive and df_images dataframe\n",
    "df_master_twitter_data=pd.merge(df_twitter_archive, df_images, on=\"tweet_id\")"
   ]
  },
  {
   "cell_type": "code",
   "execution_count": 228,
   "metadata": {},
   "outputs": [],
   "source": [
    "#merge master dataframe and df_tweet_data\n",
    "df_master_twitter_data=pd.merge(df_master_twitter_data, df_tweet_data, on=\"tweet_id\")"
   ]
  },
  {
   "cell_type": "markdown",
   "metadata": {},
   "source": [
    "**Test**"
   ]
  },
  {
   "cell_type": "code",
   "execution_count": 229,
   "metadata": {},
   "outputs": [
    {
     "name": "stdout",
     "output_type": "stream",
     "text": [
      "<class 'pandas.core.frame.DataFrame'>\n",
      "Int64Index: 1666 entries, 0 to 1665\n",
      "Data columns (total 14 columns):\n",
      "tweet_id          1666 non-null int64\n",
      "timestamp         1666 non-null datetime64[ns]\n",
      "source            1666 non-null object\n",
      "text              1666 non-null object\n",
      "Rating            1666 non-null float64\n",
      "expanded_urls     1666 non-null object\n",
      "name              1666 non-null object\n",
      "dog_stage         1666 non-null object\n",
      "jpg_url           1666 non-null object\n",
      "dog_breed         1666 non-null object\n",
      "algo              1666 non-null object\n",
      "algo_conf         1666 non-null float64\n",
      "retweet_count     1666 non-null int64\n",
      "favorite_count    1666 non-null int64\n",
      "dtypes: datetime64[ns](1), float64(2), int64(3), object(8)\n",
      "memory usage: 195.2+ KB\n"
     ]
    }
   ],
   "source": [
    "df_master_twitter_data.info()"
   ]
  },
  {
   "cell_type": "code",
   "execution_count": 230,
   "metadata": {
    "scrolled": true
   },
   "outputs": [
    {
     "data": {
      "text/html": [
       "<div>\n",
       "<style scoped>\n",
       "    .dataframe tbody tr th:only-of-type {\n",
       "        vertical-align: middle;\n",
       "    }\n",
       "\n",
       "    .dataframe tbody tr th {\n",
       "        vertical-align: top;\n",
       "    }\n",
       "\n",
       "    .dataframe thead th {\n",
       "        text-align: right;\n",
       "    }\n",
       "</style>\n",
       "<table border=\"1\" class=\"dataframe\">\n",
       "  <thead>\n",
       "    <tr style=\"text-align: right;\">\n",
       "      <th></th>\n",
       "      <th>tweet_id</th>\n",
       "      <th>timestamp</th>\n",
       "      <th>source</th>\n",
       "      <th>text</th>\n",
       "      <th>Rating</th>\n",
       "      <th>expanded_urls</th>\n",
       "      <th>name</th>\n",
       "      <th>dog_stage</th>\n",
       "      <th>jpg_url</th>\n",
       "      <th>dog_breed</th>\n",
       "      <th>algo</th>\n",
       "      <th>algo_conf</th>\n",
       "      <th>retweet_count</th>\n",
       "      <th>favorite_count</th>\n",
       "    </tr>\n",
       "  </thead>\n",
       "  <tbody>\n",
       "    <tr>\n",
       "      <th>1636</th>\n",
       "      <td>666437273139982337</td>\n",
       "      <td>2015-11-17 02:06:42</td>\n",
       "      <td>iphone</td>\n",
       "      <td>Here we see a lone northeastern Cumberbatch. H...</td>\n",
       "      <td>0.7</td>\n",
       "      <td>https://twitter.com/dog_rates/status/666437273...</td>\n",
       "      <td>None</td>\n",
       "      <td>None</td>\n",
       "      <td>https://pbs.twimg.com/media/CT-pKmRWIAAxUWj.jpg</td>\n",
       "      <td>Chihuahua</td>\n",
       "      <td>p1</td>\n",
       "      <td>0.671853</td>\n",
       "      <td>47</td>\n",
       "      <td>122</td>\n",
       "    </tr>\n",
       "    <tr>\n",
       "      <th>35</th>\n",
       "      <td>883838122936631299</td>\n",
       "      <td>2017-07-09 00:00:04</td>\n",
       "      <td>iphone</td>\n",
       "      <td>This is Noah. He can't believe someone made th...</td>\n",
       "      <td>1.2</td>\n",
       "      <td>https://twitter.com/dog_rates/status/883838122...</td>\n",
       "      <td>Noah</td>\n",
       "      <td>None</td>\n",
       "      <td>https://pbs.twimg.com/media/DEQGFgAXUAAEvfi.jpg</td>\n",
       "      <td>Doberman</td>\n",
       "      <td>p1</td>\n",
       "      <td>0.610946</td>\n",
       "      <td>3333</td>\n",
       "      <td>21297</td>\n",
       "    </tr>\n",
       "    <tr>\n",
       "      <th>257</th>\n",
       "      <td>826958653328592898</td>\n",
       "      <td>2017-02-02 01:01:21</td>\n",
       "      <td>iphone</td>\n",
       "      <td>This is Loki. He smiles like Elvis. Ain't noth...</td>\n",
       "      <td>1.2</td>\n",
       "      <td>https://twitter.com/dog_rates/status/826958653...</td>\n",
       "      <td>Loki</td>\n",
       "      <td>doggo</td>\n",
       "      <td>https://pbs.twimg.com/media/C3nygbBWQAAjwcW.jpg</td>\n",
       "      <td>Golden_retriever</td>\n",
       "      <td>p1</td>\n",
       "      <td>0.617389</td>\n",
       "      <td>5363</td>\n",
       "      <td>22590</td>\n",
       "    </tr>\n",
       "    <tr>\n",
       "      <th>1259</th>\n",
       "      <td>676819651066732545</td>\n",
       "      <td>2015-12-15 17:42:34</td>\n",
       "      <td>iphone</td>\n",
       "      <td>Watch out Airbud. This pupper is also good at ...</td>\n",
       "      <td>1.2</td>\n",
       "      <td>https://twitter.com/dog_rates/status/676819651...</td>\n",
       "      <td>None</td>\n",
       "      <td>pupper</td>\n",
       "      <td>https://pbs.twimg.com/media/CWSL4W8WsAAE4KU.jpg</td>\n",
       "      <td>Labrador_retriever</td>\n",
       "      <td>p3</td>\n",
       "      <td>0.039465</td>\n",
       "      <td>694</td>\n",
       "      <td>1851</td>\n",
       "    </tr>\n",
       "    <tr>\n",
       "      <th>1363</th>\n",
       "      <td>673705679337693185</td>\n",
       "      <td>2015-12-07 03:28:45</td>\n",
       "      <td>iphone</td>\n",
       "      <td>This is Dot. He found out you only pretended t...</td>\n",
       "      <td>0.8</td>\n",
       "      <td>https://twitter.com/dog_rates/status/673705679...</td>\n",
       "      <td>Dot</td>\n",
       "      <td>None</td>\n",
       "      <td>https://pbs.twimg.com/media/CVl7u00WcAAufzR.jpg</td>\n",
       "      <td>Shih-tzu</td>\n",
       "      <td>p1</td>\n",
       "      <td>0.165383</td>\n",
       "      <td>410</td>\n",
       "      <td>1266</td>\n",
       "    </tr>\n",
       "  </tbody>\n",
       "</table>\n",
       "</div>"
      ],
      "text/plain": [
       "                tweet_id           timestamp  source  \\\n",
       "1636  666437273139982337 2015-11-17 02:06:42  iphone   \n",
       "35    883838122936631299 2017-07-09 00:00:04  iphone   \n",
       "257   826958653328592898 2017-02-02 01:01:21  iphone   \n",
       "1259  676819651066732545 2015-12-15 17:42:34  iphone   \n",
       "1363  673705679337693185 2015-12-07 03:28:45  iphone   \n",
       "\n",
       "                                                   text  Rating  \\\n",
       "1636  Here we see a lone northeastern Cumberbatch. H...     0.7   \n",
       "35    This is Noah. He can't believe someone made th...     1.2   \n",
       "257   This is Loki. He smiles like Elvis. Ain't noth...     1.2   \n",
       "1259  Watch out Airbud. This pupper is also good at ...     1.2   \n",
       "1363  This is Dot. He found out you only pretended t...     0.8   \n",
       "\n",
       "                                          expanded_urls  name dog_stage  \\\n",
       "1636  https://twitter.com/dog_rates/status/666437273...  None      None   \n",
       "35    https://twitter.com/dog_rates/status/883838122...  Noah      None   \n",
       "257   https://twitter.com/dog_rates/status/826958653...  Loki     doggo   \n",
       "1259  https://twitter.com/dog_rates/status/676819651...  None    pupper   \n",
       "1363  https://twitter.com/dog_rates/status/673705679...   Dot      None   \n",
       "\n",
       "                                              jpg_url           dog_breed  \\\n",
       "1636  https://pbs.twimg.com/media/CT-pKmRWIAAxUWj.jpg           Chihuahua   \n",
       "35    https://pbs.twimg.com/media/DEQGFgAXUAAEvfi.jpg            Doberman   \n",
       "257   https://pbs.twimg.com/media/C3nygbBWQAAjwcW.jpg    Golden_retriever   \n",
       "1259  https://pbs.twimg.com/media/CWSL4W8WsAAE4KU.jpg  Labrador_retriever   \n",
       "1363  https://pbs.twimg.com/media/CVl7u00WcAAufzR.jpg            Shih-tzu   \n",
       "\n",
       "     algo  algo_conf  retweet_count  favorite_count  \n",
       "1636   p1   0.671853             47             122  \n",
       "35     p1   0.610946           3333           21297  \n",
       "257    p1   0.617389           5363           22590  \n",
       "1259   p3   0.039465            694            1851  \n",
       "1363   p1   0.165383            410            1266  "
      ]
     },
     "execution_count": 230,
     "metadata": {},
     "output_type": "execute_result"
    }
   ],
   "source": [
    "df_master_twitter_data.sample(5)"
   ]
  },
  {
   "cell_type": "code",
   "execution_count": 231,
   "metadata": {},
   "outputs": [],
   "source": [
    "# Lets store the master dataframe into a csv file\n",
    "df_master_twitter_data.to_csv('twitter_archive_master.csv', index=False)"
   ]
  },
  {
   "cell_type": "markdown",
   "metadata": {},
   "source": [
    "# Analysis\n"
   ]
  },
  {
   "cell_type": "markdown",
   "metadata": {},
   "source": [
    "1. Which dog breed has the highest number of tweets.\n",
    "2. Which dog breed has the highest number of retweet counts.\n",
    "3. Which dog breed has the highest number of tweet favorites.\n",
    "4. Which tweet/dog\n",
    "  -  has the highest rating.\n",
    "  \n",
    "  - has the maximum number of tweet counts.\n",
    "  \n",
    "  -  has the maximum number of tweet favorites.\n",
    "  \n",
    "3. What is the reteweet count vs rating relationship.\n",
    "4. What is the tweet favorite count vs rating relationship.\n",
    "5. What is the most common source.\n",
    "6. Which dog stage is most prevalent.\n",
    "7. Which dog stage has highest rating.\n"
   ]
  },
  {
   "cell_type": "markdown",
   "metadata": {},
   "source": [
    "#### Queston 1 \n",
    "> **Which dog breed has the highest number of tweets.**"
   ]
  },
  {
   "cell_type": "code",
   "execution_count": 232,
   "metadata": {},
   "outputs": [
    {
     "data": {
      "text/plain": [
       "Golden_retriever      155\n",
       "Labrador_retriever    103\n",
       "Pembroke               95\n",
       "Chihuahua              91\n",
       "Pug                    62\n",
       "Name: dog_breed, dtype: int64"
      ]
     },
     "execution_count": 232,
     "metadata": {},
     "output_type": "execute_result"
    }
   ],
   "source": [
    "dog_breed_count=df_master_twitter_data[\"dog_breed\"].value_counts()\n",
    "dog_breed_count[0:5]"
   ]
  },
  {
   "cell_type": "code",
   "execution_count": 233,
   "metadata": {},
   "outputs": [
    {
     "data": {
      "image/png": "[encoded data removed]",
      "text/plain": [
       "<matplotlib.figure.Figure at 0x7f9ce1208860>"
      ]
     },
     "metadata": {
      "needs_background": "light"
     },
     "output_type": "display_data"
    }
   ],
   "source": [
    "\n",
    "dog_breed_count[0:10].plot(kind=\"bar\", figsize=(6, 4))\n",
    "plt.title(\"popular dog breed\")\n",
    "plt.xlabel(\"dog breed\")\n",
    "plt.xticks(rotation=45, rotation_mode=\"anchor\", horizontalalignment=\"right\")\n",
    "plt.ylabel(\"no.of tweets per breed\")\n",
    "plt.show()"
   ]
  },
  {
   "cell_type": "markdown",
   "metadata": {},
   "source": [
    "> **\"Golden Retiever\" seems to be the dog breed that has most number of tweets.**"
   ]
  },
  {
   "cell_type": "markdown",
   "metadata": {},
   "source": [
    "#### Question 2\n",
    "> **Which dog breed has the highest number of retweet counts.**"
   ]
  },
  {
   "cell_type": "code",
   "execution_count": 234,
   "metadata": {},
   "outputs": [
    {
     "data": {
      "text/plain": [
       "dog_breed\n",
       "Golden_retriever      551134.0\n",
       "Labrador_retriever    365193.0\n",
       "Pembroke              274453.0\n",
       "Chihuahua             245805.0\n",
       "Samoyed               181108.0\n",
       "French_bulldog        152973.0\n",
       "Cocker_spaniel        138187.0\n",
       "Chow                  123607.0\n",
       "Pug                   110165.0\n",
       "Toy_poodle            107972.0\n",
       "Name: retweet_count, dtype: float64"
      ]
     },
     "execution_count": 234,
     "metadata": {},
     "output_type": "execute_result"
    }
   ],
   "source": [
    "top_retweet_count=df_master_twitter_data.groupby(\"dog_breed\").sum().sort_values(by =\"retweet_count\" , ascending = False ).loc[:,\"retweet_count\"][0:10]\n",
    "top_retweet_count"
   ]
  },
  {
   "cell_type": "code",
   "execution_count": 235,
   "metadata": {},
   "outputs": [
    {
     "data": {
      "image/png": "[encoded data removed]",
      "text/plain": [
       "<matplotlib.figure.Figure at 0x7f9cdee95c88>"
      ]
     },
     "metadata": {
      "needs_background": "light"
     },
     "output_type": "display_data"
    }
   ],
   "source": [
    "top_retweet_count.plot(kind=\"bar\", figsize=(6, 4))\n",
    "plt.title(\"no.of retweets vs dog breed\")\n",
    "plt.xlabel(\"dog breed\")\n",
    "plt.xticks(rotation=45, rotation_mode=\"anchor\", horizontalalignment=\"right\")\n",
    "plt.ylabel(\"no.of retweets per breed\")\n",
    "plt.show()"
   ]
  },
  {
   "cell_type": "markdown",
   "metadata": {},
   "source": [
    "> **Golden Retriever seems to have the most number of re_tweets**."
   ]
  },
  {
   "cell_type": "markdown",
   "metadata": {},
   "source": [
    "#### Question 3\n",
    "> **Which dog breed has the highest number of tweet favorites.**"
   ]
  },
  {
   "cell_type": "code",
   "execution_count": 236,
   "metadata": {},
   "outputs": [
    {
     "data": {
      "text/plain": [
       "dog_breed\n",
       "Golden_retriever      1866708.0\n",
       "Labrador_retriever    1162966.0\n",
       "Pembroke              1006754.0\n",
       "Chihuahua              749013.0\n",
       "French_bulldog         583272.0\n",
       "Samoyed                536904.0\n",
       "Chow                   431641.0\n",
       "Cocker_spaniel         394042.0\n",
       "Pug                    363927.0\n",
       "Malamute               340134.0\n",
       "Name: favorite_count, dtype: float64"
      ]
     },
     "execution_count": 236,
     "metadata": {},
     "output_type": "execute_result"
    }
   ],
   "source": [
    "top_tweetfav_count=df_master_twitter_data.groupby(\"dog_breed\").sum().sort_values(by =\"favorite_count\" , ascending = False ).loc[:,\"favorite_count\"][0:10]\n",
    "top_tweetfav_count"
   ]
  },
  {
   "cell_type": "code",
   "execution_count": 237,
   "metadata": {},
   "outputs": [
    {
     "data": {
      "image/png": "[encoded data removed]",
      "text/plain": [
       "<matplotlib.figure.Figure at 0x7f9cdedbef98>"
      ]
     },
     "metadata": {
      "needs_background": "light"
     },
     "output_type": "display_data"
    }
   ],
   "source": [
    "top_tweetfav_count.plot(kind=\"bar\", figsize=(6, 4))\n",
    "plt.title(\"no.of tweet favorites vs dog breed\")\n",
    "plt.xlabel(\"dog breed\")\n",
    "plt.xticks(rotation=45, rotation_mode=\"anchor\", horizontalalignment=\"right\")\n",
    "plt.ylabel(\"no.of tweet favorites per breed\")\n",
    "plt.show()"
   ]
  },
  {
   "cell_type": "markdown",
   "metadata": {},
   "source": [
    "> **Golden Retriever seems to have the most number of tweet favorites.**"
   ]
  },
  {
   "cell_type": "markdown",
   "metadata": {},
   "source": [
    "#### Question 4 \n",
    "**Which tweet/dog has the highest rating**\n",
    "\n",
    "**Which tweet/dog has the highest retweet_count**\n",
    "\n",
    "**which tweet/dog has the highest favorite_count**"
   ]
  },
  {
   "cell_type": "code",
   "execution_count": 238,
   "metadata": {},
   "outputs": [
    {
     "data": {
      "text/plain": [
       "tweet_id                                         890240255349198849\n",
       "timestamp                                       2017-07-26 15:59:51\n",
       "source                                                       iphone\n",
       "text              This is Cassie. She is a college pup. Studying...\n",
       "Rating                                                          1.4\n",
       "expanded_urls     https://twitter.com/dog_rates/status/890240255...\n",
       "name                                                         Cassie\n",
       "dog_stage                                                     doggo\n",
       "jpg_url             https://pbs.twimg.com/media/DFrEyVuW0AAO3t9.jpg\n",
       "dog_breed                                                  Pembroke\n",
       "algo                                                             p1\n",
       "algo_conf                                                  0.511319\n",
       "retweet_count                                                  7125\n",
       "favorite_count                                                31025\n",
       "Name: 8, dtype: object"
      ]
     },
     "execution_count": 238,
     "metadata": {},
     "output_type": "execute_result"
    }
   ],
   "source": [
    "# highest rating\n",
    "df_master_twitter_data.loc[df_master_twitter_data[\"Rating\"].idxmax()]"
   ]
  },
  {
   "cell_type": "markdown",
   "metadata": {},
   "source": [
    "> **tweetID 890240255349198849, dog name Cassie, seems to have the maximum rating.**"
   ]
  },
  {
   "cell_type": "markdown",
   "metadata": {},
   "source": [
    "> **Lets get picture of the this awesome dog who has the highest rating based on the data.**"
   ]
  },
  {
   "cell_type": "markdown",
   "metadata": {},
   "source": [
    "![title](https://pbs.twimg.com/media/DFrEyVuW0AAO3t9.jpg)"
   ]
  },
  {
   "cell_type": "code",
   "execution_count": 239,
   "metadata": {},
   "outputs": [
    {
     "data": {
      "text/plain": [
       "tweet_id                                         744234799360020481\n",
       "timestamp                                       2016-06-18 18:26:18\n",
       "source                                                       iphone\n",
       "text              Here's a doggo realizing you can stand in a po...\n",
       "Rating                                                          1.3\n",
       "expanded_urls     https://twitter.com/dog_rates/status/744234799...\n",
       "name                                                           None\n",
       "dog_stage                                                     doggo\n",
       "jpg_url           https://pbs.twimg.com/ext_tw_video_thumb/74423...\n",
       "dog_breed                                        Labrador_retriever\n",
       "algo                                                             p1\n",
       "algo_conf                                                  0.825333\n",
       "retweet_count                                                 82658\n",
       "favorite_count                                               162519\n",
       "Name: 683, dtype: object"
      ]
     },
     "execution_count": 239,
     "metadata": {},
     "output_type": "execute_result"
    }
   ],
   "source": [
    "# Highest retweet_count\n",
    "df_master_twitter_data.loc[df_master_twitter_data[\"retweet_count\"].idxmax()]"
   ]
  },
  {
   "cell_type": "markdown",
   "metadata": {},
   "source": [
    "> **tweet id 744234799360020481, a labrador_retriever seems to have the highest re_tweet count, unfortunately his name data is not available, I am going to call him \"Hydro\", as he seems to enjoy water a lot.**"
   ]
  },
  {
   "cell_type": "markdown",
   "metadata": {},
   "source": [
    "> **Lets get picture of the this awesome dog who has the highest re_tweet count in our data.**"
   ]
  },
  {
   "cell_type": "markdown",
   "metadata": {},
   "source": [
    "![title](https://pbs.twimg.com/ext_tw_video_thumb/744234667679821824/pu/img/1GaWmtJtdqzZV7jy.jpg)"
   ]
  },
  {
   "cell_type": "code",
   "execution_count": 240,
   "metadata": {},
   "outputs": [
    {
     "data": {
      "text/plain": [
       "tweet_id                                         744234799360020481\n",
       "timestamp                                       2016-06-18 18:26:18\n",
       "source                                                       iphone\n",
       "text              Here's a doggo realizing you can stand in a po...\n",
       "Rating                                                          1.3\n",
       "expanded_urls     https://twitter.com/dog_rates/status/744234799...\n",
       "name                                                           None\n",
       "dog_stage                                                     doggo\n",
       "jpg_url           https://pbs.twimg.com/ext_tw_video_thumb/74423...\n",
       "dog_breed                                        Labrador_retriever\n",
       "algo                                                             p1\n",
       "algo_conf                                                  0.825333\n",
       "retweet_count                                                 82658\n",
       "favorite_count                                               162519\n",
       "Name: 683, dtype: object"
      ]
     },
     "execution_count": 240,
     "metadata": {},
     "output_type": "execute_result"
    }
   ],
   "source": [
    "# Highest favorites_count\n",
    "df_master_twitter_data.loc[df_master_twitter_data[\"favorite_count\"].idxmax()]"
   ]
  },
  {
   "cell_type": "markdown",
   "metadata": {},
   "source": [
    "> **Wow, its the same labrador retriever dog (from above) with highest favorite_count.**"
   ]
  },
  {
   "cell_type": "markdown",
   "metadata": {},
   "source": [
    "#### Question 5\n",
    "\n",
    "**What is the reteweet count vs rating relationship**"
   ]
  },
  {
   "cell_type": "code",
   "execution_count": 241,
   "metadata": {},
   "outputs": [
    {
     "data": {
      "image/png": "[encoded data removed]",
      "text/plain": [
       "<matplotlib.figure.Figure at 0x7f9cdeda8400>"
      ]
     },
     "metadata": {
      "needs_background": "light"
     },
     "output_type": "display_data"
    }
   ],
   "source": [
    "#taking the mean of retweet count for each rating\n",
    "rate_retweet=df_master_twitter_data.groupby(\"Rating\")['retweet_count'].mean()\n",
    "rate_retweet.plot(x=\"Rating\", y=\"retweet_count\", kind=\"line\", figsize=(6,4), color=\"green\")\n",
    "plt.title(\"Rating vs retweet_count\")\n",
    "plt.xlabel(\"Rating\")\n",
    "plt.ylabel(\"retweet_count\")\n",
    "plt.show()"
   ]
  },
  {
   "cell_type": "markdown",
   "metadata": {},
   "source": [
    "> **It seems odd that Rating with less than 1 have higher retweet_count at ome peaks, seems to be a parsing issue with wrong rating captured or maybe people maybe like to retweet about non-dog things which have less rating.** \n",
    "\n",
    "> **As a general trend starting from rating 1.0, the retweet_count seems to grow as the ratings gets higher.**"
   ]
  },
  {
   "cell_type": "markdown",
   "metadata": {},
   "source": [
    "#### Question 6\n",
    "\n",
    "**What is the favorite count vs Rating relationship**"
   ]
  },
  {
   "cell_type": "code",
   "execution_count": 242,
   "metadata": {},
   "outputs": [
    {
     "data": {
      "image/png": "[encoded data removed]",
      "text/plain": [
       "<matplotlib.figure.Figure at 0x7f9cdecf32b0>"
      ]
     },
     "metadata": {
      "needs_background": "light"
     },
     "output_type": "display_data"
    }
   ],
   "source": [
    "# taking the mean of favorite_count for each rating\n",
    "rate_fav=df_master_twitter_data.groupby(\"Rating\")['favorite_count'].mean()\n",
    "rate_fav.plot(x=\"Rating\", y=\"favorite_count\", kind=\"line\", figsize=(6,4), color=\"orange\")\n",
    "plt.title(\"Rating vs favorite_count\")\n",
    "plt.xlabel(\"Rating\")\n",
    "plt.ylabel(\"favorite_count\")\n",
    "plt.show()"
   ]
  },
  {
   "cell_type": "markdown",
   "metadata": {},
   "source": [
    "> **It seems odd that Rating with less than 1.0 have higher favorite_count, seems to be a parsing issue with wrong rating captured or maybe people maybe like to favorite  non-dog things which have less rating.** \n",
    "\n",
    "> **As a general trend, starting from rating 1.0 the favorite_count seems to grow as the ratings gets higher.**"
   ]
  },
  {
   "cell_type": "markdown",
   "metadata": {},
   "source": [
    "#### Question 7\n",
    "\n",
    "**What is the most common source.**"
   ]
  },
  {
   "cell_type": "code",
   "execution_count": 243,
   "metadata": {},
   "outputs": [
    {
     "data": {
      "text/plain": [
       "iphone         1636\n",
       "Twitter Web      22\n",
       "TweetDeck         8\n",
       "Name: source, dtype: int64"
      ]
     },
     "execution_count": 243,
     "metadata": {},
     "output_type": "execute_result"
    }
   ],
   "source": [
    "df_master_twitter_data[\"source\"].value_counts()"
   ]
  },
  {
   "cell_type": "code",
   "execution_count": 244,
   "metadata": {},
   "outputs": [
    {
     "data": {
      "image/png": "[encoded data removed]",
      "text/plain": [
       "<matplotlib.figure.Figure at 0x7f9cdee95780>"
      ]
     },
     "metadata": {
      "needs_background": "light"
     },
     "output_type": "display_data"
    }
   ],
   "source": [
    "df_master_twitter_data[\"source\"].value_counts().plot(kind=\"bar\", figsize=(6,4), color=\"red\")\n",
    "plt.title(\"Source count\")\n",
    "plt.xlabel(\"Source\")\n",
    "plt.ylabel(\"count\")\n",
    "#plt.xticks(rotation=45, rotation_mode=\"anchor\", horizontalalignment=\"right\")\n",
    "plt.show()"
   ]
  },
  {
   "cell_type": "markdown",
   "metadata": {},
   "source": [
    "> **iphone seems to be the most common source.**"
   ]
  },
  {
   "cell_type": "markdown",
   "metadata": {},
   "source": [
    "#### Question 8\n",
    "\n",
    "**Which dog stage is most prevalent.**"
   ]
  },
  {
   "cell_type": "code",
   "execution_count": 245,
   "metadata": {},
   "outputs": [
    {
     "data": {
      "text/plain": [
       "None       1407\n",
       "pupper      167\n",
       "doggo        64\n",
       "puppo        21\n",
       "floofer       7\n",
       "Name: dog_stage, dtype: int64"
      ]
     },
     "execution_count": 245,
     "metadata": {},
     "output_type": "execute_result"
    }
   ],
   "source": [
    "df_master_twitter_data[\"dog_stage\"].value_counts()"
   ]
  },
  {
   "cell_type": "markdown",
   "metadata": {},
   "source": [
    "> **Pupper dog_stage seems to be most popular. That tells, people like to send in their puppy pictures more often.**"
   ]
  },
  {
   "cell_type": "markdown",
   "metadata": {},
   "source": [
    "#### Question 9\n",
    "**Which dog stage is most prevalent.**"
   ]
  },
  {
   "cell_type": "code",
   "execution_count": 246,
   "metadata": {},
   "outputs": [
    {
     "data": {
      "image/png": "[encoded data removed]",
      "text/plain": [
       "<matplotlib.figure.Figure at 0x7f9cdee56240>"
      ]
     },
     "metadata": {
      "needs_background": "light"
     },
     "output_type": "display_data"
    },
    {
     "data": {
      "text/plain": [
       "dog_stage\n",
       "doggo      1.182812\n",
       "floofer    1.200000\n",
       "pupper     1.086228\n",
       "puppo      1.195238\n",
       "Name: Rating, dtype: float64"
      ]
     },
     "execution_count": 246,
     "metadata": {},
     "output_type": "execute_result"
    }
   ],
   "source": [
    "rate_dogstage=df_master_twitter_data.groupby(\"dog_stage\")['Rating'].mean()\n",
    "\n",
    "rate_dogstage[1:5].plot(x=\"dog_stage\", y=\"Rating\", kind=\"bar\", figsize=(6,4), color=\"orange\")\n",
    "plt.title(\"Rating vs dog_stage\")\n",
    "plt.xlabel(\"dog_stage\")\n",
    "plt.ylabel(\"Rating\")\n",
    "plt.xticks(rotation=45, rotation_mode=\"anchor\", horizontalalignment=\"right\")\n",
    "plt.show()\n",
    "rate_dogstage[1:5]"
   ]
  },
  {
   "cell_type": "markdown",
   "metadata": {},
   "source": [
    "> **Floofer dog_stage seems to have highest rating overall.**"
   ]
  }
 ],
 "metadata": {
  "kernelspec": {
   "display_name": "Python 3",
   "language": "python",
   "name": "python3"
  },
  "language_info": {
   "codemirror_mode": {
    "name": "ipython",
    "version": 3
   },
   "file_extension": ".py",
   "mimetype": "text/x-python",
   "name": "python",
   "nbconvert_exporter": "python",
   "pygments_lexer": "ipython3",
   "version": "3.6.3"
  }
 },
 "nbformat": 4,
 "nbformat_minor": 2
}
